{
 "cells": [
  {
   "cell_type": "markdown",
   "metadata": {},
   "source": [
    "## Hartree Fock en el átomo de Helio\n"
   ]
  },
  {
   "cell_type": "code",
   "execution_count": 5,
   "metadata": {
    "collapsed": true
   },
   "outputs": [],
   "source": [
    "import numpy as np"
   ]
  },
  {
   "cell_type": "markdown",
   "metadata": {},
   "source": [
    "\n",
    "\n",
    "En este laboratorio vamos a implementar una rutina que permita obtener\n",
    "la energía hartree-fock del átomo de helio a través de las ecuaciones\n",
    "de Roothaan. Para eso vamos a expresar el orbital 1s del helio en terminos\n",
    "de dos funciones bases:\n",
    "\n",
    "\\begin{equation}\n",
    "\\phi_1(r) = 2\\alpha_1^{3/2}e^{-\\alpha_1 r}Y^0_0, \\qquad \\phi_2(r) = 2\\alpha_2^{3/2}*e^{-\\alpha_2 r}Y^0_0,\n",
    "\\end{equation}\n",
    "\n",
    "Los exponentes $ \\alpha $ son:\n",
    "\n",
    "\\begin{equation}\n",
    "\\alpha_1 = 1.40 \\qquad \\alpha_2 = 2.90\n",
    "\\end{equation}"
   ]
  },
  {
   "cell_type": "code",
   "execution_count": 6,
   "metadata": {
    "collapsed": true
   },
   "outputs": [],
   "source": [
    "#alpha_1 = 1.45\n",
    "#alpha_2 = 2.91\n",
    "\n",
    "alpha_1 = 1.453\n",
    "alpha_2 = 2.911"
   ]
  },
  {
   "cell_type": "markdown",
   "metadata": {},
   "source": [
    "# Paso 0: Formar matrices $H^{core}$ y de Solapamiento\n",
    "\n",
    "El primer paso para el calculo Hartree-Fock-Roothaan es calcular la matriz de solapamiento($S_{\\mu\\nu}$)\n",
    "y del Hamiltoniano de core ($H^{core}_{\\mu\\nu}$):\n",
    "\n",
    "Es fácil verificar que la integral de solpamiento esta dada por:\n",
    "\n",
    "\\begin{equation}\n",
    "S_{12} = S_{21} = \\frac{8\\alpha_1^{3/2}\\alpha_2^{3/2}}{(\\alpha_1+\\alpha_2)^3}\n",
    "\\end{equation}\n",
    "\n",
    "y\n",
    "\\begin{equation}\n",
    "S_{11} = S_{22} = 1\n",
    "\\end{equation}\n"
   ]
  },
  {
   "cell_type": "code",
   "execution_count": 7,
   "metadata": {
    "collapsed": false
   },
   "outputs": [],
   "source": [
    "S_12 = (8.0*alpha_1**(3./2.)*alpha_2**(3./2.))/(alpha_1+alpha_2)**(3.0)\n",
    "S_21 = S_12\n",
    "S_11 = 1\n",
    "S_22 = S_11\n",
    "\n",
    "S = np.array = ([[S_11,S_12],[S_21,S_22]])"
   ]
  },
  {
   "cell_type": "markdown",
   "metadata": {},
   "source": [
    "Los elemento diagonales del Hamiltoniano de core estan dado por:\n",
    "\n",
    "\\begin{equation}\n",
    "H_{ii} =  0.5\\alpha_i^2 - 2\\alpha_i \n",
    "\\end{equation}\n",
    "\n",
    "y los elementos fuera de la diagonal son:\n",
    "\n",
    "\\begin{equation}\n",
    "H_{12} = H_{21} = \\frac{\\alpha_1^{3/2}\\alpha_2^{3/2}(4\\alpha_1\\alpha_2 - 8\\alpha_1-8\\alpha_2)}{(\\alpha_1 + \\alpha_2)^3}\n",
    "\\end{equation}\n"
   ]
  },
  {
   "cell_type": "code",
   "execution_count": 8,
   "metadata": {
    "collapsed": true
   },
   "outputs": [],
   "source": [
    "H_11 = 0.5*alpha_1**2 - 2*alpha_1\n",
    "H_22 = 0.5*alpha_2**2 - 2*alpha_2\n",
    "H_12 = 4*alpha_1**(3./2.)*alpha_2**(3./2.)*(alpha_1*alpha_2 - 2.0*alpha_1 - 2.0*alpha_2)/(alpha_1+alpha_2)**3.\n",
    "H_21 = H_12\n",
    "H = np.array = ([[H_11,H_12],[H_21,H_22]])\n"
   ]
  },
  {
   "cell_type": "markdown",
   "metadata": {},
   "source": [
    "Para poder calcular la matriz de Fock, necesitamos calcular las integrales de dos electrones:\n",
    "\n",
    "# Paso 1: Calcular las integrales de repulsión electrónica (ERI)\n",
    "\n",
    "Determine las integrales únicas $<\\mu\\lambda|\\nu\\sigma>$  de dos electrones para el átomo de He con dos funciones base, y guardelas en un tensor de cuatro indices ERI.\n",
    "\n"
   ]
  },
  {
   "cell_type": "code",
   "execution_count": 16,
   "metadata": {
    "collapsed": true
   },
   "outputs": [],
   "source": [
    "# Integrales de dos electrones:\n",
    "eri1=5./8.*alpha_1 #<11|11>\n",
    "eri2=5./8.*alpha_2 #<22|22>\n",
    "eri3=(alpha_1**4*alpha_2+4*alpha_1**3*alpha_2**2+4*alpha_1**2*alpha_2**3+alpha_1*alpha_2**4)/(alpha_1+alpha_2)**4 #<12|12 >\n",
    "eri4=20*alpha_1**3*alpha_2**3/(alpha_1+alpha_2)**5 #<11|22>\n",
    "eri5=16*alpha_1**(9./2.)*alpha_2**(3./2.)/(3*alpha_1+alpha_2)**4*((12*alpha_1+8*alpha_2)/(alpha_1+alpha_2)**2+(9.*alpha_1+alpha_2)/(2.*alpha_1**2))#<11|12>\n",
    "eri6=16*alpha_2**(9./2.)*alpha_1**(3./2.)/(3*alpha_2+alpha_1)**4*((12*alpha_2+8*alpha_1)/(alpha_2+alpha_1)**2+(9.*alpha_2+alpha_1)/(2.*alpha_2**2))#<22|21>\n",
    "ERI=np.empty([2,2,2,2])\n",
    "ERI[0][0][0][0] = eri1\n",
    "ERI[0][0][0][1] = eri2\n",
    "    # Construción del tensor de dos electrones\n"
   ]
  },
  {
   "cell_type": "markdown",
   "metadata": {},
   "source": [
    "\n",
    "# Paso 2: Construir la matriz de transformción\n",
    "\n",
    "Para poder emepzar con la iteración, debemos pasar a la base ortogonal de las funciones base y así tratar\n",
    "la ecuación matricial de Hartree-Fock-Roothaan como un problema de valores propios. Procedemos a diagonalizar la matriz de solapamiento y obtener la matriz diagonal s.\n",
    "\n",
    "\n",
    "\\begin{equation}\n",
    "\\Large\n",
    "\\mathbf{s} = \\mathbf{U^{\\dagger}}\\mathbf{S}\\mathbf{U}\n",
    "\\end{equation}\n",
    "\n",
    "\n",
    "Ahora que es una matriz diagonal, le podemos calcular el inverso de la raiz cuadrada: $\\quad\\mathbf{s^{-1/2}}$\n",
    "\n",
    "\n",
    "Finalmente construimos la matriz de transformación de base $ \\mathbf{S^{-1/2}} $ en \n",
    "la base original, utilizando la matriz de vecotres propios $\\mathbf{U}$ de \n",
    "transformación de base.\n",
    "\n",
    "\\begin{equation}\n",
    "\\Large\n",
    "\\mathbf{S^{-1/2}} = \\mathbf{U}\\mathbf{s^{-1/2}}\\mathbf{U^{\\dagger}}\n",
    "\\end{equation}"
   ]
  },
  {
   "cell_type": "code",
   "execution_count": null,
   "metadata": {
    "collapsed": true,
    "scrolled": true
   },
   "outputs": [],
   "source": []
  },
  {
   "cell_type": "markdown",
   "metadata": {
    "collapsed": true
   },
   "source": [
    "# Paso 3: Construir la matriz de Fock inicial y encontrar la matriz de coeficientes en la base ortogonal\n",
    "\n",
    "Ahora podemos formar la matriz de Fock, que en la primer iteración es la matriz del Hamiltoniano\n",
    "core:\n",
    "\n",
    "\n",
    "\n",
    "\\begin{equation}\n",
    "\\Large\n",
    "\\mathbf{F} = \\mathbf{H^{core}}\n",
    "\\end{equation}\n",
    "\n",
    "Para poder solucionar el problema de valores propios debemos transformar la matriz de Fock\n",
    "a la base de orbitales ortogonales:\n",
    "\n",
    "\n",
    "\n",
    "\\begin{equation}\n",
    "\\Large\n",
    "\\mathbf{F^{'}} = \\mathbf{S^{\\dagger -1/2}}\\mathbf{F}\\mathbf{S^{-1/2}}\n",
    "\\end{equation}\n",
    "\n",
    "\n",
    "En esta base se cumple que:\n",
    "\n",
    "\n",
    "\n",
    "\\begin{equation}\n",
    "\\Large\n",
    "\\mathbf{F^{'}C^{'}} = \\mathbf{C^{'}\\epsilon}\n",
    "\\end{equation}\n",
    "\n",
    "\n"
   ]
  },
  {
   "cell_type": "code",
   "execution_count": null,
   "metadata": {
    "collapsed": true
   },
   "outputs": [],
   "source": []
  },
  {
   "cell_type": "code",
   "execution_count": null,
   "metadata": {
    "collapsed": true
   },
   "outputs": [],
   "source": []
  },
  {
   "cell_type": "markdown",
   "metadata": {},
   "source": [
    "# Paso 4: Volver a la base original y formar la matriz de Densidad inicial:\n",
    "\n",
    "Para obtener los coeficientes en la base original debemos transformar de vuelta, utilizando la matriz \n",
    "de transformación simétrica:\n",
    "\n",
    "\\begin{equation}\n",
    "\\Large\n",
    "\\mathbf{C} = \\mathbf{S^{-1/2}}\\mathbf{C^{'}}\n",
    "\\end{equation}\n",
    "\n",
    "\n",
    "Con los coeficientes en la base original, es posible caluclar la matriz densidad. Nótese \n",
    "que la suma para construir la matriz densidad es sobre los electrones y no sobre las funciones base:\n",
    "\n",
    "\n",
    "\\begin{equation}\n",
    "\\Large\n",
    "D_{\\mu\\nu} = 2\\sum_{i=1}^{N/2} C_{\\mu i}C_{\\nu i} \n",
    "\\end{equation}\n"
   ]
  },
  {
   "cell_type": "code",
   "execution_count": null,
   "metadata": {
    "collapsed": true
   },
   "outputs": [],
   "source": []
  },
  {
   "cell_type": "code",
   "execution_count": null,
   "metadata": {
    "collapsed": true
   },
   "outputs": [],
   "source": []
  },
  {
   "cell_type": "markdown",
   "metadata": {},
   "source": [
    "# Paso 5: Calcular la energía HF inicial\n",
    "\n",
    "\n",
    "Ahora podemos calcular la energía Hartree-Fock inicial:\n",
    "\n",
    "\\begin{equation}\n",
    "\\Large\n",
    "E_{HF} = 0.5\\sum_{\\mu \\nu}^{AO} D_{\\mu \\nu}(H_{\\mu \\nu} + F_{\\mu \\nu})\n",
    "\\end{equation}"
   ]
  },
  {
   "cell_type": "code",
   "execution_count": null,
   "metadata": {
    "collapsed": true
   },
   "outputs": [],
   "source": []
  },
  {
   "cell_type": "markdown",
   "metadata": {},
   "source": [
    "Con los coeficientes nuevos podemos construir la matriz de Fock inicial, esta vez utliziando las integrales de repulsión electrónica: \n",
    "\n",
    "\\begin{equation}\n",
    "\\Large\n",
    "F_{\\lambda \\sigma} = \\sum_{\\mu \\nu}^{AO} H_{\\mu \\nu} + D_{\\mu \\nu}(<\\mu\\sigma|\\nu\\lambda> - 0.5<\\mu\\sigma|\\lambda\\nu>)\n",
    "\\end{equation}\n"
   ]
  },
  {
   "cell_type": "code",
   "execution_count": null,
   "metadata": {
    "collapsed": true
   },
   "outputs": [],
   "source": []
  },
  {
   "cell_type": "markdown",
   "metadata": {},
   "source": [
    "# Paso 5: Calcular la matriz de Fock nueva y repetri los pasos anterioes\n",
    "\n",
    "Con esta matriz de Fock repetimos los pasos anteriores para obtener una nueva energía electrónica:"
   ]
  },
  {
   "cell_type": "code",
   "execution_count": null,
   "metadata": {
    "collapsed": true
   },
   "outputs": [],
   "source": [
    "\n"
   ]
  },
  {
   "cell_type": "markdown",
   "metadata": {},
   "source": [
    "# Paso 6: Iterar hasta alcanzar la convergencia:\n",
    "Finalmente, iteramos hasta alcanzar convergencia."
   ]
  },
  {
   "cell_type": "code",
   "execution_count": 18,
   "metadata": {
    "collapsed": true
   },
   "outputs": [],
   "source": [
    "i = 1\n",
    "E_thresh = 1e-8"
   ]
  },
  {
   "cell_type": "code",
   "execution_count": null,
   "metadata": {
    "collapsed": true
   },
   "outputs": [],
   "source": []
  },
  {
   "cell_type": "code",
   "execution_count": null,
   "metadata": {
    "collapsed": true
   },
   "outputs": [],
   "source": []
  }
 ],
 "metadata": {
  "kernelspec": {
   "display_name": "Python [default]",
   "language": "python",
   "name": "python2"
  },
  "language_info": {
   "codemirror_mode": {
    "name": "ipython",
    "version": 2
   },
   "file_extension": ".py",
   "mimetype": "text/x-python",
   "name": "python",
   "nbconvert_exporter": "python",
   "pygments_lexer": "ipython2",
   "version": "2.7.12"
  }
 },
 "nbformat": 4,
 "nbformat_minor": 2
}
