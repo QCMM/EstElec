{
 "cells": [
  {
   "cell_type": "markdown",
   "metadata": {},
   "source": [
    "## \"Teoría\" de orbitales moleculares\n",
    "\n",
    "Los químicos se refieren a las funciones propias del operador de Fock que \n",
    "se obtienen al intrimport psi4\n",
    "import numpy as npoducir una base atómica, como **orbitales moleculares**.\n",
    "Están dados por la ecuación:\n",
    "\\begin{equation}\n",
    "\\phi_i(r) = \\sum_{\\nu}^{AO} C_{\\nu i}\\psi_\\nu(r)\n",
    "\\end{equation}\n",
    "Es decir son una combinación lineal de un set de funciones base ${\\psi_i}$ \n",
    "centradas sobre los distintos átomos que componen una molécula. Los coeficientes\n",
    "de expansion se obtienen al resolver la ecuación Matricial de psuedo-valores propios Hartree-Fock-Roothaan\n",
    "de manera iterativa para minimizar el valor esperado de la energía. Estos coeficientes \n",
    "son claves al momento de explicar la reactivadad de moleculas, como vamos a descubir en este\n",
    "laboratorio.\n",
    "\n",
    "En la tarea pasada escribimos un algoritmo que permite obtener la energía HF para moleculas, utilizando\n",
    "las librerias de integrals MintsHelper que es parte del paquete de programas Psi4. Afortunadamente \n",
    "el modulo Psi4 de python permite acceder a las distinatas matrices que resultan de un calculo SCF.\n",
    "Para eso primero debemos importar el modulo psi4:"
   ]
  },
  {
   "cell_type": "code",
   "execution_count": null,
   "metadata": {},
   "outputs": [],
   "source": [
    "import psi4\n",
    "import numpy as np\n",
    "np.set_printoptions(precision=3, suppress=True)"
   ]
  },
  {
   "cell_type": "markdown",
   "metadata": {},
   "source": [
    "Luego debemos fijar la memory que usa Psi4 y numpy"
   ]
  },
  {
   "cell_type": "code",
   "execution_count": 1,
   "metadata": {},
   "outputs": [
    {
     "ename": "NameError",
     "evalue": "name 'psi4' is not defined",
     "output_type": "error",
     "traceback": [
      "\u001b[0;31m---------------------------------------------------------------------------\u001b[0m",
      "\u001b[0;31mNameError\u001b[0m                                 Traceback (most recent call last)",
      "\u001b[0;32m<ipython-input-1-be91b0ba61eb>\u001b[0m in \u001b[0;36m<module>\u001b[0;34m()\u001b[0m\n\u001b[1;32m      1\u001b[0m \u001b[0;31m# ==> Opciones Básicas Psi4 <==\u001b[0m\u001b[0;34m\u001b[0m\u001b[0;34m\u001b[0m\u001b[0m\n\u001b[1;32m      2\u001b[0m \u001b[0;31m# Memoria\u001b[0m\u001b[0;34m\u001b[0m\u001b[0;34m\u001b[0m\u001b[0m\n\u001b[0;32m----> 3\u001b[0;31m \u001b[0mpsi4\u001b[0m\u001b[0;34m.\u001b[0m\u001b[0mset_memory\u001b[0m\u001b[0;34m(\u001b[0m\u001b[0mint\u001b[0m\u001b[0;34m(\u001b[0m\u001b[0;36m5e8\u001b[0m\u001b[0;34m)\u001b[0m\u001b[0;34m)\u001b[0m\u001b[0;34m\u001b[0m\u001b[0m\n\u001b[0m\u001b[1;32m      4\u001b[0m \u001b[0mnumpy_memory\u001b[0m \u001b[0;34m=\u001b[0m \u001b[0;36m500\u001b[0m\u001b[0;34m\u001b[0m\u001b[0m\n",
      "\u001b[0;31mNameError\u001b[0m: name 'psi4' is not defined"
     ]
    }
   ],
   "source": [
    "# ==> Opciones Básicas Psi4 <==\n",
    "# Memoria\n",
    "psi4.set_memory(int(5e8))\n",
    "numpy_memory = 500"
   ]
  },
  {
   "cell_type": "markdown",
   "metadata": {},
   "source": [
    "Ahora podemos fijar la geometria de la molecula que deseamos analizar (¿En qué plano está la molecula¿):"
   ]
  },
  {
   "cell_type": "code",
   "execution_count": 27,
   "metadata": {
    "collapsed": true
   },
   "outputs": [],
   "source": [
    "# Output\n",
    "psi4.core.set_output_file('output.dat', False)\n",
    "\n",
    "\n",
    "mol = psi4.geometry(\"\"\"\n",
    "0 1\n",
    "O  0.00000000 0.0000000  0.00000000\n",
    "H  1.13654891 0.0000000  1.63803697\n",
    "H  1.13654891 0.0000000 -1.63803697\n",
    "symmetry c1\n",
    "\"\"\")"
   ]
  },
  {
   "cell_type": "markdown",
   "metadata": {},
   "source": [
    "Hasta ahora no hemos hecho ningun calculo, solamente fijamos parametros iniciales de la molécula. Ahora podemos \n",
    "hacer un calculo SCF del agua y guardar tanto la energía como el función de onda. También voy a imprimer los \n",
    "tipos de la energía y wfn para que sepan de que tipo de objeto se trata."
   ]
  },
  {
   "cell_type": "code",
   "execution_count": 28,
   "metadata": {},
   "outputs": [
    {
     "name": "stdout",
     "output_type": "stream",
     "text": [
      "<type 'float'>\n",
      "<class 'psi4.core.RHF'>\n"
     ]
    }
   ],
   "source": [
    "en, wfn = psi4.energy('scf/sto-3g', return_wfn = True)\n",
    "print type(en)\n",
    "print type(wfn)"
   ]
  },
  {
   "cell_type": "markdown",
   "metadata": {},
   "source": [
    "Como puden ver se trata una clase psi4.core.RHF, para revisar todos los distintos atribitos que tiene la clase puede ir a: http://www.psicode.org/psi4manual/master/api/psi4.core.RHF.html. Notese que la celda anterior hace \n",
    "un calculo HF completo! Por lo tanto puede demorarse en ejecutarse, dependiendo del tamaño de la molecula y función base."
   ]
  },
  {
   "cell_type": "markdown",
   "metadata": {},
   "source": [
    "# Ejercicio 1: \n",
    "\n",
    "a) Obtenga la energía de la molecula, la energía de los orbitales y los coeficientes del orbital HOMO.\n",
    "\n",
    "b) Guarde la matriz de los coeficientes de los orbitales ocupados en un array numpy e imprima la matriz redondeando los coeficientes a 3 decimas."
   ]
  },
  {
   "cell_type": "code",
   "execution_count": 29,
   "metadata": {},
   "outputs": [
    {
     "name": "stdout",
     "output_type": "stream",
     "text": [
      "[[ 0.995  0.261 -0.     0.022 -0.   ]\n",
      " [ 0.02  -1.019 -0.    -0.104  0.   ]\n",
      " [ 0.     0.001  0.     0.793 -0.   ]\n",
      " [ 0.     0.     1.    -0.    -0.   ]\n",
      " [-0.    -0.     0.     0.     0.565]\n",
      " [-0.001 -0.048  0.     0.393  0.548]\n",
      " [-0.001 -0.048  0.     0.393 -0.548]]\n"
     ]
    }
   ],
   "source": []
  },
  {
   "cell_type": "markdown",
   "metadata": {},
   "source": [
    "La matriz de coefiecientes nos entrga la información de como están construidos los \n",
    "obritales moleculares a partir de la base atómica. Un ojo muy adiestrado puede de inmediato decir de que\n",
    "molecula se trata solamente la matriz de coeficientes.¿Qué pueden inferir usteds de la matriz de los coeficientes?\n",
    "\n",
    "El químico comun y corriente tiene una inteligencia más... ehm... visual, por eso conviene muchas veces \n",
    "visualizar los distintos orbitales. La mayoría de las veces lo que se hace es calcular la función (1) sobre una grilla utlizando los coeficientes de los orbitales y visualizar isosuperficies, es decir superficies de puntos que tienen igual densidad. Sin embargo nosotros vamos a graficar los funciones de fock en diferentes planos moleculares, similar a lo que hicimos con el átomo de Helio.\n",
    "\n",
    "Primero tenemos que definir una grilla sobre la cual vamos a graficar los orbitales, y guardar las coordenadas de los núecleos en un array de numpy."
   ]
  },
  {
   "cell_type": "code",
   "execution_count": 33,
   "metadata": {},
   "outputs": [
    {
     "name": "stdout",
     "output_type": "stream",
     "text": [
      "[[ 0.     0.    -0.24 ]\n",
      " [ 0.     3.095  1.907]\n",
      " [ 0.    -3.095  1.907]]\n"
     ]
    }
   ],
   "source": [
    "#Coordenadas XYZ\n",
    "XYZ = np.asarray(mol.geometry())\n",
    "print XYZ\n",
    "# Notese que el programa movio la molecula al plano yz por lo que hay que \n",
    "# hacer una grilla en el plano yz. \n",
    "\n",
    "# Grilla para graficar el orbital\n",
    "xyz = [0.0, np.linspace(-8.0,8.0,100),np.linspace(-8.0,8.0,100)]\n",
    "Y1,Z1 = np.meshgrid(xyz[1], xyz[2])\n",
    "xyz_1 = [0.00,Y1,Z1] \n",
    "\n"
   ]
  },
  {
   "cell_type": "markdown",
   "metadata": {},
   "source": [
    "Ahora debemos definir las funciones necesarias para calcular las funciones bases. (Vease lab de funciones bases)"
   ]
  },
  {
   "cell_type": "code",
   "execution_count": 34,
   "metadata": {
    "collapsed": true
   },
   "outputs": [],
   "source": [
    "from scipy.special import factorial2\n",
    "\n",
    "def r_R(x,y,z,X,Y,Z):\n",
    "    return (np.sqrt((x-X)**2+(y-Y)**2+(z-Z)**2))\n",
    "\n",
    "def N(alpha,a,b,c):\n",
    "    return (2.0/np.pi)**(0.75)*(2.0**(a+b+c)*alpha**((2.0*a+2.0*b+2.0*c+3.0)/4.0))/(factorial2(2*a-1)*factorial2(2*b-1)*factorial2(2*c-1))**(0.5)\n",
    "\n",
    "def GTO(alpha,xyz,XYZ,a,b,c):\n",
    "    return N(alpha,a,b,c)*(xyz[0]**a)*(xyz[1]**b)*(xyz[2]**c)*np.exp(-alpha*(r_R(xyz[0],xyz[1],xyz[2],XYZ[0],XYZ[1],XYZ[2])**2.0))\n",
    "\n",
    "def sto_xg(alpha_l,c_l,xyz,XYZ,a,b,c,*argv):\n",
    "    sto = 0.0\n",
    "    for i in range(len(c_l)):\n",
    "        sto += c_l[i]*GTO(alpha_l[i],xyz,XYZ,a,b,c)\n",
    "    return sto\n"
   ]
  },
  {
   "cell_type": "markdown",
   "metadata": {},
   "source": [
    "Finalmente podemos construir el orbital molecular a partir de los coeficientes dados en la \n",
    "matriz de coeficientes:"
   ]
  },
  {
   "cell_type": "code",
   "execution_count": 36,
   "metadata": {
    "collapsed": true
   },
   "outputs": [],
   "source": [
    "def MO(xyz,XYZ,coef):\n",
    "    _1s_H_exp = [3.42525091,0.62391373, 0.16885540]\n",
    "    _1s_H_coef = [0.15432897,0.53532814, 0.44463454]\n",
    "\n",
    "    _1s_O_exp = [130.7093200,23.808610, 6.4436083]\n",
    "    _1s_O_coef = [0.15432897,0.53532814, 0.44463454]\n",
    "\n",
    "    _2s_O_exp = [5.0331513,1.1695961, 0.3803890]\n",
    "    _2s_O_coef = [-0.09996723,0.39951283,0.70011547]\n",
    "\n",
    "    _2p_O_exp = [5.0331513,1.1695961, 0.3803890]\n",
    "    _2p_O_coef = [0.155591627,0.60768372,0.39195739]\n",
    "    return coef[0]*sto_xg(_1s_O_exp,_1s_O_coef,xyz,XYZ[0],0,0,0) + coef[1]*sto_xg(_2s_O_exp,_2s_O_coef,xyz,XYZ[0],0,0,0) + coef[2]*sto_xg(_2p_O_exp,_2p_O_coef,xyz,XYZ[0],0,0,1)+coef[3]*sto_xg(_2p_O_exp,_2p_O_coef,xyz,XYZ[0],1,0,0) + coef[4]*sto_xg(_2p_O_exp,_2p_O_coef,xyz,XYZ[0],0,1,0) + coef[5]*sto_xg(_1s_H_exp,_1s_H_coef,xyz,XYZ[1],0,0,0) + coef[6]*sto_xg(_1s_H_exp,_1s_H_coef,xyz,XYZ[2],0,0,0)\n"
   ]
  },
  {
   "cell_type": "markdown",
   "metadata": {},
   "source": [
    "Notese lo artesanal que esta construida esta función.  Solamente se puede usar para el caso particular que \n",
    "estamos viendo. Ahora lo último que necesitamos es tener una función que nos grafique la función sobre la grilla que definimos. "
   ]
  },
  {
   "cell_type": "code",
   "execution_count": 40,
   "metadata": {},
   "outputs": [],
   "source": [
    "from mpl_toolkits.mplot3d import Axes3D\n",
    "from matplotlib import cm\n",
    "from matplotlib.ticker import LinearLocator, FormatStrFormatter\n",
    "import matplotlib.pyplot as plt\n",
    "%matplotlib inline\n",
    "\n",
    "def plot_3D(xyz,XYZ,coef,func):\n",
    "    fig = plt.figure()\n",
    "    ax = fig.gca(projection='3d')\n",
    "    surf = ax.plot_surface(xyz[1],xyz[2],func(xyz,XYZ,coef), cmap=cm.coolwarm,\n",
    "                              linewidth=0, antialiased=False)"
   ]
  },
  {
   "cell_type": "markdown",
   "metadata": {},
   "source": [
    "# Ejercicio 2\n",
    "\n",
    "Grafique los orbitales ocupados del $H_2O$. ¿Que puede concluir sobre el enlace químico?"
   ]
  },
  {
   "cell_type": "code",
   "execution_count": null,
   "metadata": {},
   "outputs": [],
   "source": []
  },
  {
   "cell_type": "markdown",
   "metadata": {},
   "source": [
    "# Bonus Track\n",
    "\n",
    "Calcule las cargas de Mulliken sobre los átomos"
   ]
  },
  {
   "cell_type": "code",
   "execution_count": null,
   "metadata": {
    "collapsed": true
   },
   "outputs": [],
   "source": []
  }
 ],
 "metadata": {
  "kernelspec": {
   "display_name": "Python 2",
   "language": "python",
   "name": "python2"
  },
  "language_info": {
   "codemirror_mode": {
    "name": "ipython",
    "version": 2
   },
   "file_extension": ".py",
   "mimetype": "text/x-python",
   "name": "python",
   "nbconvert_exporter": "python",
   "pygments_lexer": "ipython2",
   "version": "2.7.14"
  }
 },
 "nbformat": 4,
 "nbformat_minor": 2
}
