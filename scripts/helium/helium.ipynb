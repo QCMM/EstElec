{
 "cells": [
  {
   "cell_type": "code",
   "execution_count": 31,
   "metadata": {
    "collapsed": true
   },
   "outputs": [],
   "source": [
    "from mpl_toolkits.mplot3d import Axes3D\n",
    "from matplotlib import cm\n",
    "from matplotlib.ticker import LinearLocator, FormatStrFormatter\n",
    "import matplotlib.pyplot as plt\n",
    "import numpy as np\n",
    "import sys\n",
    "%matplotlib inline"
   ]
  },
  {
   "cell_type": "markdown",
   "metadata": {
    "collapsed": true
   },
   "source": [
    "## El átomo de helio y la correlación electrónica\n",
    "\n",
    "La clase pasada encontramos una función de onda variacional para el átomo de \n",
    "helio en su estado fundamental. Constriumos la función de onda mediante funciones propias del átomo de hidrógeno y un parametro variacional $ \\zeta $. La función de onda  normalizada es: \n",
    "\n",
    "<center> $ \\Psi_0(r1,r2) = \\frac{1}{\\pi}\\zeta^3e^{-\\zeta(r1+r2)} $\n",
    "\n",
    "Utilizando el método variacional, determinamos que:\n",
    "\n",
    "$ \\zeta = 1.6875 $\n",
    "\n",
    "En la siguiente celda se definen la función de onda variacional en cordenadas cartesianas:"
   ]
  },
  {
   "cell_type": "code",
   "execution_count": 33,
   "metadata": {
    "collapsed": true
   },
   "outputs": [],
   "source": [
    "zeta = 1.6875"
   ]
  },
  {
   "cell_type": "code",
   "execution_count": 35,
   "metadata": {
    "collapsed": true
   },
   "outputs": [],
   "source": [
    "def r(x,y,z):\n",
    "    return np.sqrt(x**2+y**2+z**2)"
   ]
  },
  {
   "cell_type": "code",
   "execution_count": 37,
   "metadata": {
    "collapsed": true
   },
   "outputs": [],
   "source": [
    "def cart_1s(x1,y1,z1, x2,y2,z2,zeta):\n",
    "    return (1/np.pi)*(zeta**3)*np.exp(-zeta*(r(x1,y1,z1)+r(x2,y2,z2)))"
   ]
  },
  {
   "cell_type": "markdown",
   "metadata": {
    "collapsed": true
   },
   "source": [
    "En el caso del hidrógeno determinamos que el máximo de la distribción de probabilidad se encuentra sobre el nucleo formando la cúspide electrón-núcleo. Lo que interesa al \n",
    "estudiar el átomo de helio, es el efecto del segundo electrón en la función de onda. \n",
    "\n",
    "Al calcular la energía de la función de onda variacional del helio, utlizamos el Hamiltoniano exacto:\n",
    "\n",
    "<center> $ \\hat{H} = -\\frac{1}{2}\\nabla_1 - \\frac{1}{2}\\nabla_2 - \\frac{Z}{r_1} - \\frac{Z}{r_2} + \\frac{1}{r_{12}} $ </center>\n",
    "\n",
    "Por lo tanto considermos la contribución a la energía de la energía cinética de los \n",
    "electrónes, la atracción coulombica núcleo-electrón, y la repulsión coulombica entre las\n",
    "**distribuciones de carga** del electron 1 y el electron 2.\n",
    "\n",
    "Lo que nos interesa en esté laboratorio es estudiar el efecto de un electron sobre el otro. Intuitivamente uno tiende a pensar que al fijar las coordenadas del electron 2 en algún punto en el espacio, la probabilidad de encontrar el electron 1 en las vecindades del electron 2 deberian disminuir. \n",
    "\n",
    "La función de onda del helio es una función de $ {\\rm I\\!R }^6 \\rightarrow {\\rm I\\!R } $,\n",
    "lo que hace imposible graficarla en toda su gloria y majestad. Por lo tanto para poder \n",
    "entender la física detras de la función de onda, vamos a graficar cortes a través de ella. Para eso vamos a fijar las coordenadas del electron 2  en (0.2,0.0,0.0) es decir a 0.2 bohr \n",
    "del núcleo en el eje X. "
   ]
  },
  {
   "cell_type": "code",
<<<<<<< HEAD
   "execution_count": null,
=======
   "execution_count": 9,
>>>>>>> f37746f4567c146a363fd6d8124211cbb9055360
   "metadata": {
    "collapsed": true
   },
   "outputs": [],
   "source": [
    "x1 = np.linspace(-4,4,2000)\n",
    "y1 = np.linspace(-4,4,2000)\n",
    "z1 = 0.0\n",
    "X1,Y1 = np.meshgrid(x1, y1)\n",
    "\n",
    "x2 = 0.8\n",
    "z2 = 0.0\n",
    "y2 = 0.0"
   ]
  },
  {
   "cell_type": "markdown",
   "metadata": {
    "collapsed": true
   },
   "source": [
    "Vamos a definr una función que nos permita graficar superficies:"
   ]
  },
  {
   "cell_type": "code",
   "execution_count": 41,
   "metadata": {
    "collapsed": true
   },
   "outputs": [],
   "source": [
    "def plot_3D_cart(X,Y,z,x1,y1,z1,ze,func):\n",
    "    fig = plt.figure()\n",
    "    ax = fig.gca(projection='3d')\n",
    "    surf = ax.plot_surface(X, Y, func(X,Y,z,x1,y1,z1,ze), cmap=cm.coolwarm,\n",
    "                              linewidth=0, antialiased=False)\n",
    "\n",
    "    # Customize the z axis.\n",
    "    ax.zaxis.set_major_locator(LinearLocator(10))\n",
    "    ax.zaxis.set_major_formatter(FormatStrFormatter('%.02f'))\n",
    "\n",
    "    # Add a color bar which maps values to colors.\n",
    "    fig.colorbar(surf, shrink=0.5, aspect=5)\n"
   ]
  },
  {
   "cell_type": "markdown",
   "metadata": {
    "collapsed": true
   },
   "source": [
    "Ahora podemos visulizar la función de onda del helio con el electron 2 fijo en (0.2,0.0,0.0):"
   ]
  },
  {
   "cell_type": "code",
   "execution_count": null,
   "metadata": {
    "collapsed": false
   },
   "outputs": [],
   "source": [
    "plot_3D_cart(X1,Y1,z1,x2,y2,z2,zeta,cart_1s)"
   ]
  },
  {
   "cell_type": "markdown",
   "metadata": {},
   "source": [
    "Se puede apreciar que la función de onda no se ve afectada por la presencia del segundo electron, ya que es cualitativamente muy similar a la función de onda del hidrógeno con un \n",
    "con un electrón en el plano xy (Se puede verificar al cambiar la coordenada del electron 2 y graficar de nuevo). Sin embargo al mirar la expresión de la función de onda más detalladamente se puede observar que el valor no es afectado por la posición relativa de los electrones y solamente por sus posiciones con respecto al núcleo. \n",
    "\n",
    "Es por eso que una buena estratégia para construir una funcion de onda correlacionada, es \n",
    "incluir una tercera variable en la función de onda que es la distancia interelectrónica:\n",
    "\n",
    "<center>$ \\Psi = \\Psi(r_1,r_2,r_{12}) $ \n",
    "\n",
    "¿Pero como se incluye la distancia interelectrónica en la función de onda?\n",
    "\n",
    "En la funcón de onda exacta, la densidad de probabilidad deberia ser más grande cuando los electrones están \n",
    "alejados. Por lo tanto Hylleraas en 1929 propuso incluir la variable interelectrónica\n",
    "en la función de onda como:\n",
    "\n",
    "<center> $ \\Psi(r_1,r_2,r_{12}) = Ne^{-\\zeta(r_1+r_2)}(1 + br_{12}) $\n",
    "\n",
    "Donde $ N $ es una constante de normalización y b un segundo parámetro variacional. Es evidente que al aumentar la distancia interelectrónica el valor de la función de onda aumenta. \n",
    "\n",
    "Un par de años más tarde logró construir una expansión general de la función de onda para un átomo de dos electrones en terminos de $ r_{12} $, $ r_1-r_2 $ y $ r_1 + r_2 $:\n",
    "\n",
    "<center> $  \\Psi(r_1,r_2,r_{12}) = \\sum\\limits_{klm}e^{-\\zeta(r_1+r_2)}(r_1 + r_2)^k(r_1 - r_2)^l r_{12}^m $ "
   ]
  },
  {
   "cell_type": "markdown",
   "metadata": {},
   "source": [
    "Por ejemplo, la función de onda:\n",
    "\\begin{equation*}\n",
    " \\Psi(r_1,r_2,r_{12}) = Ne^{-\\zeta(r_1+r_2)}(1+ c_1(r_1 - r_2)^2 + c_2r_{12})\n",
    "\\end{equation*}\n",
    "\n",
    " $ N = 1.330839 $\n",
    " \n",
    " $ c_1 = 0.130815 $\n",
    " \n",
    " $ c_2 = 0.291786 $ \n",
    " \n",
    " $ \\zeta = -1.81607 $.\n",
    " \n",
    "Esta humilde función de onda da una energía de E =  2.902431 E$_h$, lo que está \n",
    "a 1.3 mE$_h$ del valor exacto no relativístico. \n",
    "\n"
   ]
  },
  {
   "cell_type": "markdown",
   "metadata": {},
   "source": [
    "Su misión hoy día es la siguiente: \n",
    "\n",
    "1) Grafique la función de onda de Hylaraas en el plano xy con un\n",
    "electrón  fijo en el núcleo. ¿Ve alguna diferencia en la función de onda con respecto a \n",
    "la función de onda referencial? ¿Que puede inferir sobre la importancia de incluir la \n",
    "correlación explicita?\n",
    "\n",
    "2) Para poder investigar en más detalle el efecto de la correlación explícita, conviene \n",
    "obtener la función de onda de correlación que esta definida como:\n",
    "\n",
    "<center> $ \\Psi_{corr} = \\Psi_{exact} - \\Psi_{ref} $\n",
    "\n",
    "En nuestro caso $ \\Psi_{exact} $ es la función de onda Hylleraas. \n",
    "Gráfique  $ \\Psi_{corr} $ en el plano $xy$ y a lo largo del eje $x$, a diferentes distancias interelectrónicas, desde $r_{12} = 0.0a_0 $ hasta $r_{12} = 1.5a_0 $ en incrementos \n",
    "de $0.25a_0$. Describa como se comporta la correlación electrónica, a medida que el \n",
    "electron fijo se aleja del núcleo."
   ]
  },
  {
   "cell_type": "code",
   "execution_count": 45,
   "metadata": {
    "collapsed": false
   },
   "outputs": [
    {
     "ename": "SyntaxError",
     "evalue": "invalid syntax (<ipython-input-45-d65dc0fe3612>, line 2)",
     "output_type": "error",
     "traceback": [
      "\u001b[0;36m  File \u001b[0;32m\"<ipython-input-45-d65dc0fe3612>\"\u001b[0;36m, line \u001b[0;32m2\u001b[0m\n\u001b[0;31m    zeta =\u001b[0m\n\u001b[0m           ^\u001b[0m\n\u001b[0;31mSyntaxError\u001b[0m\u001b[0;31m:\u001b[0m invalid syntax\n"
     ]
    }
   ],
   "source": [
    "def plot_func_1D(func):\n",
    "    zeta = \n",
    "    x1 =\n",
    "    y1 =\n",
    "    z1 =\n",
    "    x2 = \n",
    "    y2 =\n",
    "    z2 = \n",
    "    plt.plot(x1, func(x1,y1,z1,x2,y2,z2,zeta))\n",
    "    plt.xlabel(\"X/a_0\")\n",
    "    plt.ylabel(\"Psi_corr\")\n",
    "    plt.show()\n"
   ]
  },
  {
   "cell_type": "code",
   "execution_count": null,
   "metadata": {
    "collapsed": true
   },
   "outputs": [],
   "source": []
  }
 ],
 "metadata": {
  "anaconda-cloud": {},
  "kernelspec": {
   "display_name": "Python [default]",
   "language": "python",
   "name": "python2"
  },
  "language_info": {
   "codemirror_mode": {
    "name": "ipython",
    "version": 2
   },
   "file_extension": ".py",
   "mimetype": "text/x-python",
   "name": "python",
   "nbconvert_exporter": "python",
   "pygments_lexer": "ipython2",
   "version": "2.7.12"
  }
 },
 "nbformat": 4,
 "nbformat_minor": 2
}
