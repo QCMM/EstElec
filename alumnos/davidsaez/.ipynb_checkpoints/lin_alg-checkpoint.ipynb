{
 "cells": [
  {
   "cell_type": "code",
   "execution_count": 1,
   "metadata": {
    "collapsed": true
   },
   "outputs": [],
   "source": [
    "import numpy as np\n",
    "import time"
   ]
  },
  {
   "cell_type": "markdown",
   "metadata": {},
   "source": [
    "#  Contracciones tensoriales y problemas de valores propios"
   ]
  },
  {
   "cell_type": "markdown",
   "metadata": {},
   "source": [
    "En el desarollo de la química cuantica para estructura electrónica, uno comunmente se encuentra con\n",
    "problemas de valores propios y manipulación de tensores multidimensionales. Eso se debe a \n",
    "la utilización de bases monoelectrónicas para la construcción de una función de onda multielectrónica. \n",
    "\n",
    "Para facilitar la escritura de las contracciones tensoriales, se emplea la llamada notación de einstein \n",
    "en la cuál la está implicita la sumatorio sobre indices repetidos. En una multiplicación matricial por ejemplo\n",
    "las dos notaciones distintas son:\n",
    "\n",
    "\\begin{align} \n",
    "\\rm{Convencional:}\\;\\;\\; C_{ik} &= \\sum_{j} A_{ij} * B_{jk} \\\\ \\rm{Einstein:}\\;\\;\\; C_{ik} &= A_{ij} * B_{jk} \\ \n",
    "\\end{align}\n",
    "\n",
    "O en notación matricial:\n",
    "\n",
    " \\begin{align} {\\rm Matrix}\\;\\;\\; \\bf{D} &= \\bf{A B C} \\\\ {\\rm Einstein}\\;\\;\\; D_{il} &= A_{ij} B_{jk} C_{kl} \\end{align}"
   ]
  },
  {
   "cell_type": "markdown",
   "metadata": {},
   "source": [
    "Numpy tiene dos funciones que permiten calcular productos entre matriciesm que son np.dot y np.einsum. \n",
    "Por ejemplo dado dos matrices **I** y **J** de 2x2, se puede calcular el producto utilizando el método np.dot:"
   ]
  },
  {
   "cell_type": "code",
   "execution_count": 2,
   "metadata": {
    "collapsed": false
   },
   "outputs": [
    {
     "name": "stdout",
     "output_type": "stream",
     "text": [
      "[[ 1.09756976  0.25668586]\n",
      " [ 1.14219428  0.36121122]]\n"
     ]
    }
   ],
   "source": [
    "size = 2\n",
    "I = np.random.rand(size, size)\n",
    "J = np.random.rand(size, size)\n",
    "\n",
    "DI = np.dot(I,J)\n",
    "print DI"
   ]
  },
  {
   "cell_type": "code",
   "execution_count": 6,
   "metadata": {
    "collapsed": false
   },
   "outputs": [
    {
     "name": "stdout",
     "output_type": "stream",
     "text": [
      "[[ 0.29781638  0.89360827]\n",
      " [ 0.43286294  0.80381799]]\n",
      "[[ 0.93900538  0.78993909]\n",
      " [ 0.9152988   0.02398038]]\n"
     ]
    }
   ],
   "source": [
    "print I\n",
    "print J"
   ]
  },
  {
   "cell_type": "markdown",
   "metadata": {},
   "source": [
    "O tambíen utilizando las sumatorias de einstein np.einsum"
   ]
  },
  {
   "cell_type": "code",
   "execution_count": 7,
   "metadata": {
    "collapsed": false
   },
   "outputs": [
    {
     "name": "stdout",
     "output_type": "stream",
     "text": [
      "[[ 1.09756976  0.25668586]\n",
      " [ 1.14219428  0.36121122]]\n"
     ]
    }
   ],
   "source": [
    "DI_ein = np.einsum('ik,kj',I,J)\n",
    "print DI_ein"
   ]
  },
  {
   "cell_type": "markdown",
   "metadata": {},
   "source": [
    "Notese que en la notación del metodo einsum los indices solamente indican la regla de la contracción."
   ]
  },
  {
   "cell_type": "markdown",
   "metadata": {},
   "source": [
    "## Ejercicio 1: \n",
    "Escriba una rutina que contrae tensores dos dimensionales y verifique el funcionamiento de su rutina con \n",
    "los métodos descritos anteriormente:"
   ]
  },
  {
   "cell_type": "code",
   "execution_count": 8,
   "metadata": {
    "collapsed": false
   },
   "outputs": [
    {
     "name": "stdout",
     "output_type": "stream",
     "text": [
      "[[ 1.  2.  3.]\n",
      " [ 4.  5.  6.]\n",
      " [ 7.  8.  9.]]\n",
      "[[ 1.   2.   9. ]\n",
      " [ 4.   6.   6. ]\n",
      " [ 1.5  0.   9.8]]\n"
     ]
    }
   ],
   "source": [
    "A = np.array([[1.0,2.0,3.0],[4.0,5.0,6.0],[7.0,8.0,9.0]])\n",
    "B = np.array([[1.0,2.0,9.0],[4.0,6.0,6.0],[1.5,0.0,9.8]])\n",
    "\n",
    "print A\n",
    "print B"
   ]
  },
  {
   "cell_type": "markdown",
   "metadata": {},
   "source": [
    "# Ejercicio 2\n",
    "Un paso clave en el método Hartree-Fock es la construcción de la matrix de Fock: \n",
    "En notación de einstein se construye utilizando la siguiente contracción de tensores:\n",
    "\n",
    "\\begin{equation}\n",
    "G_{pq} = 2I_{pqrs}D_{rs} - I_{prqs}D_{rs}  \n",
    "\\end{equation}\n",
    "\n",
    "Donde $I_{pqrs}$ es un tensor de integrales de repulsion electrónica. Defina dos tensores aleatorios **D** y **I** \n",
    "y calcule la contracción indicada. Verifíque su resultado mediante el método np.einsum"
   ]
  },
  {
   "cell_type": "code",
   "execution_count": 59,
   "metadata": {
    "collapsed": true
   },
   "outputs": [],
   "source": [
    "size = 4\n",
    "D = np.random.rand(size, size)\n",
    "I = np.random.rand(size, size, size, size)\n",
    "G = np.zeros((size,size))"
   ]
  },
  {
   "cell_type": "code",
   "execution_count": 60,
   "metadata": {
    "collapsed": false
   },
   "outputs": [],
   "source": [
    "for p in range(len(G)):\n",
    "    for q in range(len(G)):\n",
    "        for r in range(len(D)):\n",
    "            for s in range(len(D)):\n",
    "                G[p][q]=G[p][q]+2*I[p][q][r][s]*D[r][s]-I[p][r][q][s]*D[r][s]\n",
    "                "
   ]
  },
  {
   "cell_type": "code",
   "execution_count": 61,
   "metadata": {
    "collapsed": false
   },
   "outputs": [
    {
     "data": {
      "text/plain": [
       "array([[ 4.53969248,  5.05579048,  4.2082438 ,  2.42868377],\n",
       "       [ 2.13371979,  3.94741228,  5.5802365 ,  3.75059206],\n",
       "       [ 5.01685193,  5.55111671,  3.01435943,  2.8533119 ],\n",
       "       [ 1.45214924,  6.64486721,  5.79387131,  3.99053639]])"
      ]
     },
     "execution_count": 61,
     "metadata": {},
     "output_type": "execute_result"
    }
   ],
   "source": [
    "G"
   ]
  },
  {
   "cell_type": "code",
   "execution_count": 62,
   "metadata": {
    "collapsed": false
   },
   "outputs": [
    {
     "data": {
      "text/plain": [
       "array([[ 4.53969248,  5.05579048,  4.2082438 ,  2.42868377],\n",
       "       [ 2.13371979,  3.94741228,  5.5802365 ,  3.75059206],\n",
       "       [ 5.01685193,  5.55111671,  3.01435943,  2.8533119 ],\n",
       "       [ 1.45214924,  6.64486721,  5.79387131,  3.99053639]])"
      ]
     },
     "execution_count": 62,
     "metadata": {},
     "output_type": "execute_result"
    }
   ],
   "source": [
    "G_1 = np.einsum('pqrs,rs',I,D)\n",
    "G_2 = np.einsum('prqs,rs',I,D)\n",
    "2*G_1-G_2"
   ]
  },
  {
   "cell_type": "markdown",
   "metadata": {
    "collapsed": true
   },
   "source": [
    "# Problema de valor propio \n",
    "\n",
    "\n",
    "El problema de valores propios está en el corazon de la química quántica. En este ejercicio vamos a encontrar \n",
    "los valores y vectores propios de una matriz hermítica, como por ejemplo la matriz hamiltoniana en \n",
    "una base finita que aparece en su tarea. \n",
    "\n",
    "En general el la ecuación de valores propios para un operador $\\mathbf{O}$ $N\\times N$ se expresa como:\n",
    "\n",
    "\\begin{equation}\n",
    "\\mathbf{O}\\mathbf{c} = \\omega\\mathbf{c}\n",
    "\\end{equation}\n",
    "\n",
    "Aquí $\\mathbf{c}$ es un vector en una base $N$-dimensional\n",
    "Esta ecuación se puede reescribir como:\n",
    "\n",
    "\\begin{equation}\n",
    "(\\mathbf{O} - \\omega\\mathbf{1})\\mathbf{c} = 0\n",
    "\\end{equation}\n",
    "\n",
    "Este problema tiene soluciones no triviales solo cuando \n",
    "\n",
    "\\begin{equation}\n",
    "|\\mathbf{O} - \\omega\\mathbf{1}| = 0\n",
    "\\end{equation}\n",
    "\n",
    "Es determinante se detnomina determinante secular y es un polinomio de grado N, por lo \n",
    "que tiene N raices de $\\omega_{\\alpha}$, que serian los valores propios de la matriz. \n",
    "Los vecotres propios se obtienen al resolver el sistema de ecuaciones:\n",
    "\n",
    "\\begin{equation}\n",
    "\\mathbf{O}\\mathbf{c^{\\alpha}} = \\omega_{\\alpha}\\mathbf{c^{\\alpha}} \\qquad \\alpha = 1,2,..., N\n",
    "\\end{equation}\n",
    "\n",
    "\n",
    "Para un operador hermítico la matriz compuesta por los vectores propios $\\mathbf{U}$ es una matriz unitaria que \n",
    "diagonaliza al operador en su base no diagonal:\n",
    "\n",
    "\\begin{equation}\n",
    "\\mathbf{\\omega} = \\mathbf{U^{\\dagger}}\\mathbf{O}\\mathbf{U} \n",
    "\\end{equation}\n"
   ]
  },
  {
   "cell_type": "markdown",
   "metadata": {},
   "source": [
    "# Ejercicio 3\n",
    "\n",
    "Encuentre los valores y vectores propios de una matriz de dimensiones 4x4 con el método descrito anteriormente y utilizando la rutina numpy.linalg.eig. (Hint: Use el metodo charpoly() implementada en symmpy)"
   ]
  },
  {
   "cell_type": "code",
   "execution_count": 10,
   "metadata": {
    "collapsed": false,
    "scrolled": true
   },
   "outputs": [
    {
     "name": "stdout",
     "output_type": "stream",
     "text": [
      "[[ 0.53338821  0.8114915   0.38885009  0.53996449]\n",
      " [ 0.8114915   0.72690505  0.22945067  0.79155687]\n",
      " [ 0.38885009  0.22945067  0.13119588  0.86947149]\n",
      " [ 0.53996449  0.79155687  0.86947149  0.27707947]]\n"
     ]
    }
   ],
   "source": [
    "## Construir Matriz diagonal\n",
    "H_tmp = np.random.rand(4, 4)\n",
    "H = (H_tmp + H_tmp.T)/2\n",
    "print H"
   ]
  },
  {
   "cell_type": "code",
   "execution_count": 30,
   "metadata": {
    "collapsed": false
   },
   "outputs": [],
   "source": [
    "#Parte 1\n",
    "AB=np.zeros((3,3))\n",
    "\n"
   ]
  },
  {
   "cell_type": "code",
   "execution_count": 31,
   "metadata": {
    "collapsed": false
   },
   "outputs": [],
   "source": [
    "for i in range(0,3):\n",
    "    for j in range(0,3):\n",
    "        for k in range(0,3):\n",
    "            AB[i][j]=AB[i][j]+A[i][k]*B[k][j]\n",
    "    "
   ]
  },
  {
   "cell_type": "code",
   "execution_count": 32,
   "metadata": {
    "collapsed": false
   },
   "outputs": [
    {
     "data": {
      "text/plain": [
       "array([[  13.5,   14. ,   50.4],\n",
       "       [  33. ,   38. ,  124.8],\n",
       "       [  52.5,   62. ,  199.2]])"
      ]
     },
     "execution_count": 32,
     "metadata": {},
     "output_type": "execute_result"
    }
   ],
   "source": [
    "AB"
   ]
  },
  {
   "cell_type": "code",
   "execution_count": 34,
   "metadata": {
    "collapsed": false
   },
   "outputs": [
    {
     "data": {
      "text/plain": [
       "array([[  13.5,   14. ,   50.4],\n",
       "       [  33. ,   38. ,  124.8],\n",
       "       [  52.5,   62. ,  199.2]])"
      ]
     },
     "execution_count": 34,
     "metadata": {},
     "output_type": "execute_result"
    }
   ],
   "source": [
    "np.dot(A,B)"
   ]
  },
  {
   "cell_type": "code",
   "execution_count": null,
   "metadata": {
    "collapsed": true
   },
   "outputs": [],
   "source": [
    "#PArte 2\n",
    "\n"
   ]
  }
 ],
 "metadata": {
  "anaconda-cloud": {},
  "kernelspec": {
   "display_name": "Python [default]",
   "language": "python",
   "name": "python2"
  },
  "language_info": {
   "codemirror_mode": {
    "name": "ipython",
    "version": 2
   },
   "file_extension": ".py",
   "mimetype": "text/x-python",
   "name": "python",
   "nbconvert_exporter": "python",
   "pygments_lexer": "ipython2",
   "version": "2.7.12"
  }
 },
 "nbformat": 4,
 "nbformat_minor": 2
}
