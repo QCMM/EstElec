{
 "cells": [
  {
   "cell_type": "markdown",
   "metadata": {},
   "source": [
    "# Constante de Normalizacion para GTO 1s\n",
    "La expresion para el orbital 1s GTO es \n",
    "$$\\psi_{1s}=N exp(-\\alpha r^{2})$$\n",
    "Si se cumple que $$\\int{\\psi*\\psi} dr=N^{2} \\int exp(-2 \\alpha r^{2}) dr = 1$$\n",
    "entonces\n",
    "\n",
    "$$N^{2}=\\frac{1}{\\int exp(-2 \\alpha r^{2})dr}$$\n",
    "\n",
    "Es necesario evaluar $\\int exp(-2 \\alpha r^{2}) dr$. \n",
    "\n",
    "La integral es separable en coordenadas cartesianas, y si $r^{2}=x^{2}+y^{2}+z^{2}$, con $dr=dxdydz$. \n",
    "\n",
    "$$\\int exp(-2 \\alpha (x^{2}+y^{2}+z^{2})) dxdydz = \\int exp(-2 \\alpha x^{2}) dx\\,   exp(-2 \\alpha y^{2}) dy\\, exp(-2 \\alpha z^{2}) dz$$\n",
    "\n",
    "Evaluando $\\int_{-\\infty}^{\\infty} exp(-2 \\alpha x^{2}) dx$:\n"
   ]
  },
  {
   "cell_type": "code",
<<<<<<< HEAD:tarea0/davidsaez/.ipynb_checkpoints/Tarea0-checkpoint.ipynb
   "execution_count": 1,
=======
<<<<<<< HEAD
   "execution_count": 11,
   "metadata": {},
=======
   "execution_count": 2,
>>>>>>> 505777c6e92cb8af8ebc11de6de910c5c22c08a5:alumnos/davidsaez/.ipynb_checkpoints/Tarea0-checkpoint.ipynb
   "metadata": {
    "collapsed": true
   },
>>>>>>> 4fb46b88bc6c22dfb6de67d3436f69d5fa19132b
   "outputs": [],
   "source": [
    "import sympy as sp\n",
    "r,x,y,z,a,h=sp.symbols('r x y z a h')"
   ]
  },
  {
   "cell_type": "code",
<<<<<<< HEAD:tarea0/davidsaez/.ipynb_checkpoints/Tarea0-checkpoint.ipynb
   "execution_count": 2,
=======
<<<<<<< HEAD
   "execution_count": 14,
=======
   "execution_count": 3,
>>>>>>> 4fb46b88bc6c22dfb6de67d3436f69d5fa19132b
>>>>>>> 505777c6e92cb8af8ebc11de6de910c5c22c08a5:alumnos/davidsaez/.ipynb_checkpoints/Tarea0-checkpoint.ipynb
   "metadata": {},
   "outputs": [
    {
     "data": {
      "text/plain": [
       "Piecewise((sqrt(2)*sqrt(pi)/(2*sqrt(a)), Abs(periodic_argument(a, oo)) <= pi/2), (Integral(exp(-2*a*x**2), (x, -oo, oo)), True))"
      ]
     },
<<<<<<< HEAD:tarea0/davidsaez/.ipynb_checkpoints/Tarea0-checkpoint.ipynb
     "execution_count": 2,
=======
<<<<<<< HEAD
     "execution_count": 14,
=======
     "execution_count": 3,
>>>>>>> 4fb46b88bc6c22dfb6de67d3436f69d5fa19132b
>>>>>>> 505777c6e92cb8af8ebc11de6de910c5c22c08a5:alumnos/davidsaez/.ipynb_checkpoints/Tarea0-checkpoint.ipynb
     "metadata": {},
     "output_type": "execute_result"
    }
   ],
   "source": [
    "sp.integrate(sp.exp(-2*a*x**2),('x',-sp.oo,sp.oo))"
   ]
  },
  {
   "cell_type": "markdown",
   "metadata": {},
   "source": [
    "El producto de la integral sobre las tres dimensiones espaciales es $(\\frac{\\pi}{2a})^\\frac{3}{2}$, por lo que tenemos:\n",
    "$$N=(\\frac{2a}{\\pi})^\\frac{3}{4}$$"
   ]
  },
  {
   "cell_type": "markdown",
   "metadata": {},
   "source": [
    "# Hallar una expresion para la energia electronica del EF, usando el GTO.\n",
    "\n",
    "La funcion de onda GTO normalizada es \n",
    "$$\\psi_{1s}=(\\frac{2a}{\\pi})^\\frac{3}{4}\\, exp(-\\alpha r^{2})$$\n",
    "\n",
    "Para hallar una expresión de la energía electrónica es necesario construir el Hamiltoniano. En este caso:\n",
    "\n",
    "$$\\hat{H}=-\\frac{\\hbar^{2}}{2} \\nabla^{2}-\\frac{1}{r} $$\n",
    "\n",
    "La energía del sistema viene dada por:\n",
    "\n",
    "$$\\langle E \\rangle=\\int \\psi_{1s}^{*} \\hat{H} \\psi_{1s}$$\n",
    "$$\\langle E \\rangle= (\\frac{2a}{\\pi})^\\frac{3}{2} \\int exp(-\\alpha r^{2}) \\,\\lbrack-\\frac{\\hbar^{2}}{2} \\nabla^{2} exp(-\\alpha r^{2}) -\\frac{1}{r} exp(-\\alpha r^{2}) \\rbrack dr$$\n"
   ]
  },
  {
   "cell_type": "markdown",
   "metadata": {},
   "source": [
    "Entonces, la energía puede expresarse como suma de dos integrales:\n",
    "$$\\langle E_{a} \\rangle = -\\frac{\\hbar^{2}}{2} \\left(\\frac{2a}{\\pi}\\right)^{\\frac{3}{2}} \\int_{-\\infty}^{\\infty} exp(-ar^{2}) \\lbrack \\nabla^{2} exp(-ar^{2})\\rbrack dr $$\n",
    "\n",
<<<<<<< HEAD
    "$$ \\langle E_{b} \\rangle = \\left(\\frac{2a}{\\pi}\\right)^{\\frac{3}{2}} \\int_{-\\infty}^{\\infty} \\lbrack \\frac{1}{r} exp(-2ar^{2})\\rbrack dr $$"
=======
    "$$ \\langle E_{b} \\rangle =- \\left(\\frac{2a}{\\pi}\\right)^{\\frac{3}{2}} \\int_{-\\infty}^{\\infty} \\lbrack \\frac{1}{r} exp(-2ar^{2})\\rbrack dr $$"
>>>>>>> 4fb46b88bc6c22dfb6de67d3436f69d5fa19132b
   ]
  },
  {
   "cell_type": "code",
<<<<<<< HEAD:tarea0/davidsaez/.ipynb_checkpoints/Tarea0-checkpoint.ipynb
   "execution_count": 3,
=======
<<<<<<< HEAD
   "execution_count": 15,
=======
   "execution_count": 4,
>>>>>>> 4fb46b88bc6c22dfb6de67d3436f69d5fa19132b
>>>>>>> 505777c6e92cb8af8ebc11de6de910c5c22c08a5:alumnos/davidsaez/.ipynb_checkpoints/Tarea0-checkpoint.ipynb
   "metadata": {},
   "outputs": [
    {
     "data": {
      "text/plain": [
       "4*a**2*x**2*exp(-a*x**2) - 2*a*exp(-a*x**2)"
      ]
     },
<<<<<<< HEAD:tarea0/davidsaez/.ipynb_checkpoints/Tarea0-checkpoint.ipynb
     "execution_count": 3,
=======
<<<<<<< HEAD
     "execution_count": 15,
=======
     "execution_count": 4,
>>>>>>> 4fb46b88bc6c22dfb6de67d3436f69d5fa19132b
>>>>>>> 505777c6e92cb8af8ebc11de6de910c5c22c08a5:alumnos/davidsaez/.ipynb_checkpoints/Tarea0-checkpoint.ipynb
     "metadata": {},
     "output_type": "execute_result"
    }
   ],
   "source": [
    "sp.diff((sp.diff(sp.exp(-a*x**2), x)),x)"
   ]
  },
  {
   "cell_type": "markdown",
   "metadata": {
    "collapsed": true
   },
   "source": [
<<<<<<< HEAD
    "El término entre corchetes de $E_{a}$ se resolvió arriba, quedando todo como:\n",
    "$$\\langle E_{a} \\rangle = -\\frac{\\hbar^{2}}{2} \\left(\\frac{2a}{\\pi}\\right)^{\\frac{3}{2}} \\int_{-\\infty}^{\\infty} \\lbrack 4a^{2}r^{2}exp(-2ar^{2}) - 2a\\,  exp(-2ar^{2})\\rbrack dr $$"
=======
    "El factor entre corchetes de $E_{a}$ se resolvió arriba, quedando todo como:\n",
    "$$\\langle E_{a} \\rangle = -\\frac{\\hbar^{2}}{2} \\left(\\frac{2a}{\\pi}\\right)^{\\frac{3}{2}} \\int_{-\\infty}^{\\infty} \\lbrack 4a^{2}r^{2}exp(-2ar^{2}) - 2a\\,  exp(-2ar^{2})\\rbrack dr $$\n",
    "$E_{a}=E_{a1}+E_{a2}$"
   ]
  },
  {
   "cell_type": "markdown",
   "metadata": {
    "collapsed": true
   },
   "source": [
    "De acuerdo a mis cálculos $\\langle E_{a1} \\rangle = -\\frac{\\hbar^{2}a^{2}}{\\pi}$ \n",
    "\n",
    "$\\langle E_{a2} \\rangle = \\frac{2\\hbar^{2}a^{2}}{\\pi}$\n",
    "\n",
    "Luego, $E_{a}=\\frac{\\hbar^{2}a^{2}}{\\pi}$\n",
    "\n",
    "Como $E_{b}$ es impar, su valor sería nulo.\n",
    "\n",
    "Luego $\\langle E \\rangle=\\frac{\\hbar^{2}a^{2}}{\\pi}$\n",
    "\n",
    "Creo que hay un error porque me da un valor positivo."
   ]
  },
  {
   "cell_type": "markdown",
   "metadata": {},
   "source": [
    "En https://www.acsu.buffalo.edu/~phygons/cp2/topic4/topic4.pdf, página 4, muestran resultados diferentes, para T y V. S me da ok. No dan detalle."
>>>>>>> 4fb46b88bc6c22dfb6de67d3436f69d5fa19132b
   ]
  },
  {
   "cell_type": "markdown",
   "metadata": {
    "collapsed": true
   },
   "source": [
    "# Parte 2"
   ]
  },
  {
   "cell_type": "code",
   "execution_count": 34,
   "metadata": {
    "collapsed": true
   },
   "outputs": [],
   "source": [
    "import scipy as sc\n",
    "import numpy as np"
   ]
  },
  {
   "cell_type": "code",
   "execution_count": 38,
   "metadata": {
    "collapsed": true
   },
   "outputs": [],
   "source": [
    "class XyzFile:\n",
    "    def __init__(self, molfile):\n",
    "        self.molfile=molfile\n",
    "    \n",
    "    def printlines(self):\n",
    "        molfile=self.molfile\n",
    "        lines=open(molfile,'r')\n",
    "        return lines.readlines()"
   ]
  },
  {
   "cell_type": "code",
   "execution_count": 39,
   "metadata": {
    "collapsed": true
   },
   "outputs": [],
   "source": [
    "a=XyzFile('acetaldehido.xyz')"
   ]
  },
  {
   "cell_type": "code",
   "execution_count": 40,
   "metadata": {},
   "outputs": [
    {
     "name": "stdout",
     "output_type": "stream",
     "text": [
      "['7\\n', '6  0.000000000000     0.000000000000     0.000000000000\\n', '6  0.000000000000     0.000000000000     2.845112131228\\n', '8  1.899115961744     0.000000000000     4.139062527233\\n', '1 -1.894048308506     0.000000000000     3.747688672216\\n', '1  1.942500819960     0.000000000000    -0.701145981971\\n', '1 -1.007295466862    -1.669971842687    -0.705916966833\\n', '1 -1.007295466862     1.669971842687    -0.705916966833\\n']\n"
     ]
    }
   ],
   "source": [
    "print a.printlines()"
   ]
  },
  {
   "cell_type": "code",
   "execution_count": null,
   "metadata": {
    "collapsed": true
   },
   "outputs": [],
   "source": []
  }
 ],
 "metadata": {
  "kernelspec": {
   "display_name": "Python 2",
   "language": "python",
   "name": "python2"
  },
  "language_info": {
   "codemirror_mode": {
    "name": "ipython",
    "version": 2
   },
   "file_extension": ".py",
   "mimetype": "text/x-python",
   "name": "python",
   "nbconvert_exporter": "python",
   "pygments_lexer": "ipython2",
   "version": "2.7.13"
  }
 },
 "nbformat": 4,
 "nbformat_minor": 2
}
