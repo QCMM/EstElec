{
 "cells": [
  {
   "cell_type": "code",
   "execution_count": 207,
   "metadata": {
    "collapsed": true
   },
   "outputs": [],
   "source": [
    "import psi4 \n",
    "import numpy as np"
   ]
  },
  {
   "cell_type": "code",
   "execution_count": 208,
   "metadata": {},
   "outputs": [
    {
     "data": {
      "text/plain": [
       "-40.213062902362196"
      ]
     },
     "execution_count": 208,
     "metadata": {},
     "output_type": "execute_result"
    }
   ],
   "source": [
    "# ==> Opciones Básicas Psi4 <==\n",
    "# Memoria\n",
    "psi4.set_memory(int(5e8))\n",
    "numpy_memory = 700\n",
    "\n",
    "# Output\n",
    "psi4.core.set_output_file('output.dat', False)\n",
    "\n",
    "# Geometría\n",
    "mol = psi4.geometry(\"\"\"\n",
    "0 1\n",
    "   C       -4.69625        3.24199        0.00000\n",
    "   H       -3.62625        3.24199        0.00000\n",
    "   H       -5.05292        4.22553       -0.22434\n",
    "   H       -5.05292        2.94449        0.96394\n",
    "   H       -5.05292        2.55593       -0.73961\n",
    "\"\"\")\n",
    "\n",
    "# Opciones de calculo\n",
    "psi4.set_options({'basis': 'cc-pvtz',\n",
    "                  'e_convergence': 1e-8})\n",
    "\n",
    "psi4.energy('scf/cc-pvtz')"
   ]
  },
  {
   "cell_type": "code",
   "execution_count": 209,
   "metadata": {
    "collapsed": true
   },
   "outputs": [],
   "source": [
    "# Máximo de iteraciones SCF\n",
    "MAXITER = 40\n",
    "# Criterio de Convergencia para la energía.\n",
    "E_conv = 1.0e-8\n",
    "# Energía de repulsión nucelo-nucleo\n",
    "E_nuc = mol.nuclear_repulsion_energy()"
   ]
  },
  {
   "cell_type": "code",
   "execution_count": 210,
   "metadata": {
    "collapsed": true
   },
   "outputs": [],
   "source": [
    "wfn = psi4.core.Wavefunction.build(mol, psi4.core.get_global_option('basis'))"
   ]
  },
  {
   "cell_type": "code",
   "execution_count": 211,
   "metadata": {
    "collapsed": true
   },
   "outputs": [],
   "source": [
    "#posee todas las integrales posibles dentro del set de bases\n",
    "mints = psi4.core.MintsHelper(wfn.basisset())"
   ]
  },
  {
   "cell_type": "code",
   "execution_count": 212,
   "metadata": {},
   "outputs": [],
   "source": [
    "S = np.asarray(mints.ao_overlap())\n"
   ]
  },
  {
   "cell_type": "code",
   "execution_count": 213,
   "metadata": {},
   "outputs": [],
   "source": [
    "#Hamiltoniano de core \n",
    "T = np.asarray(mints.ao_kinetic())\n",
    "V = np.asarray(mints.ao_potential())\n",
    "H = T + V\n",
    "\n"
   ]
  },
  {
   "cell_type": "code",
   "execution_count": 214,
   "metadata": {},
   "outputs": [
    {
     "name": "stdout",
     "output_type": "stream",
     "text": [
      "(86, 86)\n",
      "86\n",
      "5\n"
     ]
    }
   ],
   "source": [
    "# S.shape = (número de cloumnas, número de filas)\n",
    "nbf = S.shape\n",
    "print nbf\n",
    "print nbf[0]\n",
    "ndocc = wfn.nalpha()\n",
    "print ndocc "
   ]
  },
  {
   "cell_type": "code",
   "execution_count": 215,
   "metadata": {},
   "outputs": [
    {
     "name": "stdout",
     "output_type": "stream",
     "text": [
      "\n",
      "Size of the ERI tensor will be 437.61 MB.\n"
     ]
    }
   ],
   "source": [
    "# Memory check for ERI tensor\n",
    "I_size = (nbf[0]**4) * 8.e-6\n",
    "print('\\nSize of the ERI tensor will be {:4.2f} MB.'.format(I_size))\n",
    "memory_footprint = I_size * 1.5"
   ]
  },
  {
   "cell_type": "code",
   "execution_count": 216,
   "metadata": {},
   "outputs": [
    {
     "name": "stdout",
     "output_type": "stream",
     "text": [
      "(86, 86, 86, 86)\n"
     ]
    }
   ],
   "source": [
    "# Tensor con integrales 2e-\n",
    "I = np.asarray(mints.ao_eri())\n",
    "print I.shape"
   ]
  },
  {
   "cell_type": "code",
   "execution_count": 217,
   "metadata": {},
   "outputs": [],
   "source": [
    "e1 = np.linalg.eig(S)[0]\n",
    "U = np.linalg.eig(S)[1]\n",
    "U_dag = np.linalg.inv(U)\n",
    "\n",
    "Zeros= np.identity(len(S))\n",
    "s_sqrt = Zeros*np.sqrt(e1)\n",
    "\n",
    "s_sqrt_inv = np.linalg.inv(s_sqrt)\n"
   ]
  },
  {
   "cell_type": "code",
   "execution_count": 218,
   "metadata": {},
   "outputs": [],
   "source": [
    "#Equivalente a # ==> Construct AO orthogonalization matrix A <==\n",
    "#A = mints.ao_overlap()\n",
    "#A.power(-0.5, 1.e-16)\n",
    "#A = np.asarray(A)\n",
    "\n",
    "S_sqrt_inv = U.dot(s_sqrt_inv).dot(U_dag)"
   ]
  },
  {
   "cell_type": "code",
   "execution_count": 219,
   "metadata": {},
   "outputs": [
    {
     "name": "stdout",
     "output_type": "stream",
     "text": [
      "There is a new hope for diagonalization!\n"
     ]
    }
   ],
   "source": [
    "# Check orthonormality\n",
    "S_p = S_sqrt_inv.dot(S).dot(S_sqrt_inv)\n",
    "new_hope = np.allclose(S_p, np.eye(S.shape[0]))\n",
    "\n",
    "if new_hope:\n",
    "    print('There is a new hope for diagonalization!')\n",
    "else:\n",
    "    print(\"Whoops...something went wrong. Check that you've correctly built the transformation matrix.\")\n",
    "    "
   ]
  },
  {
   "cell_type": "code",
   "execution_count": 220,
   "metadata": {},
   "outputs": [
    {
     "name": "stdout",
     "output_type": "stream",
     "text": [
      "==> Starting SCF Iterations <==\n",
      "\n",
      "SCF Iteration   1: Energy = -27.1315902792864669 dE = -2.71316E+01\n",
      "SCF Iteration   2: Energy = -33.9843286561506517 dE = -6.85274E+00\n",
      "SCF Iteration   3: Energy = -37.3232698652068251 dE = -3.33894E+00\n",
      "SCF Iteration   4: Energy = -39.2425850406818455 dE = -1.91932E+00\n",
      "SCF Iteration   5: Energy = -39.9706647654681717 dE = -7.28080E-01\n",
      "SCF Iteration   6: Energy = -40.1694574362586536 dE = -1.98793E-01\n",
      "SCF Iteration   7: Energy = -40.2056317075975329 dE = -3.61743E-02\n",
      "SCF Iteration   8: Energy = -40.2118366179224296 dE = -6.20491E-03\n",
      "SCF Iteration   9: Energy = -40.2128587052404214 dE = -1.02209E-03\n",
      "SCF Iteration  10: Energy = -40.2130271718755665 dE = -1.68467E-04\n",
      "SCF Iteration  11: Energy = -40.2130548747750254 dE = -2.77029E-05\n",
      "SCF Iteration  12: Energy = -40.2130594351409769 dE = -4.56037E-06\n",
      "SCF Iteration  13: Energy = -40.2130601857521270 dE = -7.50611E-07\n",
      "SCF Iteration  14: Energy = -40.2130603093274317 dE = -1.23575E-07\n",
      "SCF Iteration  15: Energy = -40.2130603296723166 dE = -2.03449E-08\n",
      "SCF Iteration  16: Energy = -40.2130603330216587 dE = -3.34934E-09\n",
      "\n",
      "SCF converged.\n",
      "Final RHF Energy: -40.21306033 [Eh]\n"
     ]
    }
   ],
   "source": [
    "# ==> Compute C & D matrices with CORE guess <==\n",
    "# Transformed Fock matrix\n",
    "F_p = S_sqrt_inv.dot(H).dot(S_sqrt_inv)\n",
    "\n",
    "# Diagonalize F_p for eigenvalues & eigenvectors with NumPy\n",
    "e, C_p = np.linalg.eigh(F_p)\n",
    "\n",
    "# Transform C_p back into AO basis\n",
    "C = S_sqrt_inv.dot(C_p)\n",
    "\n",
    "# Grab occupied orbitals\n",
    "C_occ = C[:, :ndocc]\n",
    "\n",
    "# Build density matrix from occupied orbitals\n",
    "D = np.einsum('pi,qi->pq', C_occ, C_occ)\n",
    "\n",
    "# ==> Nuclear Repulsion Energy <==\n",
    "E_nuc = mol.nuclear_repulsion_energy()\n",
    "\n",
    "# ==> SCF Iterations <==\n",
    "# Pre-iteration energy declarations\n",
    "SCF_E = 0.0\n",
    "E_old = 0.0\n",
    "\n",
    "print('==> Starting SCF Iterations <==\\n')\n",
    "\n",
    "# Begin Iterations\n",
    "for scf_iter in range(1, MAXITER + 1):\n",
    "    # Build Fock matrix\n",
    "    J = np.einsum('pqrs,rs->pq', I, D)\n",
    "    K = np.einsum('prqs,rs->pq', I, D)\n",
    "    F = H + 2*J - K\n",
    "    \n",
    "    # Compute RHF energy\n",
    "    SCF_E = np.einsum('pq,pq->', (H + F), D) + E_nuc\n",
    "    print('SCF Iteration %3d: Energy = %4.16f dE = % 1.5E' % (scf_iter, SCF_E, SCF_E - E_old))\n",
    "    \n",
    "    # SCF Converged?\n",
    "    if (abs(SCF_E - E_old) < E_conv):\n",
    "        break\n",
    "    E_old = SCF_E\n",
    "    \n",
    "    # Compute new orbital guess\n",
    "    F_p =  S_sqrt_inv.dot(F).dot(S_sqrt_inv)\n",
    "    e, C_p = np.linalg.eigh(F_p)\n",
    "    C = S_sqrt_inv.dot(C_p)\n",
    "    C_occ = C[:, :ndocc]\n",
    "    D = np.einsum('pi,qi->pq', C_occ, C_occ)\n",
    "    \n",
    "    # MAXITER exceeded?\n",
    "    if (scf_iter == MAXITER):\n",
    "        psi4.core.clean()\n",
    "        raise Exception(\"Maximum number of SCF iterations exceeded.\")\n",
    "\n",
    "# Post iterations\n",
    "print('\\nSCF converged.')\n",
    "print('Final RHF Energy: %.8f [Eh]' % (SCF_E))"
   ]
  },
  {
   "cell_type": "code",
   "execution_count": null,
   "metadata": {
    "collapsed": true
   },
   "outputs": [],
   "source": []
  }
 ],
 "metadata": {
  "kernelspec": {
   "display_name": "Python 2",
   "language": "python",
   "name": "python2"
  },
  "language_info": {
   "codemirror_mode": {
    "name": "ipython",
    "version": 2
   },
   "file_extension": ".py",
   "mimetype": "text/x-python",
   "name": "python",
   "nbconvert_exporter": "python",
   "pygments_lexer": "ipython2",
   "version": "2.7.13"
  }
 },
 "nbformat": 4,
 "nbformat_minor": 2
}
