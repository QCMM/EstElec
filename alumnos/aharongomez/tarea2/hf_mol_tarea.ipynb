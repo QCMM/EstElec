{
 "cells": [
  {
   "cell_type": "markdown",
   "metadata": {
    "collapsed": true
   },
   "source": [
    "# Tarea 3:\n",
    "\n",
    "## 1. Escriba la energía HF para el átomo de Berilio.  \n",
    "\n",
    "\n",
    "\n",
    "\n",
    "## 2.  Programar la teoría del campo autoconsistente Hartree-Fock  en moleculas\n",
    "## I. Repaso teórico\n",
    "\n",
    "En el método hartree-fock-Roothaan en moleculas, se construyen los orbitales moleculares a \n",
    "partir de orbitales atómicos, centrados sobre los respectivos átomos:\n",
    "\n",
    "$$ \\psi_i = \\sum_\\mu C_{\\mu i} \\phi_{\\mu}$$\n",
    "\n",
    "Los oribtales que minimizan la energía HF son orbitales solución de las ecuación de psuedo-valores \n",
    "propios de Roothaan.\n",
    "\n",
    "En esta tarea van escribir un código que calcula la energía variacional hartree-fock de una molecula mediante\n",
    "el método del campo autoconsistente y la ecuaciones de Roothaan. A modo de repaso esta teoría busca \n",
    "resolver la ecuación matriz de pseudo valores propios:\n",
    "\n",
    "\n",
    "$$\\sum_{\\nu} F_{\\mu\\nu}C_{\\nu i} = \\epsilon_i\\sum_{\\nu}S_{\\mu\\nu}C_{\\nu i}$$\n",
    "$${\\bf FC} = {\\bf SC\\epsilon},$$\n",
    "\n",
    "Como el operador de Fock depende explicitamente de las funciones de los diferentes orbitales, esta ecuación \n",
    "solamente se puede resolver iterativamente hasta llegar a una solución auto-consistente para la \n",
    "matriz de coeficientes orbitales **C**. La matriz de Fock **F** se construye a partir de la matriz densidad **D**\n",
    "y las integrales bi-electronicas en la base de los orbitales atómicos $\\{\\mu\\}$.\n",
    "\n",
    "$$F_{\\mu\\nu} = H_{\\mu\\nu} + 2(\\mu\\,\\nu\\left|\\,\\lambda\\,\\sigma)D_{\\lambda\\sigma} - (\\mu\\,\\lambda\\,\\right|\\nu\\,\\sigma)D_{\\lambda\\sigma},$$\n",
    "\n",
    "La matriz densidad $D_{\\lambda\\sigma}$ se construye mediante la matriz de coeficientes orbitales **C**:\n",
    "\n",
    "$$D_{\\lambda\\sigma} = C_{\\sigma i}C_{\\lambda i}$$\n",
    "\n",
    "La matriz de coeficientes orbitales **C** es una matriz de $N\\times M$, donde $N$ es el número de funciones bases atómicas, y $M$ es el número total de orbitales moleculares. Por lo tanto la matriz **C** se puede interpretar físicamente como, la contribución de cada función base (columnas) a un determinado orbital molecular.  La matriz densidad se por lo tanto es una matriz cuadrada que describe la densidad electrónica de cada orbital molecular. \n",
    "\n",
    "La energía total RHF esta dada por:\n",
    "\n",
    "$$E^{\\rm RHF}_{\\rm total} = E^{\\rm RHF}_{\\rm elec} + E^{\\rm BO}_{\\rm nuc},$$\n",
    "\n",
    "Donde $E^{\\rm RHF}_{\\rm elec}$ es la energía electrónica RHF final y   $E^{\\rm BO}_{\\rm nuc}$ es la energía de repulsión núcleo-núcleo total BO.  Para calcular la energía electrónica total usamos la matiz densidad en la base AO:\n",
    "\n",
    "$$E^{\\rm RHF}_{\\rm elec} = (F_{\\mu\\nu} + H_{\\mu\\nu})D_{\\mu\\nu},$$\n",
    "\n",
    "y la energía de repulsión nuclear es:\n",
    "$$E^{\\rm BO}_{\\rm nuc} = \\sum_{A>B}\\frac{Z_AZ_B}{r_{AB}}$$"
   ]
  },
  {
   "cell_type": "markdown",
   "metadata": {},
   "source": [
    "## II. Implementación\n",
    "\n",
    "Primero que nada debemos instalar el modulo python para Psi4 (solo Linux!). La manera más simple de \n",
    "hacerlo es instalarlo  desde una distribución anaconda. La pueden bajar en:\n",
    "\n",
    "https://www.anaconda.com/download/#linux\n",
    "\n",
    "Les recomiendo bajar la versión con python 2.7.\n",
    "Una vez instalado, corren:\n",
    "\n",
    "**conda create -n p4env python=2.7 psi4 psi4-rt -c psi4/label/dev -c psi4**\n",
    "\n",
    "Esto les va a instalar los binarios de psi4 y el modulo python nececario para\n",
    "esta tarea. Finalmente deben definir un directorio para el scratch. Abran su .bashrc \n",
    "y agregen la linea:\n",
    "\n",
    "**export PSI_SCRATCH=/home/su_nombre_de_usuario/.scratch/psi4**\n",
    "\n",
    "Ahora solo falta recargar el bashrc y activar el ambiente psi4\n",
    "\n",
    "**source activate p4env**\n",
    "\n",
    "ahora puede abrir jupyter-notebook e importar psi4.\n"
   ]
  },
  {
   "cell_type": "code",
   "execution_count": 2,
   "metadata": {
    "collapsed": true
   },
   "outputs": [],
   "source": [
    "# ==> Importar Psi4 & NumPy <==\n",
    "import psi4\n",
    "import numpy as np"
   ]
  },
  {
   "cell_type": "markdown",
   "metadata": {},
   "source": [
    "Próximo paso es fijar las variables de memoria. Y definir la molecula a la cual le van a calcular la\n",
    "energía. \n",
    "\n",
    "Memoria y output.  Reservar 500 MB de memoria a Psi4.\n",
    "- Fijar el archivo de output como: \"output.dat\"\n",
    "- Fijar la memoria numpy que va a usar para alamcenar los tensores.\n",
    "\n",
    "Molecule definition:\n",
    "- Definir la posición de los núcleos en una molécula de agua.\n",
    "- Simetría C1\n",
    "\n",
    "Opciones del calculo de comprarasión:\n",
    "- Base y convergencia\n"
   ]
  },
  {
   "cell_type": "code",
   "execution_count": 23,
   "metadata": {},
   "outputs": [
    {
     "data": {
      "text/plain": [
       "-14.57234126403459"
      ]
     },
     "execution_count": 23,
     "metadata": {},
     "output_type": "execute_result"
    }
   ],
   "source": [
    "# ==> Opciones Básicas Psi4 <==\n",
    "# Memoria\n",
    "psi4.set_memory(int(5e8))\n",
    "numpy_memory = 500\n",
    "\n",
    "# Output\n",
    "psi4.core.set_output_file('output.dat', False)\n",
    "\n",
    "# Geometría\n",
    "mol = psi4.geometry(\"\"\"\n",
    "0 1\n",
    "Be\n",
    "\"\"\")\n",
    "\n",
    "# Opciones de calculo\n",
    "psi4.set_options({'basis': 'cc-pvdz',\n",
    "                  'e_convergence': 1e-8})\n",
    "\n",
    "psi4.energy('scf/cc-pvdz')"
   ]
  },
  {
   "cell_type": "markdown",
   "metadata": {},
   "source": [
    "Como van a escribir su propio código HF, vamos a especifiar primeros las variables necesarias para el ciclo \n",
    "iterativo, que son el número máximo de ciclos que van a permitir y el criterio de convergencia para el energía."
   ]
  },
  {
   "cell_type": "code",
   "execution_count": 24,
   "metadata": {
    "collapsed": true
   },
   "outputs": [],
   "source": [
    "# Máximo de iteraciones SCF\n",
    "MAXITER = 40\n",
    "# Criterio de Convergencia para la energía.\n",
    "E_conv = 1.0e-6\n",
    "# Energía de repulsión nucelo-nucleo\n",
    "E_nuc = mol.nuclear_repulsion_energy()"
   ]
  },
  {
   "cell_type": "markdown",
   "metadata": {},
   "source": [
    "Antes de construir la matriz de Fock debemos caluclar las cantidades estáticas del ciclo (no cambian de ciclo a ciclo),\n",
    "que son el Hamiltoniano de Core, la matriz de Solapamiento y los ERIs. \n",
    "\n",
    "Emepcemos por las matrices de 1e-. Primero  hay crear un objeto de función de onda de la molecula que quiero calcular.\n",
    "Para poder construir el objeto *wfn*, le debo entregar la información de la geometría molecular y la función de base \n",
    "atómica:\n",
    "\n",
    "\n",
    "Esta la  que me calcula las matrices de 1e-. Naturalmente,\n",
    "la inicio entregandole la información de  la base atómico que voy a utilizar.\n",
    "\n",
    "Afortunadamente lo podemos hacer utilizando las librerias de  <span style='font-variant: small-caps'> Psi4</span>!\n",
    "\n"
   ]
  },
  {
   "cell_type": "code",
   "execution_count": 25,
   "metadata": {
    "collapsed": true
   },
   "outputs": [],
   "source": [
    "# ==> Ojeto wfn <==\n",
    "# Construir función de onda\n",
    "wfn = psi4.core.Wavefunction.build(mol, psi4.core.get_global_option('basis')) # La base es la cc-pVTZ"
   ]
  },
  {
   "cell_type": "markdown",
   "metadata": {},
   "source": [
    "Luego con el objeto *wfn* crear una instancia de MintsHelper que me permite calcular las matrices de integrales (mints)."
   ]
  },
  {
   "cell_type": "code",
   "execution_count": 26,
   "metadata": {
    "collapsed": true
   },
   "outputs": [],
   "source": [
    "# Creación de instancia MintsHelper\n",
    "mints = psi4.core.MintsHelper(wfn.basisset())"
   ]
  },
  {
   "cell_type": "markdown",
   "metadata": {},
   "source": [
    "# Construir matriz de solapamiento\n",
    "A partir de mints puedo guardar la matriz de solapamiento **S** en un array de numpy."
   ]
  },
  {
   "cell_type": "code",
   "execution_count": 27,
   "metadata": {
    "collapsed": true
   },
   "outputs": [],
   "source": [
    "# Overlap matrix\n",
    "S = np.asarray(mints.ao_overlap())"
   ]
  },
  {
   "cell_type": "markdown",
   "metadata": {},
   "source": [
    "El objeto **S**  creado por *mints*, a su vez tiene atributos. Por ejemplo lo podemos \n",
    "imprimir, obtener el tamaño de la matriz ( que es el número de bases atómicas, cuantas son?). El número\n",
    "de orbitales ocupados, lo podemos obtener del objecto **wfn***"
   ]
  },
  {
   "cell_type": "code",
   "execution_count": 28,
   "metadata": {},
   "outputs": [
    {
     "name": "stdout",
     "output_type": "stream",
     "text": [
      "14\n",
      "2\n"
     ]
    }
   ],
   "source": [
    "nbf = S.shape\n",
    "print nbf[0]\n",
    "ndocc = wfn.nalpha()\n",
    "print ndocc "
   ]
  },
  {
   "cell_type": "markdown",
   "metadata": {},
   "source": [
    "# Construya el Hamiltoniano de Core\n",
    "\n",
    "A partir de ao_kinetic y ao_potential, construya el hamiltoniano de core de su molécula"
   ]
  },
  {
   "cell_type": "code",
   "execution_count": 29,
   "metadata": {
    "collapsed": true
   },
   "outputs": [],
   "source": [
    "# Build core Hamiltonian\n",
    "T = np.asarray(mints.ao_kinetic())\n",
    "V = np.asarray(mints.ao_potential())\n",
    "H = T + V"
   ]
  },
  {
   "cell_type": "markdown",
   "metadata": {},
   "source": [
    "# Tensor ERI\n",
    "\n",
    "Ahora nos podemos dedicar a construir el tensor ERI. LibMints hace la construcción del tensor extremadamente \n",
    "simple. Sin embargo antes de guardar el tensor, revisemos primero el tamaño del tensor para revisar si la memoria que le asignamos a numpy es suficiente. Cada integral de mi tensor es un *double float* que pesa 8 bytes. Por lo tanto el \n",
    "tamaño total en MB es:"
   ]
  },
  {
   "cell_type": "code",
   "execution_count": 30,
   "metadata": {},
   "outputs": [
    {
     "name": "stdout",
     "output_type": "stream",
     "text": [
      "\n",
      "Size of the ERI tensor will be 0.31 MB.\n"
     ]
    }
   ],
   "source": [
    "# Memory check for ERI tensor\n",
    "I_size = (nbf[0]**4) * 8.e-6\n",
    "print('\\nSize of the ERI tensor will be {:4.2f} MB.'.format(I_size))\n",
    "memory_footprint = I_size * 1.5\n",
    "\n",
    "# Build ERI Tensor\n",
    "I = np.asarray(mints.ao_eri())\n"
   ]
  },
  {
   "cell_type": "markdown",
   "metadata": {},
   "source": [
    "Si cambia la base a una base triple zeta, en cuanto va aumentar el requerimiento de memoria de su calculo?\n"
   ]
  },
  {
   "cell_type": "markdown",
   "metadata": {},
   "source": [
    "Ahora podemos almacenar el tensor ERI en un array numpy de la misma forma que guardamos la matriz de solapamiento. Revise las dimensiones "
   ]
  },
  {
   "cell_type": "code",
   "execution_count": 31,
   "metadata": {
    "collapsed": true
   },
   "outputs": [],
   "source": [
    "# Tensor con integrales 2e-\n",
    "I = np.asarray(mints.ao_eri())"
   ]
  },
  {
   "cell_type": "markdown",
   "metadata": {
    "collapsed": true
   },
   "source": [
    "# Resulva el problema auto-consitente, y determine la energía electrónica de su molecula. "
   ]
  },
  {
   "cell_type": "code",
   "execution_count": 32,
   "metadata": {},
   "outputs": [
    {
     "name": "stdout",
     "output_type": "stream",
     "text": [
      "There is a new hope for diagonalization!\n",
      "==> Starting SCF Iterations <==\n",
      "\n",
      "SCF Iteration   1: Energy = -14.4051493525856067 dE = -1.44051E+01\n",
      "SCF Iteration   2: Energy = -14.5588836684578080 dE = -1.53734E-01\n",
      "SCF Iteration   3: Energy = -14.5715228221709303 dE = -1.26392E-02\n",
      "SCF Iteration   4: Energy = -14.5722914423453354 dE = -7.68620E-04\n",
      "SCF Iteration   5: Energy = -14.5723350524472171 dE = -4.36101E-05\n",
      "SCF Iteration   6: Energy = -14.5723374875228213 dE = -2.43508E-06\n",
      "SCF Iteration   7: Energy = -14.5723376229817507 dE = -1.35459E-07\n",
      "\n",
      "SCF converged.\n",
      "Final RHF Energy: -14.57233762 [Eh]\n"
     ]
    }
   ],
   "source": [
    "# ==> Construct AO orthogonalization matrix A <==\n",
    "A = mints.ao_overlap()\n",
    "A.power(-0.5, 1.e-16)\n",
    "A = np.asarray(A)\n",
    "\n",
    "# Check orthonormality\n",
    "S_p = A.dot(S).dot(A)\n",
    "new_hope = np.allclose(S_p, np.eye(S.shape[0]))\n",
    "\n",
    "if new_hope:\n",
    "    print('There is a new hope for diagonalization!')\n",
    "else:\n",
    "    print(\"Whoops...something went wrong. Check that you've correctly built the transformation matrix.\")\n",
    "    \n",
    "# ==> Compute C & D matrices with CORE guess <==\n",
    "# Transformed Fock matrix\n",
    "F_p = A.dot(H).dot(A)\n",
    "\n",
    "# Diagonalize F_p for eigenvalues & eigenvectors with NumPy\n",
    "e, C_p = np.linalg.eigh(F_p)\n",
    "\n",
    "# Transform C_p back into AO basis\n",
    "C = A.dot(C_p)\n",
    "\n",
    "# Grab occupied orbitals\n",
    "C_occ = C[:, :ndocc]\n",
    "\n",
    "# Build density matrix from occupied orbitals\n",
    "D = np.einsum('pi,qi->pq', C_occ, C_occ)\n",
    "\n",
    "# ==> Nuclear Repulsion Energy <==\n",
    "E_nuc = mol.nuclear_repulsion_energy()\n",
    "\n",
    "# ==> SCF Iterations <==\n",
    "# Pre-iteration energy declarations\n",
    "SCF_E = 0.0\n",
    "E_old = 0.0\n",
    "\n",
    "print('==> Starting SCF Iterations <==\\n')\n",
    "\n",
    "# Begin Iterations\n",
    "for scf_iter in range(1, MAXITER + 1):\n",
    "    # Build Fock matrix\n",
    "    J = np.einsum('pqrs,rs->pq', I, D)\n",
    "    K = np.einsum('prqs,rs->pq', I, D)\n",
    "    F = H + 2*J - K\n",
    "    \n",
    "    # Compute RHF energy\n",
    "    SCF_E = np.einsum('pq,pq->', (H + F), D) + E_nuc\n",
    "    print('SCF Iteration %3d: Energy = %4.16f dE = % 1.5E' % (scf_iter, SCF_E, SCF_E - E_old))\n",
    "    \n",
    "    # SCF Converged?\n",
    "    if (abs(SCF_E - E_old) < E_conv):\n",
    "        break\n",
    "    E_old = SCF_E\n",
    "    \n",
    "    # Compute new orbital guess\n",
    "    F_p =  A.dot(F).dot(A)\n",
    "    e, C_p = np.linalg.eigh(F_p)\n",
    "    C = A.dot(C_p)\n",
    "    C_occ = C[:, :ndocc]\n",
    "    D = np.einsum('pi,qi->pq', C_occ, C_occ)\n",
    "    \n",
    "    # MAXITER exceeded?\n",
    "    if (scf_iter == MAXITER):\n",
    "        psi4.core.clean()\n",
    "        raise Exception(\"Maximum number of SCF iterations exceeded.\")\n",
    "\n",
    "# Post iterations\n",
    "print('\\nSCF converged.')\n",
    "print('Final RHF Energy: %.8f [Eh]' % (SCF_E))"
   ]
  },
  {
   "cell_type": "code",
   "execution_count": null,
   "metadata": {
    "collapsed": true
   },
   "outputs": [],
   "source": []
  }
 ],
 "metadata": {
  "anaconda-cloud": {},
  "kernelspec": {
   "display_name": "Python 2",
   "language": "python",
   "name": "python2"
  },
  "language_info": {
   "codemirror_mode": {
    "name": "ipython",
    "version": 2
   },
   "file_extension": ".py",
   "mimetype": "text/x-python",
   "name": "python",
   "nbconvert_exporter": "python",
   "pygments_lexer": "ipython2",
   "version": "2.7.13"
  },
  "latex_envs": {
   "LaTeX_envs_menu_present": true,
   "bibliofile": "biblio.bib",
   "cite_by": "apalike",
   "current_citInitial": 1,
   "eqLabelWithNumbers": true,
   "eqNumInitial": 1,
   "labels_anchors": false,
   "latex_user_defs": false,
   "report_style_numbering": false,
   "user_envs_cfg": false
  }
 },
 "nbformat": 4,
 "nbformat_minor": 1
}
