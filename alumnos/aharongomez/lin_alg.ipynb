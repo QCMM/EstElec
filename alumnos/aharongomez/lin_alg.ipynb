{
 "cells": [
  {
   "cell_type": "code",
   "execution_count": 1,
   "metadata": {
    "collapsed": true
   },
   "outputs": [],
   "source": [
    "import numpy as np\n",
    "import time"
   ]
  },
  {
   "cell_type": "markdown",
   "metadata": {},
   "source": [
    "#  Contracciones tensoriales y problemas de valores propios"
   ]
  },
  {
   "cell_type": "markdown",
   "metadata": {},
   "source": [
    "En el desarollo de la química cuantica para estructura electrónica, uno comunmente se encuentra con\n",
    "problemas de valores propios y manipulación de tensores multidimensionales. Eso se debe a \n",
    "la utilización de bases monoelectrónicas para la construcción de una función de onda multielectrónica. \n",
    "\n",
    "Para facilitar la escritura de las contracciones tensoriales, se emplea la llamada notación de einstein \n",
    "en la cuál la está implicita la sumatorio sobre indices repetidos. En una multiplicación matricial por ejemplo\n",
    "las dos notaciones distintas son:\n",
    "\n",
    "\\begin{align} \n",
    "\\rm{Convencional:}\\;\\;\\; C_{ik} &= \\sum_{j} A_{ij} * B_{jk} \\\\ \\rm{Einstein:}\\;\\;\\; C_{ik} &= A_{ij} * B_{jk} \\ \n",
    "\\end{align}\n",
    "\n",
    "O en notación matricial:\n",
    "\n",
    " \\begin{align} {\\rm Matrix}\\;\\;\\; \\bf{D} &= \\bf{A B C} \\\\ {\\rm Einstein}\\;\\;\\; D_{il} &= A_{ij} B_{jk} C_{kl} \\end{align}"
   ]
  },
  {
   "cell_type": "markdown",
   "metadata": {},
   "source": [
    "Numpy tiene dos funciones que permiten calcular productos entre matriciesm que son np.dot y np.einsum. \n",
    "Por ejemplo dado dos matrices **I** y **J** de 2x2, se puede calcular el producto utilizando el método np.dot:"
   ]
  },
  {
   "cell_type": "code",
   "execution_count": 2,
   "metadata": {
    "collapsed": false
   },
   "outputs": [
    {
     "name": "stdout",
     "output_type": "stream",
     "text": [
      "[[ 0.17468709  0.0356804 ]\n",
      " [ 0.42868182  0.20007084]]\n"
     ]
    }
   ],
   "source": [
    "size = 2\n",
    "I = np.random.rand(size, size)\n",
    "J = np.random.rand(size, size)\n",
    "\n",
    "DI = np.dot(I,J)\n",
    "print DI"
   ]
  },
  {
   "cell_type": "markdown",
   "metadata": {},
   "source": [
    "O tambíen utilizando las sumatorias de einstein np.einsum"
   ]
  },
  {
   "cell_type": "code",
   "execution_count": 3,
   "metadata": {
    "collapsed": false
   },
   "outputs": [
    {
     "name": "stdout",
     "output_type": "stream",
     "text": [
      "[[ 0.17468709  0.0356804 ]\n",
      " [ 0.42868182  0.20007084]]\n"
     ]
    }
   ],
   "source": [
    "DI_ein = np.einsum('ik,kj',I,J)\n",
    "print DI_ein"
   ]
  },
  {
   "cell_type": "markdown",
   "metadata": {},
   "source": [
    "Notese que en la notación del metodo einsum los indices solamente indican la regla de la contracción."
   ]
  },
  {
   "cell_type": "markdown",
   "metadata": {},
   "source": [
    "## Ejercicio 1: \n",
    "Escriba una rutina que contrae tensores dos dimensionales y verifique el funcionamiento de su rutina con \n",
    "los métodos descritos anteriormente:"
   ]
  },
  {
   "cell_type": "code",
   "execution_count": 4,
   "metadata": {
    "collapsed": false
   },
   "outputs": [
    {
     "name": "stdout",
     "output_type": "stream",
     "text": [
      "[[ 1.  2.  3.]\n",
      " [ 4.  5.  6.]\n",
      " [ 7.  8.  9.]]\n",
      "[[ 1.   2.   9. ]\n",
      " [ 4.   6.   6. ]\n",
      " [ 1.5  0.   9.8]]\n"
     ]
    }
   ],
   "source": [
    "A = np.array([[1.0,2.0,3.0],[4.0,5.0,6.0],[7.0,8.0,9.0]])\n",
    "B = np.array([[1.0,2.0,9.0],[4.0,6.0,6.0],[1.5,0.0,9.8]])\n",
    "\n",
    "print A\n",
    "print B"
   ]
  },
  {
   "cell_type": "code",
   "execution_count": 33,
   "metadata": {
    "collapsed": false
   },
   "outputs": [
    {
     "name": "stdout",
     "output_type": "stream",
     "text": [
      "\n"
     ]
    }
   ],
   "source": [
    "AB = np.zeros((3,3))\n",
    "\n",
    "for i in range(len(A)):\n",
    "    for j in range(len(B)):\n",
    "        for k in range(len(B)):\n",
    "            AB[i][j]= AB[i][j]+ A[i][k]*B[k][j]\n",
    "print"
   ]
  },
  {
   "cell_type": "code",
   "execution_count": 35,
   "metadata": {
    "collapsed": false
   },
   "outputs": [
    {
     "name": "stdout",
     "output_type": "stream",
     "text": [
      "[[  13.5   14.    50.4]\n",
      " [  33.    38.   124.8]\n",
      " [  52.5   62.   199.2]]\n"
     ]
    }
   ],
   "source": [
    "print AB\n"
   ]
  },
  {
   "cell_type": "code",
   "execution_count": 36,
   "metadata": {
    "collapsed": false
   },
   "outputs": [
    {
     "name": "stdout",
     "output_type": "stream",
     "text": [
      "[[  13.5   14.    50.4]\n",
      " [  33.    38.   124.8]\n",
      " [  52.5   62.   199.2]]\n"
     ]
    }
   ],
   "source": [
    "X=np.dot(A,B)\n",
    "print X"
   ]
  },
  {
   "cell_type": "code",
   "execution_count": 37,
   "metadata": {
    "collapsed": false
   },
   "outputs": [
    {
     "name": "stdout",
     "output_type": "stream",
     "text": [
      "[[  13.5   14.    50.4]\n",
      " [  33.    38.   124.8]\n",
      " [  52.5   62.   199.2]]\n"
     ]
    }
   ],
   "source": [
    "X_ein = np.einsum('ik,kj',A,B)\n",
    "print X_ein"
   ]
  },
  {
   "cell_type": "markdown",
   "metadata": {},
   "source": [
    "# Ejercicio 2\n",
    "Un paso clave en el método Hartree-Fock es la construcción de la matrix de Fock: \n",
    "En notación de einstein se construye utilizando la siguiente contracción de tensores:\n",
    "\n",
    "\\begin{equation}\n",
    "G_{pq} = 2I_{pqrs}D_{rs} - I_{prqs}D_{rs}  \n",
    "\\end{equation}\n",
    "\n",
    "Donde $I_{pqrs}$ es un tensor de integrales de repulsion electrónica. Defina dos tensores aleatorios **D** y **I** \n",
    "y calcule la contracción indicada. Verifíque su resultado mediante el método np.einsum"
   ]
  },
  {
   "cell_type": "code",
   "execution_count": 40,
   "metadata": {
    "collapsed": true
   },
   "outputs": [],
   "source": [
    "size = 4\n",
    "D = np.random.rand(size, size)\n",
    "I = np.random.rand(size, size, size, size)\n",
    "G = np.zeros((size,size))"
   ]
  },
  {
   "cell_type": "code",
   "execution_count": 43,
   "metadata": {
    "collapsed": false
   },
   "outputs": [
    {
     "name": "stdout",
     "output_type": "stream",
     "text": [
      "[[ 0.38416078  0.61909769  0.32455055  0.00747794]\n",
      " [ 0.67539232  0.18683269  0.04411163  0.81314422]\n",
      " [ 0.78802491  0.64376786  0.47825452  0.7721874 ]\n",
      " [ 0.99528296  0.39206245  0.25784222  0.04767374]]\n",
      "[[[[  5.04509171e-01   6.91605013e-01   6.17920176e-01   3.75169639e-01]\n",
      "   [  1.49814016e-01   4.25021620e-01   4.17597946e-01   6.51488529e-01]\n",
      "   [  3.11145122e-01   7.24239400e-01   2.56199923e-01   9.85296769e-01]\n",
      "   [  1.52450101e-01   2.37545250e-01   4.76663766e-01   8.34608955e-01]]\n",
      "\n",
      "  [[  9.27941423e-01   5.25142930e-01   3.00433959e-02   1.95297513e-01]\n",
      "   [  7.88916901e-01   1.38672216e-01   2.45660775e-01   8.85013350e-01]\n",
      "   [  1.39849010e-01   5.44624919e-01   4.32931156e-01   1.84700050e-01]\n",
      "   [  2.93892220e-01   7.28393072e-01   9.25716679e-01   2.50417660e-01]]\n",
      "\n",
      "  [[  3.83934705e-01   6.13048724e-02   7.16597382e-01   7.50060286e-01]\n",
      "   [  1.97832997e-01   3.61833996e-01   3.19761601e-01   4.47130063e-01]\n",
      "   [  3.91736664e-01   4.69831757e-01   9.51259188e-01   2.31631489e-01]\n",
      "   [  9.77596784e-01   7.17363011e-02   9.74556061e-01   6.78714015e-01]]\n",
      "\n",
      "  [[  3.86568535e-01   3.23976568e-01   4.49617298e-01   3.35841337e-01]\n",
      "   [  1.20773927e-01   8.60274083e-01   8.96648891e-01   7.05675939e-01]\n",
      "   [  4.43520032e-02   9.95261011e-01   6.72382151e-01   3.03437239e-01]\n",
      "   [  4.43109819e-01   9.74510566e-01   1.58897359e-01   7.96708305e-01]]]\n",
      "\n",
      "\n",
      " [[[  9.93205869e-01   4.26716732e-01   1.73404617e-01   7.21705274e-01]\n",
      "   [  3.28753395e-01   1.51171060e-01   7.56328343e-01   5.18258456e-01]\n",
      "   [  3.65660756e-02   6.23717168e-01   1.62892557e-02   7.43744858e-01]\n",
      "   [  9.48182370e-01   1.86235487e-02   4.97006538e-01   6.50512559e-01]]\n",
      "\n",
      "  [[  5.14446787e-01   5.74345107e-01   2.47875363e-01   3.37690853e-01]\n",
      "   [  4.27888056e-01   2.62766912e-01   6.27591133e-01   3.57636438e-01]\n",
      "   [  6.82196902e-01   2.58119536e-02   4.47994666e-01   8.54337031e-01]\n",
      "   [  8.19511944e-01   4.07570533e-01   4.09929331e-01   9.18881417e-01]]\n",
      "\n",
      "  [[  4.44091719e-01   2.27491017e-01   4.75456291e-01   2.48222033e-01]\n",
      "   [  6.60959271e-01   7.46775205e-01   6.39050716e-01   8.41733746e-01]\n",
      "   [  3.58301860e-01   8.97972761e-01   1.52527821e-02   7.02949144e-01]\n",
      "   [  4.10825325e-01   6.06332280e-01   5.59276324e-02   2.77889613e-02]]\n",
      "\n",
      "  [[  4.49116366e-01   8.88805407e-01   1.63944617e-01   1.73829375e-01]\n",
      "   [  5.09412046e-01   7.08560571e-01   1.70851928e-01   7.12397319e-01]\n",
      "   [  1.19735247e-01   6.91438286e-01   4.93155191e-01   5.29304197e-01]\n",
      "   [  3.71405731e-01   3.29974194e-01   9.42966412e-02   3.33900858e-01]]]\n",
      "\n",
      "\n",
      " [[[  8.70929406e-02   3.96431637e-01   8.00416689e-01   3.20502526e-01]\n",
      "   [  4.64750360e-01   7.58618640e-02   8.13672878e-01   7.78101382e-01]\n",
      "   [  4.17865676e-01   8.06583674e-01   1.87212726e-01   4.89400649e-01]\n",
      "   [  1.26296364e-01   6.30327036e-01   2.18285411e-01   1.89966328e-01]]\n",
      "\n",
      "  [[  8.60385132e-01   8.96714488e-01   3.79304524e-01   4.66670520e-01]\n",
      "   [  7.15656751e-01   6.07332817e-01   7.95743739e-01   3.80835293e-01]\n",
      "   [  6.25072575e-01   8.75344519e-01   9.71145195e-01   1.98581308e-01]\n",
      "   [  5.34735624e-01   9.80260843e-01   7.98524428e-01   5.71410521e-02]]\n",
      "\n",
      "  [[  7.87502804e-02   2.35275252e-01   3.45960498e-01   9.74624259e-01]\n",
      "   [  6.53785045e-01   9.30715407e-01   3.90655965e-01   1.44803530e-01]\n",
      "   [  1.40244737e-01   6.17438785e-01   9.48653647e-01   3.28897089e-01]\n",
      "   [  1.31099312e-01   7.79816699e-04   5.62104840e-01   7.10779180e-01]]\n",
      "\n",
      "  [[  7.90742946e-01   9.98128839e-01   6.88961152e-01   3.19913729e-01]\n",
      "   [  8.45543616e-01   1.53386658e-01   6.78159108e-01   7.20607609e-01]\n",
      "   [  5.30883090e-01   1.23301092e-01   9.07245923e-01   1.63791703e-01]\n",
      "   [  4.01027884e-01   7.17005159e-01   2.22746392e-01   6.05979814e-01]]]\n",
      "\n",
      "\n",
      " [[[  4.01665165e-01   5.62935997e-01   6.64581239e-01   1.18919405e-02]\n",
      "   [  7.25282138e-01   8.83623468e-01   4.60352723e-01   1.86113516e-02]\n",
      "   [  6.34858077e-01   1.93069312e-01   2.44140298e-01   7.86973865e-01]\n",
      "   [  6.29682519e-02   8.24265691e-02   8.54792315e-01   8.24668555e-01]]\n",
      "\n",
      "  [[  7.51544990e-01   8.49096122e-01   6.41463727e-01   1.95851520e-01]\n",
      "   [  9.85409706e-01   1.48515781e-01   1.74505559e-01   4.70561211e-01]\n",
      "   [  9.36262548e-01   7.22862304e-01   3.30264631e-01   5.08270544e-01]\n",
      "   [  9.91777675e-01   2.54105414e-01   9.88199823e-01   5.68888215e-01]]\n",
      "\n",
      "  [[  9.67698883e-01   3.74325809e-01   6.33974428e-01   6.37775277e-02]\n",
      "   [  3.11376600e-02   8.19644290e-01   7.29300613e-01   4.09457815e-01]\n",
      "   [  6.76585030e-01   9.53209136e-01   4.61804630e-01   5.48565718e-02]\n",
      "   [  6.09605232e-01   7.71773344e-01   3.49271095e-01   8.16242742e-01]]\n",
      "\n",
      "  [[  7.91328862e-01   6.99602893e-01   9.55633967e-01   4.11567198e-01]\n",
      "   [  3.03041473e-01   4.25752289e-01   5.81240030e-01   6.86812827e-01]\n",
      "   [  4.02101504e-01   6.34511769e-01   5.82026984e-01   5.46442667e-01]\n",
      "   [  2.78329014e-01   8.12029835e-01   3.28099657e-01   3.75651920e-01]]]]\n",
      "[[ 0.  0.  0.  0.]\n",
      " [ 0.  0.  0.  0.]\n",
      " [ 0.  0.  0.  0.]\n",
      " [ 0.  0.  0.  0.]]\n"
     ]
    }
   ],
   "source": [
    "print D\n",
    "print I\n",
    "print G"
   ]
  },
  {
   "cell_type": "code",
   "execution_count": 56,
   "metadata": {
    "collapsed": false
   },
   "outputs": [
    {
     "name": "stdout",
     "output_type": "stream",
     "text": [
      "[[ 14.10286029  15.00801662  15.41135977  13.61183314]\n",
      " [ 14.7921484   15.18354997  15.94590034  14.90638906]\n",
      " [ 11.37385734  20.5956344    8.33021393  19.47773118]\n",
      " [ 10.16368871  23.52501929  15.02612096  16.14387206]]\n"
     ]
    }
   ],
   "source": [
    "for p in range(len(I)):\n",
    "    for q in range(len(I)):\n",
    "            for r in range(len(D)):\n",
    "                for s in range(len(D)):\n",
    "                    G[p][q]= G[p][q] + 2*I[p][q][r][s] * D[r][s]\n",
    "                    G[p][q]= G[p][q] - I[p][r][q][s]* D[r][s]\n",
    "print G"
   ]
  },
  {
   "cell_type": "code",
   "execution_count": 60,
   "metadata": {
    "collapsed": false
   },
   "outputs": [
    {
     "name": "stdout",
     "output_type": "stream",
     "text": [
      "[[ 3.49497719  3.88278737  4.17343199  3.31914905]\n",
      " [ 3.86098789  3.74590404  4.13388042  3.88933041]\n",
      " [ 2.39505199  5.54490746  1.59391972  5.55088647]\n",
      " [ 1.96913602  6.53262285  3.71573104  4.02970646]]\n"
     ]
    }
   ],
   "source": [
    "X_1=np.einsum('pqrs,rs',I,D)\n",
    "X_2=np.einsum('prqs,rs',I,D)\n",
    "X_3 = 2*X_1 - X_2\n",
    "print X_3"
   ]
  },
  {
   "cell_type": "markdown",
   "metadata": {
    "collapsed": true
   },
   "source": [
    "# Problema de valor propio \n",
    "\n",
    "\n",
    "El problema de valores propios está en el corazon de la química quántica. En este ejercicio vamos a encontrar \n",
    "los valores y vectores propios de una matriz hermítica, como por ejemplo la matriz hamiltoniana en \n",
    "una base finita que aparece en su tarea. \n",
    "\n",
    "En general el la ecuación de valores propios para un operador $\\mathbf{O}$ $N\\times N$ se expresa como:\n",
    "\n",
    "\\begin{equation}\n",
    "\\mathbf{O}\\mathbf{c} = \\omega\\mathbf{c}\n",
    "\\end{equation}\n",
    "\n",
    "Aquí $\\mathbf{c}$ es un vector en una base $N$-dimensional\n",
    "Esta ecuación se puede reescribir como:\n",
    "\n",
    "\\begin{equation}\n",
    "(\\mathbf{O} - \\omega\\mathbf{1})\\mathbf{c} = 0\n",
    "\\end{equation}\n",
    "\n",
    "Este problema tiene soluciones no triviales solo cuando \n",
    "\n",
    "\\begin{equation}\n",
    "|\\mathbf{O} - \\omega\\mathbf{1}| = 0\n",
    "\\end{equation}\n",
    "\n",
    "Es determinante se detnomina determinante secular y es un polinomio de grado N, por lo \n",
    "que tiene N raices de $\\omega_{\\alpha}$, que serian los valores propios de la matriz. \n",
    "Los vecotres propios se obtienen al resolver el sistema de ecuaciones:\n",
    "\n",
    "\\begin{equation}\n",
    "\\mathbf{O}\\mathbf{c^{\\alpha}} = \\omega_{\\alpha}\\mathbf{c^{\\alpha}} \\qquad \\alpha = 1,2,..., N\n",
    "\\end{equation}\n",
    "\n",
    "\n",
    "Para un operador hermítico la matriz compuesta por los vectores propios $\\mathbf{U}$ es una matriz unitaria que \n",
    "diagonaliza al operador en su base no diagonal:\n",
    "\n",
    "\\begin{equation}\n",
    "\\mathbf{\\omega} = \\mathbf{U^{\\dagger}}\\mathbf{O}\\mathbf{U} \n",
    "\\end{equation}\n"
   ]
  },
  {
   "cell_type": "markdown",
   "metadata": {},
   "source": [
    "# Ejercicio 3\n",
    "\n",
    "Encuentre los valores y vectores propios de una matriz de dimensiones 4x4 con el método descrito anteriormente y utilizando la rutina numpy.linalg.eig. (Hint: Use el metodo charpoly() implementada en symmpy)"
   ]
  },
  {
   "cell_type": "code",
   "execution_count": 4,
   "metadata": {
    "collapsed": false,
    "scrolled": true
   },
   "outputs": [
    {
     "name": "stdout",
     "output_type": "stream",
     "text": [
      "[[ 0.87765091  0.70886773  0.53246895  0.48171192]\n",
      " [ 0.70886773  0.54466747  0.4174548   0.61151929]\n",
      " [ 0.53246895  0.4174548   0.75080152  0.71581245]\n",
      " [ 0.48171192  0.61151929  0.71581245  0.93187373]]\n"
     ]
    }
   ],
   "source": [
    "## Construir Matriz diagonal\n",
    "H_tmp = np.random.rand(4, 4)\n",
    "H = (H_tmp + H_tmp.T)/2\n",
    "print H"
   ]
  },
  {
   "cell_type": "code",
   "execution_count": null,
   "metadata": {
    "collapsed": true
   },
   "outputs": [],
   "source": []
  }
 ],
 "metadata": {
  "anaconda-cloud": {},
  "kernelspec": {
   "display_name": "Python [default]",
   "language": "python",
   "name": "python2"
  },
  "language_info": {
   "codemirror_mode": {
    "name": "ipython",
    "version": 2
   },
   "file_extension": ".py",
   "mimetype": "text/x-python",
   "name": "python",
   "nbconvert_exporter": "python",
   "pygments_lexer": "ipython2",
   "version": "2.7.12"
  }
 },
 "nbformat": 4,
 "nbformat_minor": 2
}
