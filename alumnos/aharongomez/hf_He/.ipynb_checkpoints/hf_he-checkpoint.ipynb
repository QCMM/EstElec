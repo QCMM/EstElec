{
 "cells": [
  {
   "cell_type": "markdown",
   "metadata": {},
   "source": [
    "## Hartree Fock en el átomo de Helio\n"
   ]
  },
  {
   "cell_type": "code",
   "execution_count": 241,
   "metadata": {
    "collapsed": true
   },
   "outputs": [],
   "source": [
    "import numpy as np"
   ]
  },
  {
   "cell_type": "markdown",
   "metadata": {},
   "source": [
    "\n",
    "\n",
    "En este laboratorio vamos a implementar una rutina que permita obtener\n",
    "la energía hartree-fock del átomo de helio a través de las ecuaciones\n",
    "de Roothaan. Para eso vamos a expresar el orbital 1s del helio en terminos\n",
    "de dos funciones bases:\n",
    "\n",
    "\\begin{equation}\n",
    "\\phi_1(r) = 2\\alpha_1^{3/2}e^{-\\alpha_1 r}Y^0_0, \\qquad \\phi_2(r) = 2\\alpha_2^{3/2}*e^{-\\alpha_2 r}Y^0_0,\n",
    "\\end{equation}\n",
    "\n",
    "Los exponentes $ \\alpha $ son:\n",
    "\n",
    "\\begin{equation}\n",
    "\\alpha_1 = 1.40 \\qquad \\alpha_2 = 2.90\n",
    "\\end{equation}"
   ]
  },
  {
   "cell_type": "code",
   "execution_count": 242,
   "metadata": {
    "collapsed": true
   },
   "outputs": [],
   "source": [
    "#alpha_1 = 1.45\n",
    "#alpha_2 = 2.91\n",
    "\n",
    "alpha_1 = 1.453\n",
    "alpha_2 = 2.911"
   ]
  },
  {
   "cell_type": "markdown",
   "metadata": {},
   "source": [
    "# Paso 0: Formar matrices $H^{core}$ y de Solapamiento\n",
    "\n",
    "El primer paso para el calculo Hartree-Fock-Roothaan es calcular la matriz de solapamiento($S_{\\mu\\nu}$)\n",
    "y del Hamiltoniano de core ($H^{core}_{\\mu\\nu}$):\n",
    "\n",
    "Es fácil verificar que la integral de solpamiento esta dada por:\n",
    "\n",
    "\\begin{equation}\n",
    "S_{12} = S_{21} = \\frac{8\\alpha_1^{3/2}\\alpha_2^{3/2}}{(\\alpha_1+\\alpha_2)^3}\n",
    "\\end{equation}\n",
    "\n",
    "y\n",
    "\\begin{equation}\n",
    "S_{11} = S_{22} = 1\n",
    "\\end{equation}\n"
   ]
  },
  {
   "cell_type": "code",
   "execution_count": 243,
   "metadata": {
    "collapsed": false
   },
   "outputs": [],
   "source": [
    "S_12 = (8.0*alpha_1**(3./2.)*alpha_2**(3./2.))/(alpha_1+alpha_2)**(3.0)\n",
    "S_21 = S_12\n",
    "S_11 = 1\n",
    "S_22 = S_11\n",
    "\n",
    "S = np.array = ([[S_11,S_12],[S_21,S_22]])\n"
   ]
  },
  {
   "cell_type": "markdown",
   "metadata": {},
   "source": [
    "Los elemento diagonales del Hamiltoniano de core estan dado por:\n",
    "\n",
    "\\begin{equation}\n",
    "H_{ii} =  0.5\\alpha_i^2 - 2\\alpha_i \n",
    "\\end{equation}\n",
    "\n",
    "y los elementos fuera de la diagonal son:\n",
    "\n",
    "\\begin{equation}\n",
    "H_{12} = H_{21} = \\frac{\\alpha_1^{3/2}\\alpha_2^{3/2}(4\\alpha_1\\alpha_2 - 8\\alpha_1-8\\alpha_2)}{(\\alpha_1 + \\alpha_2)^3}\n",
    "\\end{equation}\n"
   ]
  },
  {
   "cell_type": "code",
   "execution_count": 244,
   "metadata": {
    "collapsed": true
   },
   "outputs": [],
   "source": [
    "H_11 = 0.5*alpha_1**2 - 2*alpha_1\n",
    "H_22 = 0.5*alpha_2**2 - 2*alpha_2\n",
    "H_12 = 4*alpha_1**(3./2.)*alpha_2**(3./2.)*(alpha_1*alpha_2 - 2.0*alpha_1 - 2.0*alpha_2)/(alpha_1+alpha_2)**3.\n",
    "H_21 = H_12\n",
    "H = np.array = ([[H_11,H_12],[H_21,H_22]])\n"
   ]
  },
  {
   "cell_type": "markdown",
   "metadata": {},
   "source": [
    "Para poder calcular la matriz de Fock, necesitamos calcular las integrales de dos electrones:\n",
    "\n",
    "# Paso 1: Calcular las integrales de repulsión electrónica (ERI)\n",
    "\n",
    "Determine las integrales únicas $<\\mu\\lambda|\\nu\\sigma>$  de dos electrones para el átomo de He con dos funciones base, y guardelas en un tensor de cuatro indices ERI.\n",
    "\n"
   ]
  },
  {
   "cell_type": "code",
   "execution_count": 245,
   "metadata": {
    "collapsed": false
   },
   "outputs": [
    {
     "ename": "SyntaxError",
     "evalue": "invalid syntax (<ipython-input-245-9c8b5e407eb2>, line 1)",
     "output_type": "error",
     "traceback": [
      "\u001b[0;36m  File \u001b[0;32m\"<ipython-input-245-9c8b5e407eb2>\"\u001b[0;36m, line \u001b[0;32m1\u001b[0m\n\u001b[0;31m    <11/11> <11/12> <11/21> <12/11> <21/11>\u001b[0m\n\u001b[0m    ^\u001b[0m\n\u001b[0;31mSyntaxError\u001b[0m\u001b[0;31m:\u001b[0m invalid syntax\n"
     ]
    }
   ],
   "source": [
    "<11/11> <11/12> <11/21> <12/11> <21/11>\n",
    "<22/11> <21/12> <11/22> <22/21> <22/12>\n",
    "<21/22> <12/22> <22/22>\n",
    "\n",
    "<11/11>\n",
    "<22/22>\n",
    "<11/12> = <11/21> = <12/11> = <21/11>\n",
    "<11/22> = <22/11> = <21/12> = <12/21>\n",
    "<12/12> = <21/21>\n",
    "<12/22> = <21/22> = <22/12> = <22/21>\n"
   ]
  },
  {
   "cell_type": "code",
   "execution_count": 246,
   "metadata": {
    "collapsed": true
   },
   "outputs": [],
   "source": [
    "# Integrales de dos electrones:\n",
    "eri1=5./8.*alpha_1 #<11|11>\n",
    "eri2=5./8.*alpha_2 #<22|22>\n",
    "eri3=(alpha_1**4*alpha_2+4*alpha_1**3*alpha_2**2+4*alpha_1**2*alpha_2**3+alpha_1*alpha_2**4)/(alpha_1+alpha_2)**4 #<12|12 >\n",
    "eri4=20*alpha_1**3*alpha_2**3/(alpha_1+alpha_2)**5 #<11|22>\n",
    "eri5=16*alpha_1**(9./2.)*alpha_2**(3./2.)/(3*alpha_1+alpha_2)**4*((12*alpha_1+8*alpha_2)/(alpha_1+alpha_2)**2+(9.*alpha_1+alpha_2)/(2.*alpha_1**2))#<11|12>\n",
    "eri6=16*alpha_2**(9./2.)*alpha_1**(3./2.)/(3*alpha_2+alpha_1)**4*((12*alpha_2+8*alpha_1)/(alpha_2+alpha_1)**2+(9.*alpha_2+alpha_1)/(2.*alpha_2**2))#<22|21>\n",
    "ERI=np.empty([2,2,2,2])\n",
    "ERI[0][0][0][0] = eri1\n",
    "ERI[0][0][0][1] = eri5\n",
    "ERI[0][0][1][0] = eri5\n",
    "ERI[0][1][0][0] = eri5\n",
    "ERI[1][0][0][0] = eri5\n",
    "ERI[0][0][1][1] = eri4\n",
    "ERI[1][1][0][0] = eri4\n",
    "ERI[1][0][0][1] = eri4\n",
    "ERI[0][1][1][0] = eri4\n",
    "ERI[0][1][0][1] = eri3\n",
    "ERI[1][0][1][0] = eri3\n",
    "ERI[0][1][1][1] = eri6\n",
    "ERI[1][0][1][1] = eri6\n",
    "ERI[1][1][0][1] = eri6\n",
    "ERI[1][1][1][0] = eri6\n",
    "ERI[1][1][1][1] = eri2\n",
    "    # Construción del tensor de dos electrones\n"
   ]
  },
  {
   "cell_type": "markdown",
   "metadata": {},
   "source": [
    "\n",
    "# Paso 2: Construir la matriz de transformción\n",
    "\n",
    "Para poder emepzar con la iteración, debemos pasar a la base ortogonal de las funciones base y así tratar\n",
    "la ecuación matricial de Hartree-Fock-Roothaan como un problema de valores propios. Procedemos a diagonalizar la matriz de solapamiento y obtener la matriz diagonal s.\n",
    "\n",
    "\n",
    "\\begin{equation}\n",
    "\\Large\n",
    "\\mathbf{s} = \\mathbf{U^{\\dagger}}\\mathbf{S}\\mathbf{U}\n",
    "\\end{equation}\n",
    "\n",
    "\n",
    "Ahora que es una matriz diagonal, le podemos calcular el inverso de la raiz cuadrada: $\\quad\\mathbf{s^{-1/2}}$\n",
    "\n",
    "\n",
    "Finalmente construimos la matriz de transformación de base $ \\mathbf{S^{-1/2}} $ en \n",
    "la base original, utilizando la matriz de vecotres propios $\\mathbf{U}$ de \n",
    "transformación de base.\n",
    "\n",
    "\\begin{equation}\n",
    "\\Large\n",
    "\\mathbf{S^{-1/2}} = \\mathbf{U}\\mathbf{s^{-1/2}}\\mathbf{U^{\\dagger}}\n",
    "\\end{equation}"
   ]
  },
  {
   "cell_type": "code",
   "execution_count": 247,
   "metadata": {
    "collapsed": false,
    "scrolled": true
   },
   "outputs": [
    {
     "name": "stdout",
     "output_type": "stream",
     "text": [
      "[[ 0.73774492  0.        ]\n",
      " [ 0.          2.47941045]]\n"
     ]
    }
   ],
   "source": [
    "e = np.linalg.eig(S)[0]\n",
    "U = np.linalg.eig(S)[1]\n",
    "U_dag=np.linalg.inv(U)\n",
    "\n",
    "I= np.identity(2)\n",
    "s_sqrt = I*np.sqrt(e)\n",
    "s_sqrt_inv = np.linalg.inv(s_sqrt)\n",
    "print s_sqrt_inv\n",
    "\n"
   ]
  },
  {
   "cell_type": "code",
   "execution_count": 248,
   "metadata": {
    "collapsed": false
   },
   "outputs": [
    {
     "name": "stdout",
     "output_type": "stream",
     "text": [
      "[[ 1.60857768 -0.87083277]\n",
      " [-0.87083277  1.60857768]]\n"
     ]
    }
   ],
   "source": [
    "S_sqrt_inv=U.dot(s_sqrt_inv).dot(U_dag)\n",
    "print S_sqrt_inv"
   ]
  },
  {
   "cell_type": "markdown",
   "metadata": {
    "collapsed": true
   },
   "source": [
    "# Paso 3: Construir la matriz de Fock inicial y encontrar la matriz de coeficientes en la base ortogonal\n",
    "\n",
    "Ahora podemos formar la matriz de Fock, que en la primer iteración es la matriz del Hamiltoniano\n",
    "core:\n",
    "\n",
    "\n",
    "\n",
    "\\begin{equation}\n",
    "\\Large\n",
    "\\mathbf{F} = \\mathbf{H^{core}}\n",
    "\\end{equation}\n",
    "\n",
    "Para poder solucionar el problema de valores propios debemos transformar la matriz de Fock\n",
    "a la base de orbitales ortogonales:\n",
    "\n",
    "\n",
    "\n",
    "\\begin{equation}\n",
    "\\Large\n",
    "\\mathbf{F^{'}} = \\mathbf{S^{\\dagger -1/2}}\\mathbf{F}\\mathbf{S^{-1/2}}\n",
    "\\end{equation}\n",
    "\n",
    "\n",
    "En esta base se cumple que:\n",
    "\n",
    "\n",
    "\n",
    "\\begin{equation}\n",
    "\\Large\n",
    "\\mathbf{F^{'}C^{'}} = \\mathbf{C^{'}\\epsilon}\n",
    "\\end{equation}\n",
    "\n",
    "\n"
   ]
  },
  {
   "cell_type": "code",
   "execution_count": 344,
   "metadata": {
    "collapsed": false
   },
   "outputs": [],
   "source": [
    "F_i = H\n",
    "def Fock_transform(F_i,S_sqrt_inv):\n",
    "    F__p = np.transpose(S_sqrt_inv).dot(F_i).dot(S_sqrt_inv)\n",
    "\n",
    "    return F__p\n"
   ]
  },
  {
   "cell_type": "code",
   "execution_count": 316,
   "metadata": {
    "collapsed": false
   },
   "outputs": [
    {
     "name": "stdout",
     "output_type": "stream",
     "text": [
      "[-1.97956224  1.03751222]\n",
      "[[-0.76186558  0.64773516]\n",
      " [-0.64773516 -0.76186558]]\n"
     ]
    }
   ],
   "source": [
    "F_p = Fock_transform(F_i,S_sqrt_inv)\n",
    "epsilon = np.linalg.eig(F_p)[0]\n",
    "C_p =np.linalg.eig(F_p)[1]\n",
    "print epsilon\n",
    "print C_p"
   ]
  },
  {
   "cell_type": "markdown",
   "metadata": {},
   "source": [
    "# Paso 4: Volver a la base original y formar la matriz de Densidad inicial:\n",
    "\n",
    "Para obtener los coeficientes en la base original debemos transformar de vuelta, utilizando la matriz \n",
    "de transformación simétrica:\n",
    "\n",
    "\\begin{equation}\n",
    "\\Large\n",
    "\\mathbf{C} = \\mathbf{S^{-1/2}}\\mathbf{C^{'}}\n",
    "\\end{equation}\n",
    "\n",
    "\n",
    "Con los coeficientes en la base original, es posible caluclar la matriz densidad. Nótese \n",
    "que la sum para construir la matriz densidad es sobre los electrones y no sobre las funciones base:\n",
    "\n",
    "\n",
    "\\begin{equation}\n",
    "\\Large\n",
    "\\mathbf{D_{\\mu\\nu}} = 2\\sum_{i=1}^{N/2} C_{\\mu i}C_{\\nu i} \n",
    "\\end{equation}\n"
   ]
  },
  {
   "cell_type": "code",
   "execution_count": 317,
   "metadata": {
    "collapsed": false
   },
   "outputs": [
    {
     "name": "stdout",
     "output_type": "stream",
     "text": [
      "[[-0.66145097  1.70538983]\n",
      " [-0.37847481 -1.78958897]]\n"
     ]
    }
   ],
   "source": [
    "C = S_sqrt_inv.dot(C_p)\n",
    "print C"
   ]
  },
  {
   "cell_type": "code",
   "execution_count": 393,
   "metadata": {
    "collapsed": false
   },
   "outputs": [],
   "source": [
    "def Density_matrix(C):\n",
    "    Duv = np.empty((2,2))\n",
    "    for u in range(0,2):\n",
    "        for v in range(0,2):\n",
    "            for i in range(0,1):\n",
    "                Duv[u][v] = (2*C[u][i]*C[v][i])\n",
    "    \n",
    "    return Duv"
   ]
  },
  {
   "cell_type": "code",
   "execution_count": 394,
   "metadata": {
    "collapsed": false
   },
   "outputs": [
    {
     "name": "stdout",
     "output_type": "stream",
     "text": [
      "[[ 0.87503477  0.50068506]\n",
      " [ 0.50068506  0.28648637]]\n"
     ]
    }
   ],
   "source": [
    "D = Density_matrix(C)\n",
    "print D"
   ]
  },
  {
   "cell_type": "markdown",
   "metadata": {},
   "source": [
    "# Paso 5: Calcular la energía HF inicial\n",
    "\n",
    "\n",
    "Ahora podemos calcular la energía Hartree-Fock inicial:\n",
    "\n",
    "\\begin{equation}\n",
    "\\Large\n",
    "E_{HF} = 0.5\\sum_{\\mu \\nu}^{AO} D_{\\mu \\nu}(H_{\\mu \\nu} + F_{\\mu \\nu})\n",
    "\\end{equation}"
   ]
  },
  {
   "cell_type": "code",
   "execution_count": 402,
   "metadata": {
    "collapsed": false
   },
   "outputs": [],
   "source": [
    "def E_hf(H,F,Duv):\n",
    "    E_HF = 0.0\n",
    "    for u in range(0,2):\n",
    "        for v in range(0,2):\n",
    "            E_HF= E_HF + 0.5*Duv[u][v]*(H[u][v]+F[u][v])\n",
    "            print E_HF/2"
   ]
  },
  {
   "cell_type": "code",
   "execution_count": 403,
   "metadata": {
    "collapsed": false
   },
   "outputs": [
    {
     "name": "stdout",
     "output_type": "stream",
     "text": [
      "-0.80958019898\n",
      "-1.28104816593\n",
      "-1.75251613287\n",
      "-1.97956223591\n"
     ]
    }
   ],
   "source": [
    "E_hf(H,F_i,Duv)"
   ]
  },
  {
   "cell_type": "markdown",
   "metadata": {},
   "source": [
    "Con los coeficientes nuevos podemos construir la matriz de Fock inicial, esta vez utliziando las integrales de repulsión electrónica: \n",
    "\n",
    "\\begin{equation}\n",
    "\\Large\n",
    "F_{\\lambda \\sigma} = \\sum_{\\mu \\nu}^{AO} H_{\\mu \\nu} + D_{\\mu \\nu}(<\\mu\\sigma|\\nu\\lambda> - 0.5<\\mu\\sigma|\\lambda\\nu>)\n",
    "\\end{equation}\n"
   ]
  },
  {
   "cell_type": "code",
   "execution_count": 410,
   "metadata": {
    "collapsed": false
   },
   "outputs": [
    {
     "ename": "IndentationError",
     "evalue": "unexpected indent (<ipython-input-410-242e1529f154>, line 2)",
     "output_type": "error",
     "traceback": [
      "\u001b[0;36m  File \u001b[0;32m\"<ipython-input-410-242e1529f154>\"\u001b[0;36m, line \u001b[0;32m2\u001b[0m\n\u001b[0;31m    size = 2\u001b[0m\n\u001b[0m    ^\u001b[0m\n\u001b[0;31mIndentationError\u001b[0m\u001b[0;31m:\u001b[0m unexpected indent\n"
     ]
    }
   ],
   "source": [
    "#def Fock(H,Duv,ERI):\n",
    "    size = 2\n",
    "    F = np.zeros((size,size))\n",
    "    for s in range(0,2):\n",
    "        for l in range(0,2):\n",
    "            for v in range(0,2):\n",
    "                for u in range(0,2):\n",
    "                    F[l][s]= F[l][s] +(H[u][v]+ Duv[u][v]*(ERI[u][s][v][l] - 0.5*ERI[u][s][l][v]))\n",
    "                print F[l][s]\n",
    "    return F\n",
    "F = Fock(H,Duv,ERI)\n",
    "print(F)"
   ]
  },
  {
   "cell_type": "code",
   "execution_count": 411,
   "metadata": {
    "collapsed": false
   },
   "outputs": [],
   "source": [
    "def Fock(H,Duv,ERI):\n",
    "    F_einsum_1 = np.einsum('usvl,sl', ERI, Duv)\n",
    "    F_einsum_2 = np.einsum('uslv,sl', ERI, Duv)\n",
    "    X = F_einsum_1 - 0.5*F_einsum_2\n",
    "    F_ls = H + X\n",
    "    return F_ls"
   ]
  },
  {
   "cell_type": "code",
   "execution_count": 412,
   "metadata": {
    "collapsed": false
   },
   "outputs": [
    {
     "name": "stdout",
     "output_type": "stream",
     "text": [
      "[[-0.79730172 -0.87930134]\n",
      " [-0.87930134 -0.05540369]]\n"
     ]
    }
   ],
   "source": [
    "F = Fock(H,Duv,ERI)\n",
    "print F"
   ]
  },
  {
   "cell_type": "markdown",
   "metadata": {},
   "source": [
    "# Paso 5: Calcular la matriz de Fock nueva y repetir los pasos anterioes\n",
    "\n",
    "Con esta matriz de Fock repetimos los pasos anteriores para obtener una nueva energía electrónica:"
   ]
  },
  {
   "cell_type": "code",
   "execution_count": 421,
   "metadata": {
    "collapsed": false
   },
   "outputs": [
    {
     "name": "stdout",
     "output_type": "stream",
     "text": [
      "[[ 1.39628514  0.3174123 ]\n",
      " [ 0.3174123   0.07215616]]\n",
      "-0.924235069244\n",
      "-1.14345530725\n",
      "-1.36267554526\n",
      "-1.3922675636\n"
     ]
    }
   ],
   "source": [
    "F_p1 = Fock_transform(F,S_sqrt_inv)\n",
    "C_p1 =np.linalg.eig(F_p1)[1]\n",
    "C1 = S_sqrt_inv.dot(C_p1)\n",
    "D_uv1 =Density_matrix(C1)\n",
    "print D_uv1\n",
    "E_hf1 = E_hf(H,F,D_uv1)\n"
   ]
  },
  {
   "cell_type": "markdown",
   "metadata": {},
   "source": [
    "# Paso 6: Iterar hasta alcanzar la convergencia:\n",
    "Finalmente, iteramos hasta alcanzar convergencia."
   ]
  },
  {
   "cell_type": "code",
   "execution_count": 408,
   "metadata": {
    "collapsed": true
   },
   "outputs": [],
   "source": [
    "i = 1\n",
    "E_thresh = 1e-8"
   ]
  },
  {
   "cell_type": "code",
   "execution_count": null,
   "metadata": {
    "collapsed": true
   },
   "outputs": [],
   "source": []
  },
  {
   "cell_type": "code",
   "execution_count": null,
   "metadata": {
    "collapsed": true
   },
   "outputs": [],
   "source": []
  }
 ],
 "metadata": {
  "anaconda-cloud": {},
  "kernelspec": {
   "display_name": "Python [default]",
   "language": "python",
   "name": "python2"
  },
  "language_info": {
   "codemirror_mode": {
    "name": "ipython",
    "version": 2
   },
   "file_extension": ".py",
   "mimetype": "text/x-python",
   "name": "python",
   "nbconvert_exporter": "python",
   "pygments_lexer": "ipython2",
   "version": "2.7.12"
  }
 },
 "nbformat": 4,
 "nbformat_minor": 2
}
