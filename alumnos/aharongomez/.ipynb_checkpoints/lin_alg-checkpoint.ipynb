{
 "cells": [
  {
   "cell_type": "code",
   "execution_count": 1,
   "metadata": {
    "collapsed": true
   },
   "outputs": [],
   "source": [
    "import numpy as np\n",
    "import time"
   ]
  },
  {
   "cell_type": "markdown",
   "metadata": {},
   "source": [
    "#  Contracciones tensoriales y problemas de valores propios"
   ]
  },
  {
   "cell_type": "markdown",
   "metadata": {},
   "source": [
    "En el desarollo de la química cuantica para estructura electrónica, uno comunmente se encuentra con\n",
    "problemas de valores propios y manipulación de tensores multidimensionales. Eso se debe a \n",
    "la utilización de bases monoelectrónicas para la construcción de una función de onda multielectrónica. \n",
    "\n",
    "Para facilitar la escritura de las contracciones tensoriales, se emplea la llamada notación de einstein \n",
    "en la cuál la está implicita la sumatorio sobre indices repetidos. En una multiplicación matricial por ejemplo\n",
    "las dos notaciones distintas son:\n",
    "\n",
    "\\begin{align} \n",
    "\\rm{Convencional:}\\;\\;\\; C_{ik} &= \\sum_{j} A_{ij} * B_{jk} \\\\ \\rm{Einstein:}\\;\\;\\; C_{ik} &= A_{ij} * B_{jk} \\ \n",
    "\\end{align}\n",
    "\n",
    "O en notación matricial:\n",
    "\n",
    " \\begin{align} {\\rm Matrix}\\;\\;\\; \\bf{D} &= \\bf{A B C} \\\\ {\\rm Einstein}\\;\\;\\; D_{il} &= A_{ij} B_{jk} C_{kl} \\end{align}"
   ]
  },
  {
   "cell_type": "markdown",
   "metadata": {},
   "source": [
    "Numpy tiene dos funciones que permiten calcular productos entre matriciesm que son np.dot y np.einsum. \n",
    "Por ejemplo dado dos matrices **I** y **J** de 2x2, se puede calcular el producto utilizando el método np.dot:"
   ]
  },
  {
   "cell_type": "code",
   "execution_count": 2,
   "metadata": {
    "collapsed": false
   },
   "outputs": [
    {
     "name": "stdout",
     "output_type": "stream",
     "text": [
      "[[ 0.17468709  0.0356804 ]\n",
      " [ 0.42868182  0.20007084]]\n"
     ]
    }
   ],
   "source": [
    "size = 2\n",
    "I = np.random.rand(size, size)\n",
    "J = np.random.rand(size, size)\n",
    "\n",
    "DI = np.dot(I,J)\n",
    "print DI"
   ]
  },
  {
   "cell_type": "markdown",
   "metadata": {},
   "source": [
    "O tambíen utilizando las sumatorias de einstein np.einsum"
   ]
  },
  {
   "cell_type": "code",
   "execution_count": 3,
   "metadata": {
    "collapsed": false
   },
   "outputs": [
    {
     "name": "stdout",
     "output_type": "stream",
     "text": [
      "[[ 0.17468709  0.0356804 ]\n",
      " [ 0.42868182  0.20007084]]\n"
     ]
    }
   ],
   "source": [
    "DI_ein = np.einsum('ik,kj',I,J)\n",
    "print DI_ein"
   ]
  },
  {
   "cell_type": "markdown",
   "metadata": {},
   "source": [
    "Notese que en la notación del metodo einsum los indices solamente indican la regla de la contracción."
   ]
  },
  {
   "cell_type": "markdown",
   "metadata": {},
   "source": [
    "## Ejercicio 1: \n",
    "Escriba una rutina que contrae tensores dos dimensionales y verifique el funcionamiento de su rutina con \n",
    "los métodos descritos anteriormente:"
   ]
  },
  {
   "cell_type": "code",
   "execution_count": 4,
   "metadata": {
    "collapsed": false
   },
   "outputs": [
    {
     "name": "stdout",
     "output_type": "stream",
     "text": [
      "[[ 1.  2.  3.]\n",
      " [ 4.  5.  6.]\n",
      " [ 7.  8.  9.]]\n",
      "[[ 1.   2.   9. ]\n",
      " [ 4.   6.   6. ]\n",
      " [ 1.5  0.   9.8]]\n"
     ]
    }
   ],
   "source": [
    "A = np.array([[1.0,2.0,3.0],[4.0,5.0,6.0],[7.0,8.0,9.0]])\n",
    "B = np.array([[1.0,2.0,9.0],[4.0,6.0,6.0],[1.5,0.0,9.8]])\n",
    "\n",
    "print A\n",
    "print B"
   ]
  },
  {
   "cell_type": "code",
   "execution_count": 33,
   "metadata": {
    "collapsed": false
   },
   "outputs": [
    {
     "name": "stdout",
     "output_type": "stream",
     "text": [
      "\n"
     ]
    }
   ],
   "source": [
    "AB = np.zeros((3,3))\n",
    "\n",
    "for i in range(len(A)):\n",
    "    for j in range(len(B)):\n",
    "        for k in range(len(B)):\n",
    "            AB[i][j]= AB[i][j]+ A[i][k]*B[k][j]\n",
    "print"
   ]
  },
  {
   "cell_type": "code",
   "execution_count": 35,
   "metadata": {
    "collapsed": false
   },
   "outputs": [
    {
     "name": "stdout",
     "output_type": "stream",
     "text": [
      "[[  13.5   14.    50.4]\n",
      " [  33.    38.   124.8]\n",
      " [  52.5   62.   199.2]]\n"
     ]
    }
   ],
   "source": [
    "print AB\n"
   ]
  },
  {
   "cell_type": "code",
   "execution_count": 36,
   "metadata": {
    "collapsed": false
   },
   "outputs": [
    {
     "name": "stdout",
     "output_type": "stream",
     "text": [
      "[[  13.5   14.    50.4]\n",
      " [  33.    38.   124.8]\n",
      " [  52.5   62.   199.2]]\n"
     ]
    }
   ],
   "source": [
    "X=np.dot(A,B)\n",
    "print X"
   ]
  },
  {
   "cell_type": "markdown",
   "metadata": {},
   "source": [
    "# Ejercicio 2\n",
    "Un paso clave en el método Hartree-Fock es la construcción de la matrix de Fock: \n",
    "En notación de einstein se construye utilizando la siguiente contracción de tensores:\n",
    "\n",
    "\\begin{equation}\n",
    "G_{pq} = 2I_{pqrs}D_{rs} - I_{prqs}D_{rs}  \n",
    "\\end{equation}\n",
    "\n",
    "Donde $I_{pqrs}$ es un tensor de integrales de repulsion electrónica. Defina dos tensores aleatorios **D** y **I** \n",
    "y calcule la contracción indicada. Verifíque su resultado mediante el método np.einsum"
   ]
  },
  {
   "cell_type": "code",
   "execution_count": 3,
   "metadata": {
    "collapsed": true
   },
   "outputs": [],
   "source": [
    "size = 4\n",
    "D = np.random.rand(size, size)\n",
    "I = np.random.rand(size, size, size, size)\n",
    "G = np.zeros((size,size))"
   ]
  },
  {
   "cell_type": "markdown",
   "metadata": {
    "collapsed": true
   },
   "source": [
    "# Problema de valor propio \n",
    "\n",
    "\n",
    "El problema de valores propios está en el corazon de la química quántica. En este ejercicio vamos a encontrar \n",
    "los valores y vectores propios de una matriz hermítica, como por ejemplo la matriz hamiltoniana en \n",
    "una base finita que aparece en su tarea. \n",
    "\n",
    "En general el la ecuación de valores propios para un operador $\\mathbf{O}$ $N\\times N$ se expresa como:\n",
    "\n",
    "\\begin{equation}\n",
    "\\mathbf{O}\\mathbf{c} = \\omega\\mathbf{c}\n",
    "\\end{equation}\n",
    "\n",
    "Aquí $\\mathbf{c}$ es un vector en una base $N$-dimensional\n",
    "Esta ecuación se puede reescribir como:\n",
    "\n",
    "\\begin{equation}\n",
    "(\\mathbf{O} - \\omega\\mathbf{1})\\mathbf{c} = 0\n",
    "\\end{equation}\n",
    "\n",
    "Este problema tiene soluciones no triviales solo cuando \n",
    "\n",
    "\\begin{equation}\n",
    "|\\mathbf{O} - \\omega\\mathbf{1}| = 0\n",
    "\\end{equation}\n",
    "\n",
    "Es determinante se detnomina determinante secular y es un polinomio de grado N, por lo \n",
    "que tiene N raices de $\\omega_{\\alpha}$, que serian los valores propios de la matriz. \n",
    "Los vecotres propios se obtienen al resolver el sistema de ecuaciones:\n",
    "\n",
    "\\begin{equation}\n",
    "\\mathbf{O}\\mathbf{c^{\\alpha}} = \\omega_{\\alpha}\\mathbf{c^{\\alpha}} \\qquad \\alpha = 1,2,..., N\n",
    "\\end{equation}\n",
    "\n",
    "\n",
    "Para un operador hermítico la matriz compuesta por los vectores propios $\\mathbf{U}$ es una matriz unitaria que \n",
    "diagonaliza al operador en su base no diagonal:\n",
    "\n",
    "\\begin{equation}\n",
    "\\mathbf{\\omega} = \\mathbf{U^{\\dagger}}\\mathbf{O}\\mathbf{U} \n",
    "\\end{equation}\n"
   ]
  },
  {
   "cell_type": "markdown",
   "metadata": {},
   "source": [
    "# Ejercicio 3\n",
    "\n",
    "Encuentre los valores y vectores propios de una matriz de dimensiones 4x4 con el método descrito anteriormente y utilizando la rutina numpy.linalg.eig. (Hint: Use el metodo charpoly() implementada en symmpy)"
   ]
  },
  {
   "cell_type": "code",
   "execution_count": 4,
   "metadata": {
    "collapsed": false,
    "scrolled": true
   },
   "outputs": [
    {
     "name": "stdout",
     "output_type": "stream",
     "text": [
      "[[ 0.87765091  0.70886773  0.53246895  0.48171192]\n",
      " [ 0.70886773  0.54466747  0.4174548   0.61151929]\n",
      " [ 0.53246895  0.4174548   0.75080152  0.71581245]\n",
      " [ 0.48171192  0.61151929  0.71581245  0.93187373]]\n"
     ]
    }
   ],
   "source": [
    "## Construir Matriz diagonal\n",
    "H_tmp = np.random.rand(4, 4)\n",
    "H = (H_tmp + H_tmp.T)/2\n",
    "print H"
   ]
  },
  {
   "cell_type": "code",
   "execution_count": null,
   "metadata": {
    "collapsed": true
   },
   "outputs": [],
   "source": []
  }
 ],
 "metadata": {
  "anaconda-cloud": {},
  "kernelspec": {
   "display_name": "Python [default]",
   "language": "python",
   "name": "python2"
  },
  "language_info": {
   "codemirror_mode": {
    "name": "ipython",
    "version": 2
   },
   "file_extension": ".py",
   "mimetype": "text/x-python",
   "name": "python",
   "nbconvert_exporter": "python",
   "pygments_lexer": "ipython2",
   "version": "2.7.12"
  }
 },
 "nbformat": 4,
 "nbformat_minor": 2
}
