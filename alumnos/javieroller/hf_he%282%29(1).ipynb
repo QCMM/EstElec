{
 "cells": [
  {
   "cell_type": "markdown",
   "metadata": {},
   "source": [
    "## Hartree Fock en el átomo de Helio\n"
   ]
  },
  {
   "cell_type": "code",
   "execution_count": 1,
   "metadata": {},
   "outputs": [],
   "source": [
    "import numpy as np"
   ]
  },
  {
   "cell_type": "markdown",
   "metadata": {},
   "source": [
    "\n",
    "\n",
    "En este laboratorio vamos a implementar una rutina que permita obtener\n",
    "la energía hartree-fock del átomo de helio a través de las ecuaciones\n",
    "de Roothaan. Para eso vamos a expresar el orbital 1s del helio en terminos\n",
    "de dos funciones bases:\n",
    "\n",
    "\\begin{equation}\n",
    "\\phi_1(r) = 2\\alpha_1^{3/2}e^{-\\alpha_1 r}Y^0_0, \\qquad \\phi_2(r) = 2\\alpha_2^{3/2}*e^{-\\alpha_2 r}Y^0_0,\n",
    "\\end{equation}\n",
    "\n",
    "Los exponentes $ \\alpha $ son:\n",
    "\n",
    "\\begin{equation}\n",
    "\\alpha_1 = 1.40 \\qquad \\alpha_2 = 2.90\n",
    "\\end{equation}"
   ]
  },
  {
   "cell_type": "code",
   "execution_count": 2,
   "metadata": {},
   "outputs": [],
   "source": [
    "#alpha_1 = 1.45\n",
    "#alpha_2 = 2.91\n",
    "\n",
    "alpha_1 = 1.453\n",
    "alpha_2 = 2.911"
   ]
  },
  {
   "cell_type": "markdown",
   "metadata": {},
   "source": [
    "# Paso 0: Formar matrices $H^{core}$ y de Solapamiento\n",
    "\n",
    "El primer paso para el calculo Hartree-Fock-Roothaan es calcular la matriz de solapamiento($S_{\\mu\\nu}$)\n",
    "y del Hamiltoniano de core ($H^{core}_{\\mu\\nu}$):\n",
    "\n",
    "Es fácil verificar que la integral de solpamiento esta dada por:\n",
    "\n",
    "\\begin{equation}\n",
    "S_{12} = S_{21} = \\frac{8\\alpha_1^{3/2}\\alpha_2^{3/2}}{(\\alpha_1+\\alpha_2)^3}\n",
    "\\end{equation}\n",
    "\n",
    "y\n",
    "\\begin{equation}\n",
    "S_{11} = S_{22} = 1\n",
    "\\end{equation}\n"
   ]
  },
  {
   "cell_type": "code",
   "execution_count": 3,
   "metadata": {},
   "outputs": [
    {
     "name": "stdout",
     "output_type": "stream",
     "text": [
      "[[1, 0.8373316183566577], [0.8373316183566577, 1]]\n",
      "[[ 3.34587187 -2.8016043 ]\n",
      " [-2.8016043   3.34587187]]\n",
      "[ 1.83733162  0.16266838]\n",
      "[[ 0.70710678 -0.70710678]\n",
      " [ 0.70710678  0.70710678]]\n",
      "0.737744916433 2.47941044836\n",
      "[[ 0.73774492  0.        ]\n",
      " [ 0.          2.47941045]]\n",
      "[[ 1.60857768 -0.87083277]\n",
      " [-0.87083277  1.60857768]]\n"
     ]
    }
   ],
   "source": [
    "S_12 = (8.0*alpha_1**(3./2.)*alpha_2**(3./2.))/(alpha_1+alpha_2)**(3.0)\n",
    "S_21 = S_12\n",
    "S_11 = 1\n",
    "S_22 = S_11\n",
    "\n",
    "S = np.array = ([[S_11,S_12],[S_21,S_22]])\n",
    "print S\n",
    "print np.linalg.inv(S)\n",
    "evals,evecs=np.linalg.eig(S)\n",
    "print evals\n",
    "print evecs\n",
    "a=np.zeros([2,2]) # inversa de raiz de evals\n",
    "#eval[0]=np.sqrt(1/a[0][0])\n",
    "#eval[1]=np.sqrt(1/a[1][1])\n",
    "\n",
    "a[0][0]=np.sqrt(1/evals[0])\n",
    "a[1][1]=np.sqrt(1/evals[1])\n",
    "\n",
    "print a[0][0],a[1][1]\n",
    "print a\n",
    "#s=np.empty([2,2]) # matriz de  s minuscula\n",
    "s= (evecs).dot(a).dot(np.transpose(evecs)) # S-1/2 que lo uso para el paso 3\n",
    "\n",
    "print s\n"
   ]
  },
  {
   "cell_type": "markdown",
   "metadata": {},
   "source": [
    "Los elemento diagonales del Hamiltoniano de core estan dado por:\n",
    "\n",
    "\\begin{equation}\n",
    "H_{ii} =  0.5\\alpha_i^2 - 2\\alpha_i \n",
    "\\end{equation}\n",
    "\n",
    "y los elementos fuera de la diagonal son:\n",
    "\n",
    "\\begin{equation}\n",
    "H_{12} = H_{21} = \\frac{\\alpha_1^{3/2}\\alpha_2^{3/2}(4\\alpha_1\\alpha_2 - 8\\alpha_1-8\\alpha_2)}{(\\alpha_1 + \\alpha_2)^3}\n",
    "\\end{equation}\n"
   ]
  },
  {
   "cell_type": "code",
   "execution_count": 4,
   "metadata": {},
   "outputs": [
    {
     "name": "stdout",
     "output_type": "stream",
     "text": [
      "[[-1.8503955, -1.8832915267456327], [-1.8832915267456327, -1.5850394999999997]]\n"
     ]
    }
   ],
   "source": [
    "H_11 = 0.5*alpha_1**2 - 2*alpha_1\n",
    "H_22 = 0.5*alpha_2**2 - 2*alpha_2\n",
    "H_12 = 4*alpha_1**(3./2.)*alpha_2**(3./2.)*(alpha_1*alpha_2 - 2.0*alpha_1 - 2.0*alpha_2)/(alpha_1+alpha_2)**3.\n",
    "H_21 = H_12\n",
    "H = np.array = ([[H_11,H_12],[H_21,H_22]])\n",
    "print H\n"
   ]
  },
  {
   "cell_type": "markdown",
   "metadata": {},
   "source": [
    "Para poder calcular la matriz de Fock, necesitamos calcular las integrales de dos electrones:\n",
    "\n",
    "# Paso 1: Calcular las integrales de repulsión electrónica (ERI)\n",
    "\n",
    "Determine las integrales únicas $<\\mu\\lambda|\\nu\\sigma>$  de dos electrones para el átomo de He con dos funciones base, y guardelas en un tensor de cuatro indices ERI.\n",
    "\n"
   ]
  },
  {
   "cell_type": "code",
   "execution_count": 5,
   "metadata": {},
   "outputs": [],
   "source": [
    "# Integrales de dos electrones:\n",
    "eri1=5./8.*alpha_1 #<11|11>\n",
    "eri2=5./8.*alpha_2 #<22|22>\n",
    "eri3=(alpha_1**4*alpha_2+4*alpha_1**3*alpha_2**2+4*alpha_1**2*alpha_2**3+alpha_1*alpha_2**4)/(alpha_1+alpha_2)**4 #<12|12 >\n",
    "eri4=20*alpha_1**3*alpha_2**3/(alpha_1+alpha_2)**5 #<11|22>\n",
    "eri5=16*alpha_1**(9./2.)*alpha_2**(3./2.)/(3*alpha_1+alpha_2)**4*((12*alpha_1+8*alpha_2)/(alpha_1+alpha_2)**2+(9.*alpha_1+alpha_2)/(2.*alpha_1**2))#<11|12>\n",
    "eri6=16*alpha_2**(9./2.)*alpha_1**(3./2.)/(3*alpha_2+alpha_1)**4*((12*alpha_2+8*alpha_1)/(alpha_2+alpha_1)**2+(9.*alpha_2+alpha_1)/(2.*alpha_2**2))#<22|21>\n",
    "ERI=np.zeros([2,2,2,2])\n",
    "ERI[0][0][0][0] = eri1\n",
    "ERI[0][0][0][1] = eri5\n",
    "ERI[0][0][1][0] = eri5\n",
    "ERI[0][0][1][1] = eri4\n",
    "\n",
    "ERI[0][1][0][0] = eri5\n",
    "ERI[0][1][0][1] = eri3\n",
    "ERI[0][1][1][0] = eri4\n",
    "ERI[0][1][1][1] = eri6\n",
    "\n",
    "ERI[1][0][0][0] = eri5\n",
    "ERI[1][0][0][1] = eri4\n",
    "ERI[1][0][1][0] = eri3\n",
    "ERI[1][0][1][1] = eri6\n",
    "\n",
    "ERI[1][1][0][0] = eri4\n",
    "ERI[1][1][0][1] = eri6\n",
    "ERI[1][1][1][0] = eri6\n",
    "ERI[1][1][1][1] = eri2\n",
    "\n",
    "\n",
    "    # Construción del tensor de dos electrones\n"
   ]
  },
  {
   "cell_type": "markdown",
   "metadata": {},
   "source": [
    "\n",
    "# Paso 2: Construir la matriz de transformción\n",
    "\n",
    "Para poder emepzar con la iteración, debemos pasar a la base ortogonal de las funciones base y así tratar\n",
    "la ecuación matricial de Hartree-Fock-Roothaan como un problema de valores propios. Procedemos a diagonalizar la matriz de solapamiento y obtener la matriz diagonal s.\n",
    "\n",
    "\n",
    "\\begin{equation}\n",
    "\\Large\n",
    "\\mathbf{s} = \\mathbf{U^{\\dagger}}\\mathbf{S}\\mathbf{U}\n",
    "\\end{equation}\n",
    "\n",
    "\n",
    "Ahora que es una matriz diagonal, le podemos calcular el inverso de la raiz cuadrada: $\\quad\\mathbf{s^{-1/2}}$\n",
    "\n",
    "\n",
    "Finalmente construimos la matriz de transformación de base $ \\mathbf{S^{-1/2}} $ en \n",
    "la base original, utilizando la matriz de vecotres propios $\\mathbf{U}$ de \n",
    "transformación de base.\n",
    "\n",
    "\\begin{equation}\n",
    "\\Large\n",
    "\\mathbf{S^{-1/2}} = \\mathbf{U}\\mathbf{s^{-1/2}}\\mathbf{U^{\\dagger}}\n",
    "\\end{equation}"
   ]
  },
  {
   "cell_type": "code",
   "execution_count": null,
   "metadata": {
    "collapsed": true,
    "scrolled": true
   },
   "outputs": [],
   "source": []
  },
  {
   "cell_type": "markdown",
   "metadata": {
    "collapsed": true
   },
   "source": [
    "# Paso 3: Construir la matriz de Fock inicial y encontrar la matriz de coeficientes en la base ortogonal\n",
    "\n",
    "Ahora podemos formar la matriz de Fock, que en la primer iteración es la matriz del Hamiltoniano\n",
    "core:\n",
    "\n",
    "\n",
    "\n",
    "\\begin{equation}\n",
    "\\Large\n",
    "\\mathbf{F} = \\mathbf{H^{core}}\n",
    "\\end{equation}\n",
    "\n",
    "Para poder solucionar el problema de valores propios debemos transformar la matriz de Fock\n",
    "a la base de orbitales ortogonales:\n",
    "\n",
    "\n",
    "\n",
    "\\begin{equation}\n",
    "\\Large\n",
    "\\mathbf{F^{'}} = \\mathbf{S^{\\dagger -1/2}}\\mathbf{F}\\mathbf{S^{-1/2}}\n",
    "\\end{equation}\n",
    "\n",
    "\n",
    "En esta base se cumple que:\n",
    "\n",
    "\n",
    "\n",
    "\\begin{equation}\n",
    "\\Large\n",
    "\\mathbf{F^{'}C^{'}} = \\mathbf{C^{'}\\epsilon}\n",
    "\\end{equation}\n",
    "\n",
    "\n"
   ]
  },
  {
   "cell_type": "code",
   "execution_count": 6,
   "metadata": {},
   "outputs": [
    {
     "name": "stdout",
     "output_type": "stream",
     "text": [
      "[[-0.71371595 -1.48888739]\n",
      " [-1.48888739 -0.22833407]]\n"
     ]
    }
   ],
   "source": [
    "Fprima= np.transpose(s).dot(H).dot(s)\n",
    "print Fprima"
   ]
  },
  {
   "cell_type": "code",
   "execution_count": 46,
   "metadata": {},
   "outputs": [
    {
     "name": "stdout",
     "output_type": "stream",
     "text": [
      "[-1.97956224  1.03751222]\n",
      "[[-0.76186558  0.64773516]\n",
      " [-0.64773516 -0.76186558]]\n"
     ]
    }
   ],
   "source": [
    "evalsfp,evecsfp=np.linalg.eig(Fprima)\n",
    "print evalsfp\n",
    "print evecsfp"
   ]
  },
  {
   "cell_type": "markdown",
   "metadata": {},
   "source": [
    "# Paso 4: Volver a la base original y formar la matriz de Densidad inicial:\n",
    "\n",
    "Para obtener los coeficientes en la base original debemos transformar de vuelta, utilizando la matriz \n",
    "de transformación simétrica:\n",
    "\n",
    "\\begin{equation}\n",
    "\\Large\n",
    "\\mathbf{C} = \\mathbf{S^{-1/2}}\\mathbf{C^{'}}\n",
    "\\end{equation}\n",
    "\n",
    "\n",
    "Con los coeficientes en la base original, es posible caluclar la matriz densidad. Nótese \n",
    "que la sum para construir la matriz densidad es sobre los electrones y no sobre las funciones base:\n",
    "\n",
    "\n",
    "\\begin{equation}\n",
    "\\Large\n",
    "\\mathbf{D} = 2\\sum_{i=1}^{N/2} C_{\\mu i}C_{\\nu i} \n",
    "\\end{equation}\n"
   ]
  },
  {
   "cell_type": "code",
   "execution_count": 59,
   "metadata": {},
   "outputs": [
    {
     "name": "stdout",
     "output_type": "stream",
     "text": [
      "[[-0.66145097  1.70538983]\n",
      " [-0.37847481 -1.78958897]]\n"
     ]
    }
   ],
   "source": [
    "c = (s).dot(evecsfp)\n",
    "print c\n"
   ]
  },
  {
   "cell_type": "code",
   "execution_count": 54,
   "metadata": {},
   "outputs": [
    {
     "name": "stdout",
     "output_type": "stream",
     "text": [
      "[[ 0.87503477  0.50068506]\n",
      " [ 0.50068506  0.28648637]]\n"
     ]
    }
   ],
   "source": [
    "#D=np.zeros([2,2])\n",
    "def matden(c): #D espin restricted\n",
    "    D=np.zeros([2,2]) \n",
    "#for u in range(1):\n",
    "#    for v in range(1):\n",
    "#        D[u][v]=c[u][0]+c[v][0]\n",
    "#        print D[u][v]\n",
    "#D[u][v]= 2*D[u][v]\n",
    "#print D\n",
    "    D[0][0]= 2*(c[0][0]*c[0][0]) #D11 \n",
    "    D[0][1]= 2*(c[0][0]*c[1][0]) #D12\n",
    "    D[1][0]= 2*(c[1][0]*c[0][0]) #D21\n",
    "    D[1][1]= 2*(c[1][0]*c[1][0]) #D22\n",
    "    return D\n",
    "#matd = matden(c)\n",
    "#print matd\n",
    "#D[0][0]= 2*(c[0][0]*c[0][0]) #D11 \n",
    "#D[0][1]= 2*(c[0][0]*c[1][0]) #D12\n",
    "#D[1][0]= 2*(c[1][0]*c[0][0]) #D21\n",
    "#D[1][1]= 2*(c[1][0]*c[1][0]) #D22\n",
    "#print D"
   ]
  },
  {
   "cell_type": "markdown",
   "metadata": {},
   "source": [
    "# Paso 5: Calcular la energía HF inicial\n",
    "\n",
    "\n",
    "Ahora podemos calcular la energía Hartree-Fock inicial:\n",
    "\n",
    "\\begin{equation}\n",
    "\\Large\n",
    "E_{HF} = 0.5\\sum_{\\mu \\nu}^{AO} D_{\\mu \\nu}(H_{\\mu \\nu} + F_{\\mu \\nu})\n",
    "\\end{equation}"
   ]
  },
  {
   "cell_type": "code",
   "execution_count": 76,
   "metadata": {},
   "outputs": [],
   "source": [
    "\n",
    "\n",
    "matd = matden(c)\n",
    "D = matd\n",
    "\n",
    "def energia(D,H,F): #:se usa solo en la primera vez F = Hcore\n",
    "    DHFT =0.0\n",
    "    HF = np.zeros([2,2]) \n",
    "    DHF = np.zeros([2,2])\n",
    "#print Fprima\n",
    "    for u in range(2):\n",
    "        for v in range(2):\n",
    "            HF[u][v] = H[u][v]+ F[u][v] # se usa solo en la primera vez F = Hcore\n",
    "            DHF[u][v] = D[u][v] * HF[u][v] \n",
    "            DHFT = DHFT + DHF[u][v]\n",
    "#            print DHF[u][v]\n",
    "    DHFT = DHFT*0.5\n",
    "     \n",
    "#    print DHFT\n",
    "    return DHFT\n",
    "\n",
    "#matd = energia(D,H)\n",
    "#print matd\n"
   ]
  },
  {
   "cell_type": "code",
   "execution_count": 77,
   "metadata": {},
   "outputs": [
    {
     "name": "stdout",
     "output_type": "stream",
     "text": [
      "-3.80960218428 -3.80960218428\n",
      "-0.89517028234 -4.70477246662\n",
      "-0.89517028234 -5.59994274896\n",
      "-0.123059546082 -5.72300229505\n",
      "-2.86150114752\n"
     ]
    }
   ],
   "source": [
    "#matd = matden(c)\n",
    "#D = matd\n",
    "\n",
    "DHFT =0.0\n",
    "HF = np.zeros([2,2]) \n",
    "DHF = np.zeros([2,2])\n",
    "#print Fprima\n",
    "for u in range(2):\n",
    "    for v in range(2):\n",
    "        HF[u][v] = H[u][v]+ Fe[u][v] # se usa solo en la primera vez F = Hcore\n",
    "        DHF[u][v] = De[u][v] * HF[u][v] \n",
    "        DHFT = DHFT + DHF[u][v]\n",
    "        print DHF[u][v],DHFT\n",
    "DHFT = DHFT*0.5\n",
    "     \n",
    "print DHFT\n",
    "#print H   "
   ]
  },
  {
   "cell_type": "markdown",
   "metadata": {},
   "source": [
    "Con los coeficientes nuevos podemos construir la matriz de Fock inicial, esta vez utliziando las integrales de repulsión electrónica: \n",
    "\n",
    "\\begin{equation}\n",
    "\\Large\n",
    "F_{\\lambda \\sigma} = \\sum_{\\mu \\nu}^{AO} H_{\\mu \\nu} + D_{\\mu \\nu}(<\\mu\\sigma|\\nu\\lambda> - 0.5<\\mu\\sigma|\\lambda\\nu>)\n",
    "\\end{equation}\n"
   ]
  },
  {
   "cell_type": "code",
   "execution_count": null,
   "metadata": {
    "collapsed": true
   },
   "outputs": [],
   "source": []
  },
  {
   "cell_type": "code",
   "execution_count": 27,
   "metadata": {},
   "outputs": [
    {
     "name": "stdout",
     "output_type": "stream",
     "text": [
      "[[-0.79730172 -0.87930134]\n",
      " [-0.87930134 -0.05540369]]\n"
     ]
    }
   ],
   "source": [
    "\n",
    "def Fockn(D):\n",
    "    DI_ein = np.einsum('uv,usvl',D,ERI)# notacion de einstein\n",
    "    DII_ein = np.einsum('uv,uslv',D,ERI)\n",
    "\n",
    "#for u in range(2):\n",
    "#    for v in range(2):\n",
    "#        HD[u][v] = H[u][v] +  D[u][v]*((ERI[u][0][v][0]) - 0.5*(ERI[u][0][0][v]))\n",
    "    HD = H +  (DI_ein) -0.5*(DII_ein)     \n",
    "#        F11 = F11 + HD[u][v]\n",
    "    return(HD) \n",
    "#   print HD\n",
    "        \n",
    "       \n",
    "#fokn = Fockn(D)\n",
    "#print fokn\n",
    "#print F11 \n",
    "#print FN[0][0]"
   ]
  },
  {
   "cell_type": "markdown",
   "metadata": {},
   "source": [
    "# Paso 5: Calcular la matriz de Fock nueva y repetri los pasos anterioes\n",
    "\n",
    "Con esta matriz de Fock repetimos los pasos anteriores para obtener una nueva energía electrónica:"
   ]
  },
  {
   "cell_type": "code",
   "execution_count": 84,
   "metadata": {},
   "outputs": [
    {
     "name": "stdout",
     "output_type": "stream",
     "text": [
      "[[ 0.35840319 -1.74755805]\n",
      " [-1.74755805  1.71546263]]\n",
      "[[-0.83554926  1.62718447]\n",
      " [-0.1899423  -1.81928387]]\n",
      "[[ 1.39628514  0.3174123 ]\n",
      " [ 0.3174123   0.07215616]]\n",
      "[[-0.87798861 -0.93692145]\n",
      " [-0.93692145 -0.12042202]]\n",
      "-2.86150114752\n"
     ]
    }
   ],
   "source": [
    "#print HD\n",
    "Fnueva = np.transpose(s).dot(HD).dot(s)\n",
    "print Fnueva\n",
    "\n",
    "evalsfn,evecsfn=np.linalg.eig(Fnueva)\n",
    "#print evalsfp\n",
    "#print evecsfn\n",
    "CN = np.empty([2,2])\n",
    "\n",
    "CN = (s).dot(evecsfn)\n",
    "c = CN\n",
    "print CN\n",
    "#print c\n",
    "################\n",
    "\n",
    "matd = matden(c)\n",
    "print matd\n",
    "D = matd\n",
    "#\n",
    "fokn = Fockn(D)\n",
    "F = fokn\n",
    "print F\n",
    "\n",
    "energ = energia(D,H,F)\n",
    "print energ\n",
    "\n",
    "\n"
   ]
  },
  {
   "cell_type": "markdown",
   "metadata": {},
   "source": [
    "# Paso 6: Iterar hasta alcanzar la convergencia:\n",
    "Finalmente, iteramos hasta alcanzar convergencia."
   ]
  },
  {
   "cell_type": "code",
   "execution_count": 18,
   "metadata": {
    "collapsed": true
   },
   "outputs": [],
   "source": [
    "i = 1\n",
    "E_thresh = 1e-8"
   ]
  },
  {
   "cell_type": "code",
   "execution_count": null,
   "metadata": {
    "collapsed": true
   },
   "outputs": [],
   "source": []
  },
  {
   "cell_type": "code",
   "execution_count": null,
   "metadata": {
    "collapsed": true
   },
   "outputs": [],
   "source": []
  }
 ],
 "metadata": {
  "anaconda-cloud": {},
  "kernelspec": {
   "display_name": "Python 2",
   "language": "python",
   "name": "python2"
  },
  "language_info": {
   "codemirror_mode": {
    "name": "ipython",
    "version": 2
   },
   "file_extension": ".py",
   "mimetype": "text/x-python",
   "name": "python",
   "nbconvert_exporter": "python",
   "pygments_lexer": "ipython2",
   "version": "2.7.6"
  }
 },
 "nbformat": 4,
 "nbformat_minor": 2
}
