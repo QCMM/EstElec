{
 "cells": [
  {
   "cell_type": "code",
   "execution_count": 66,
   "metadata": {},
   "outputs": [],
   "source": [
    "import psi4\n",
    "import numpy as np"
   ]
  },
  {
   "cell_type": "code",
   "execution_count": 67,
   "metadata": {},
   "outputs": [
    {
     "data": {
      "text/plain": [
       "-74.94217609496508"
      ]
     },
     "execution_count": 67,
     "metadata": {},
     "output_type": "execute_result"
    }
   ],
   "source": [
    "psi4.set_memory(int(5e8))\n",
    "numpy_memory = 500\n",
    "\n",
    "# Output\n",
    "psi4.core.set_output_file('output.dat', False)\n",
    "\n",
    "# Geometría\n",
    "mol = psi4.geometry(\"\"\"\n",
    "0 1\n",
    "O\n",
    "H 1 1.1\n",
    "H 1 1.1 2 104\n",
    "symmetry c1\n",
    "\"\"\")\n",
    "\n",
    "# Opciones de calculo\n",
    "psi4.set_options({'basis': 'sto-3g',\n",
    "                  'e_convergence': 1e-8})\n",
    "\n",
    "psi4.energy('scf/sto-3g')"
   ]
  },
  {
   "cell_type": "code",
   "execution_count": 68,
   "metadata": {
    "collapsed": true
   },
   "outputs": [],
   "source": [
    "wfn = psi4.core.Wavefunction.build(mol, psi4.core.get_global_option('basis')) # La base es la cc-pVTZ"
   ]
  },
  {
   "cell_type": "code",
   "execution_count": 69,
   "metadata": {},
   "outputs": [
    {
     "name": "stdout",
     "output_type": "stream",
     "text": [
      "5\n"
     ]
    }
   ],
   "source": [
    "ndocc = wfn.nalpha()\n",
    "print ndocc "
   ]
  },
  {
   "cell_type": "code",
   "execution_count": 70,
   "metadata": {
    "collapsed": true
   },
   "outputs": [],
   "source": [
    "mints = psi4.core.MintsHelper(wfn.basisset())"
   ]
  },
  {
   "cell_type": "code",
   "execution_count": 71,
   "metadata": {
    "collapsed": true
   },
   "outputs": [],
   "source": [
    "S = np.asarray(mints.ao_overlap())"
   ]
  },
  {
   "cell_type": "code",
   "execution_count": 72,
   "metadata": {},
   "outputs": [
    {
     "name": "stdout",
     "output_type": "stream",
     "text": [
      "[[  1.00000000e+00   2.36703937e-01   1.85455958e-18   0.00000000e+00\n",
      "    0.00000000e+00   3.84055921e-02   3.84055921e-02]\n",
      " [  2.36703937e-01   1.00000000e+00  -2.46744544e-17   0.00000000e+00\n",
      "    0.00000000e+00   3.86138791e-01   3.86138791e-01]\n",
      " [  1.85455958e-18  -2.46744544e-17   1.00000000e+00   0.00000000e+00\n",
      "    0.00000000e+00   2.09726922e-01   2.09726922e-01]\n",
      " [  0.00000000e+00   0.00000000e+00   0.00000000e+00   1.00000000e+00\n",
      "    0.00000000e+00   0.00000000e+00   0.00000000e+00]\n",
      " [  0.00000000e+00   0.00000000e+00   0.00000000e+00   0.00000000e+00\n",
      "    1.00000000e+00  -2.68438218e-01   2.68438218e-01]\n",
      " [  3.84055921e-02   3.86138791e-01   2.09726922e-01   0.00000000e+00\n",
      "   -2.68438218e-01   1.00000000e+00   1.81759850e-01]\n",
      " [  3.84055921e-02   3.86138791e-01   2.09726922e-01   0.00000000e+00\n",
      "    2.68438218e-01   1.81759850e-01   1.00000000e+00]]\n",
      "(7, 7)\n"
     ]
    }
   ],
   "source": [
    "print S\n",
    "ns = S.shape\n",
    "print ns"
   ]
  },
  {
   "cell_type": "code",
   "execution_count": 73,
   "metadata": {},
   "outputs": [],
   "source": [
    "# s=U†SU\n",
    "\n",
    "#print np.linalg.inv(S)"
   ]
  },
  {
   "cell_type": "code",
   "execution_count": 74,
   "metadata": {},
   "outputs": [
    {
     "name": "stdout",
     "output_type": "stream",
     "text": [
      "[ 0.4342222   0.51876471  0.88574533  1.          1.10010419  1.29947545\n",
      "  1.76168813]\n",
      "[[ -2.28285727e-01  -4.41755501e-17   6.89095241e-01   7.08616733e-16\n",
      "    6.46555590e-01   5.60490322e-17  -2.34519179e-01]\n",
      " [  6.86047831e-01   9.90217602e-17  -2.77399261e-01   7.39072324e-17\n",
      "    3.24108016e-01   5.36637579e-17  -5.89357293e-01]\n",
      " [  3.20745206e-01   1.16149898e-16   6.24726096e-01   5.14123272e-17\n",
      "   -6.54330903e-01  -6.94025151e-18  -2.80518961e-01]\n",
      " [  5.55111512e-17  -8.32667268e-16   5.55111512e-16  -1.00000000e+00\n",
      "    5.55111512e-16  -1.66533454e-16   2.77555756e-17]\n",
      " [ -9.58554527e-17   6.19349131e-01  -3.39613907e-17  -2.04640354e-16\n",
      "    1.07065465e-16  -7.85115694e-01  -1.56127499e-17]\n",
      " [ -4.32635247e-01   5.55160632e-01  -1.70168600e-01  -8.93888835e-16\n",
      "   -1.56158464e-01   4.37945971e-01  -5.09395646e-01]\n",
      " [ -4.32635247e-01  -5.55160632e-01  -1.70168600e-01   4.38378794e-16\n",
      "   -1.56158464e-01  -4.37945971e-01  -5.09395646e-01]]\n"
     ]
    }
   ],
   "source": [
    "evals, evecs=np.linalg.eigh(S)\n",
    "print evals\n",
    "print evecs"
   ]
  },
  {
   "cell_type": "code",
   "execution_count": 75,
   "metadata": {},
   "outputs": [
    {
     "name": "stdout",
     "output_type": "stream",
     "text": [
      "1.51755342394\n",
      "1.38840059036\n",
      "1.06254067489\n",
      "1.0\n",
      "0.953417435349\n",
      "0.877235020942\n",
      "0.753417123459\n",
      "[[ 1.51755342  0.          0.          0.          0.          0.          0.        ]\n",
      " [ 0.          1.38840059  0.          0.          0.          0.          0.        ]\n",
      " [ 0.          0.          1.06254067  0.          0.          0.          0.        ]\n",
      " [ 0.          0.          0.          1.          0.          0.          0.        ]\n",
      " [ 0.          0.          0.          0.          0.95341744  0.          0.        ]\n",
      " [ 0.          0.          0.          0.          0.          0.87723502\n",
      "   0.        ]\n",
      " [ 0.          0.          0.          0.          0.          0.\n",
      "   0.75341712]]\n"
     ]
    }
   ],
   "source": [
    "#  S−1/2=Us−1/2U†\n",
    "\n",
    "\n",
    "evalsm = np.zeros([7,7])\n",
    "\n",
    "\n",
    "for i in range(7):\n",
    "    evalsm[i,i] = np.sqrt(1/evals[i])\n",
    "    print evalsm[i,i]\n",
    "print evalsm   \n",
    "    \n",
    "#a = np.sqrt(1/evalsm)\n",
    "#print a"
   ]
  },
  {
   "cell_type": "code",
   "execution_count": 76,
   "metadata": {},
   "outputs": [
    {
     "name": "stdout",
     "output_type": "stream",
     "text": [
      "[[  1.02363458e+00  -1.36854677e-01  -7.48725460e-03   1.58875997e-17\n",
      "    5.09824719e-19   1.90278846e-02   1.90278846e-02]\n",
      " [ -1.36854677e-01   1.15786316e+00   7.21600488e-02  -2.05210120e-17\n",
      "   -1.58015709e-18  -2.22332519e-01  -2.22332519e-01]\n",
      " [ -7.48725460e-03   7.21600488e-02   1.03830504e+00  -8.08376169e-18\n",
      "   -2.80362274e-17  -1.18462544e-01  -1.18462544e-01]\n",
      " [  1.58875997e-17  -2.05210120e-17  -8.08376169e-18   1.00000000e+00\n",
      "   -3.96677394e-16  -4.20135358e-17   3.72924546e-17]\n",
      " [  5.09824719e-19  -1.58015709e-18  -2.80362274e-17  -3.96677394e-16\n",
      "    1.07331473e+00   1.75758277e-01  -1.75758277e-01]\n",
      " [  1.90278846e-02  -2.22332519e-01  -1.18462544e-01  -4.20135358e-17\n",
      "    1.75758277e-01   1.12972338e+00  -6.25974971e-02]\n",
      " [  1.90278846e-02  -2.22332519e-01  -1.18462544e-01   3.72924546e-17\n",
      "   -1.75758277e-01  -6.25974971e-02   1.12972338e+00]]\n"
     ]
    }
   ],
   "source": [
    "s= (evecs).dot(evalsm).dot(np.transpose(evecs))\n",
    "print s"
   ]
  },
  {
   "cell_type": "code",
   "execution_count": 77,
   "metadata": {},
   "outputs": [
    {
     "name": "stdout",
     "output_type": "stream",
     "text": [
      "[[ -3.25773953e+01  -7.57883280e+00  -1.44738337e-02   0.00000000e+00\n",
      "   -6.43964973e-19  -1.24010201e+00  -1.24010201e+00]\n",
      " [ -7.57883280e+00  -9.20094320e+00  -1.76890222e-01   0.00000000e+00\n",
      "    1.67204880e-19  -2.90670939e+00  -2.90670939e+00]\n",
      " [ -1.44738337e-02  -1.76890222e-01  -7.41531168e+00   0.00000000e+00\n",
      "    6.82624227e-18  -1.35686809e+00  -1.35686809e+00]\n",
      " [  0.00000000e+00   0.00000000e+00   0.00000000e+00  -7.34714481e+00\n",
      "    0.00000000e+00   0.00000000e+00   0.00000000e+00]\n",
      " [ -6.43964973e-19   1.67204880e-19   6.82624227e-18   0.00000000e+00\n",
      "   -7.45881923e+00   1.67514994e+00  -1.67514994e+00]\n",
      " [ -1.24010201e+00  -2.90670939e+00  -1.35686809e+00   0.00000000e+00\n",
      "    1.67514994e+00  -4.54017079e+00  -1.07114562e+00]\n",
      " [ -1.24010201e+00  -2.90670939e+00  -1.35686809e+00   0.00000000e+00\n",
      "   -1.67514994e+00  -1.07114562e+00  -4.54017079e+00]]\n",
      "(7, 7)\n"
     ]
    }
   ],
   "source": [
    "T = np.asarray(mints.ao_kinetic())\n",
    "V = np.asarray(mints.ao_potential())\n",
    "H = T + V\n",
    "\n",
    "print H\n",
    "print H.shape\n",
    "# h core ocupados\n",
    "\n",
    "#HOc = np.zeros([5,5])\n",
    "\n",
    "#for u in range(5):\n",
    "#    for v in range(5):\n",
    "#        HOc[u][v]=H[u][v]\n",
    "#print HOc\n",
    "#print HOc.shape"
   ]
  },
  {
   "cell_type": "code",
   "execution_count": 78,
   "metadata": {},
   "outputs": [
    {
     "name": "stdout",
     "output_type": "stream",
     "text": [
      "(7, 7, 7, 7)\n"
     ]
    }
   ],
   "source": [
    "I = np.asarray(mints.ao_eri())\n",
    "#I=np.zeros([5,5,5,5])\n",
    "print I.shape"
   ]
  },
  {
   "cell_type": "code",
   "execution_count": 79,
   "metadata": {},
   "outputs": [
    {
     "name": "stdout",
     "output_type": "stream",
     "text": [
      "[[ -3.22545865e+01  -2.79149095e+00   8.61097720e-03  -4.90739532e-16\n",
      "    1.53615285e-17  -1.81296593e-01  -1.81296593e-01]\n",
      " [ -2.79149095e+00  -8.23688906e+00  -2.28292544e-01   2.72751477e-16\n",
      "   -1.66289017e-16  -3.85798618e-01  -3.85798618e-01]\n",
      " [  8.61097720e-03  -2.28292544e-01  -7.45702941e+00   1.25308013e-16\n",
      "    4.80417612e-16  -1.10219579e-01  -1.10219579e-01]\n",
      " [ -4.90739532e-16   2.72751477e-16   1.25308013e-16  -7.34714481e+00\n",
      "    5.76229454e-15   2.11928430e-16  -1.07537555e-16]\n",
      " [ -6.85899853e-18  -1.51981423e-16   4.82308957e-16   5.76229454e-15\n",
      "   -7.54288894e+00   1.13212042e-01  -1.13212042e-01]\n",
      " [ -1.81296593e-01  -3.85798618e-01  -1.10219579e-01   2.11928430e-16\n",
      "    1.13212042e-01  -4.03295454e+00  -4.46465956e-02]\n",
      " [ -1.81296593e-01  -3.85798618e-01  -1.10219579e-01  -1.07537555e-16\n",
      "   -1.13212042e-01  -4.46465956e-02  -4.03295454e+00]]\n"
     ]
    }
   ],
   "source": [
    "# F′=S†−1/2FS−1/2\n",
    "\n",
    "Fprima = np.transpose(s).dot(H).dot(s)\n",
    "#print np.transpose(s)\n",
    "#print H\n",
    "#print s\n",
    "print Fprima"
   ]
  },
  {
   "cell_type": "code",
   "execution_count": 80,
   "metadata": {},
   "outputs": [
    {
     "name": "stdout",
     "output_type": "stream",
     "text": [
      "[-32.57830284  -8.0815356   -7.55008589  -7.36396917  -7.34714481\n",
      "  -4.00229854  -3.981111  ]\n",
      "[[ -9.93397459e-01   1.06813566e-01   1.17706073e-16   4.17010424e-02\n",
      "    1.29794220e-15  -3.65697240e-03   2.35810312e-16]\n",
      " [ -1.14180122e-01  -9.13965568e-01  -1.01046253e-15  -3.67704763e-01\n",
      "   -1.13054352e-14   1.28152435e-01  -8.78724951e-15]\n",
      " [ -7.66151194e-04  -3.68538377e-01   2.66038526e-15   9.28905591e-01\n",
      "    2.77480079e-14   3.62392153e-02  -2.32259433e-15]\n",
      " [ -1.80518827e-17   2.49390602e-16   1.76351989e-14   2.99904703e-14\n",
      "   -1.00000000e+00  -3.07224100e-16   5.55111512e-17]\n",
      " [ -1.25361970e-18  -2.62983609e-17  -9.98991226e-01   2.85109506e-15\n",
      "   -1.76615058e-14  -2.96601319e-15  -4.49058018e-02]\n",
      " [ -7.86768533e-03  -9.33736219e-02   3.17531970e-02  -9.71167823e-03\n",
      "    2.79026503e-16  -7.00803217e-01  -7.06393470e-01]\n",
      " [ -7.86768533e-03  -9.33736219e-02  -3.17531970e-02  -9.71167823e-03\n",
      "   -4.98129614e-16  -7.00803217e-01   7.06393470e-01]]\n"
     ]
    }
   ],
   "source": [
    "# F′C′=C′ϵ\n",
    "\n",
    "evalsfp,evecsfp=np.linalg.eigh(Fprima)\n",
    "print evalsfp\n",
    "print evecsfp"
   ]
  },
  {
   "cell_type": "code",
   "execution_count": 213,
   "metadata": {},
   "outputs": [
    {
     "name": "stdout",
     "output_type": "stream",
     "text": [
      "[[ -1.00154358e+00   2.33624458e-01   2.37415419e-16   8.56842075e-02\n",
      "    2.64800713e-15  -4.82226014e-02   3.21752040e-15]\n",
      " [  7.18933081e-03  -1.05793876e+00  -9.90386254e-16  -3.60110464e-01\n",
      "   -1.11962440e-14   4.63121170e-01  -3.07290374e-14]\n",
      " [  2.67129877e-04  -4.27284240e-01   2.72378657e-15   9.39942475e-01\n",
      "    2.80194169e-14   2.12940090e-01  -1.40181422e-14]\n",
      " [ -3.14481549e-17   2.73263113e-16   1.80289579e-14   2.99912153e-14\n",
      "   -1.00000000e+00  -3.06896418e-16   1.29345501e-16]\n",
      " [  9.83917242e-18   6.98941325e-17  -1.06107023e+00   3.04782649e-15\n",
      "   -1.84230853e-14  -1.95176918e-14  -2.96507057e-01]\n",
      " [ -1.82134849e-03   1.49253288e-01  -1.37720977e-01  -3.78578936e-02\n",
      "   -3.46457449e-15  -7.80700281e-01  -8.50140250e-01]\n",
      " [ -1.82134849e-03   1.49253288e-01   1.37720977e-01  -3.78578936e-02\n",
      "    1.73781172e-15  -7.80700281e-01   8.50140250e-01]]\n"
     ]
    }
   ],
   "source": [
    "# C=S−1/2C′\n",
    "\n",
    "c = (s).dot(evecsfp)\n",
    "print c"
   ]
  },
  {
   "cell_type": "code",
   "execution_count": 214,
   "metadata": {},
   "outputs": [
    {
     "name": "stdout",
     "output_type": "stream",
     "text": [
      "[[ -1.00154358e+00   2.33624458e-01   2.37415419e-16   8.56842075e-02\n",
      "    2.64800713e-15]\n",
      " [  7.18933081e-03  -1.05793876e+00  -9.90386254e-16  -3.60110464e-01\n",
      "   -1.11962440e-14]\n",
      " [  2.67129877e-04  -4.27284240e-01   2.72378657e-15   9.39942475e-01\n",
      "    2.80194169e-14]\n",
      " [ -3.14481549e-17   2.73263113e-16   1.80289579e-14   2.99912153e-14\n",
      "   -1.00000000e+00]\n",
      " [  9.83917242e-18   6.98941325e-17  -1.06107023e+00   3.04782649e-15\n",
      "   -1.84230853e-14]\n",
      " [ -1.82134849e-03   1.49253288e-01  -1.37720977e-01  -3.78578936e-02\n",
      "   -3.46457449e-15]\n",
      " [ -1.82134849e-03   1.49253288e-01   1.37720977e-01  -3.78578936e-02\n",
      "    1.73781172e-15]]\n"
     ]
    }
   ],
   "source": [
    "# coeficientes ocupados\n",
    "def coeoc(c):\n",
    "    cocc =np.zeros([7,5])\n",
    "    for u in range(7):\n",
    "        for v in range(5):\n",
    "            cocc[u][v]=c[u][v]\n",
    "#cocc = c[:, :ndocc]\n",
    "    return cocc\n",
    "cosa = coeoc(c)\n",
    "print cosa     "
   ]
  },
  {
   "cell_type": "code",
   "execution_count": 215,
   "metadata": {},
   "outputs": [
    {
     "name": "stdout",
     "output_type": "stream",
     "text": [
      "[[  1.06501171e+00  -2.85216576e-01  -1.95533652e-02   1.71040356e-17\n",
      "    1.57107846e-17   3.34495548e-02   3.34495548e-02]\n",
      " [ -2.85216576e-01   1.24896564e+00   1.13559358e-01   1.06771780e-16\n",
      "   -1.20557818e-16  -1.44280908e-01  -1.44280908e-01]\n",
      " [ -1.95533652e-02   1.13559358e-01   1.06606375e+00   5.38307923e-17\n",
      "   -5.52092940e-17  -9.93583065e-02  -9.93583065e-02]\n",
      " [  1.71040356e-17   1.06771780e-16   5.38307923e-17   1.00000000e+00\n",
      "   -7.06905047e-16  -1.12952743e-16  -3.49407565e-16]\n",
      " [  1.57107846e-17  -1.20557818e-16  -5.52092940e-17  -7.06905047e-16\n",
      "    1.12587002e+00   1.46131628e-01  -1.46131628e-01]\n",
      " [  3.34495548e-02  -1.44280908e-01  -9.93583065e-02  -1.12952743e-16\n",
      "    1.46131628e-01   4.26801489e-02   4.74601384e-03]\n",
      " [  3.34495548e-02  -1.44280908e-01  -9.93583065e-02  -3.49407565e-16\n",
      "   -1.46131628e-01   4.74601384e-03   4.26801489e-02]]\n"
     ]
    }
   ],
   "source": [
    "# D=2∑i=1N/2CμiCνi con orbitales ocupados\n",
    "\n",
    "def matden(c): #D espin restricted\n",
    "    D=np.zeros([7,7]) \n",
    "#    D = np.einsum('pi,qi->pq', cocc, cocc)\n",
    "#    for u in range(7):\n",
    "    cocc = coeoc(c)\n",
    "#        for v in range(5):\n",
    "#            D[u][v]=cocc[u][v]*cocc[u][v]\n",
    "#    D = np.einsum('uv,uv',cocc,cocc)\n",
    "    D = np.einsum('pi,qi->pq', cocc, cocc) \n",
    "#            print D[u][v]\n",
    "#D[u][v]= 2*D[u][v]\n",
    "#print D\n",
    "#    D[0][0]= 2*(c[0][0]*c[0][0]) #D11 \n",
    "#    D[0][1]= 2*(c[0][0]*c[1][0]) #D12\n",
    "#    D[1][0]= 2*(c[1][0]*c[0][0]) #D21\n",
    "#    D[1][1]= 2*(c[1][0]*c[1][0]) #D22\n",
    "    return D\n",
    "matd = matden(c)\n",
    "print matd\n",
    "#C_occ = c[:, :ndocc]\n",
    "#D = np.einsum('pi,qi->pq', C_occ, C_occ)\n",
    "#print D"
   ]
  },
  {
   "cell_type": "code",
   "execution_count": 120,
   "metadata": {
    "collapsed": true
   },
   "outputs": [],
   "source": []
  },
  {
   "cell_type": "code",
   "execution_count": 216,
   "metadata": {},
   "outputs": [
    {
     "name": "stdout",
     "output_type": "stream",
     "text": [
      "[[ -1.88132695e+01  -4.87268754e+00  -1.15289841e-02  -2.42031638e-17\n",
      "   -8.99232170e-18  -8.06732109e-01  -8.06732109e-01]\n",
      " [ -4.87268754e+00  -1.79090281e+00  -1.80869163e-01   2.48420604e-17\n",
      "   -4.32008820e-17  -5.79055589e-01  -5.79055589e-01]\n",
      " [ -1.15289841e-02  -1.80869163e-01   2.39124727e-01   1.44597150e-17\n",
      "    4.02196692e-17  -1.82868255e-01  -1.82868255e-01]\n",
      " [ -2.42031638e-17   2.48420604e-17   1.44597150e-17   3.09107107e-01\n",
      "    4.86614875e-16  -4.94502704e-17   2.21309540e-16]\n",
      " [ -8.34180040e-18  -3.97314351e-17   4.71585631e-17   4.86614875e-16\n",
      "    1.93964427e-01   1.70888614e-01  -1.70888614e-01]\n",
      " [ -8.06732109e-01  -5.79055589e-01  -1.82868255e-01  -4.94502704e-17\n",
      "    1.70888614e-01  -1.45033704e-01  -1.84667413e-01]\n",
      " [ -8.06732109e-01  -5.79055589e-01  -1.82868255e-01   2.21309540e-16\n",
      "   -1.70888614e-01  -1.84667413e-01  -1.45033704e-01]]\n"
     ]
    }
   ],
   "source": [
    "def Fockn(D):\n",
    "#    F = np.zeros([5,5])\n",
    "    matd = matden(c)\n",
    "    D = matd\n",
    "#    D=np.zeros([7,7])\n",
    "#    DI_ein = np.einsum('ls,uvls',D,I)# notacion de einstein\n",
    "#    DII_ein = np.einsum('ls,ulvs',D,I)\n",
    "    \n",
    "    J = np.einsum('pqrs,rs->pq', I, D)\n",
    "    K = np.einsum('prqs,rs->pq', I, D)\n",
    "    \n",
    "#    J = DI_ein\n",
    "#    K = DII_ein\n",
    "#for u in range(2):\n",
    "#    for v in range(2):\n",
    "#        HD[u][v] = H[u][v] +  D[u][v]*((ERI[u][0][v][0]) - 0.5*(ERI[u][0][0][v]))\n",
    "    F = H +  2*J - K     \n",
    "#        F11 = F11 + HD[u][v]\n",
    "    \n",
    "    return(F) \n",
    "F = Fockn(D)\n",
    "print F"
   ]
  },
  {
   "cell_type": "code",
   "execution_count": 217,
   "metadata": {},
   "outputs": [
    {
     "name": "stdout",
     "output_type": "stream",
     "text": [
      "-73.2857964423\n"
     ]
    }
   ],
   "source": [
    "D = np.zeros([7,7])\n",
    "#MAXITER = 40\n",
    "# Criterio de Convergencia para la energía.\n",
    "#E_conv = 1.0e-6\n",
    "# Energía de repulsión nucelo-nucleo\n",
    "E_nuc = mol.nuclear_repulsion_energy()\n",
    "# ERHFtotal=ERHFelec+EBOnuc\n",
    "# ERHFelec=(Fμν+Hμν)Dμν\n",
    "\n",
    "F = Fockn(D)\n",
    "#print F\n",
    "#FH = F + H\n",
    "#print FH\n",
    "#cocc = coeoc(c)\n",
    "\n",
    "D = matden(c)\n",
    "#FHD_ein = np.einsum('ls,ls',FH,D)\n",
    "SCF = np.einsum('pq,pq->', (H + F), D) + E_nuc\n",
    "#SCF_E = np.einsum('pq,pq->', (H + F), D) + E_nuc\n",
    "#D = matden(c)\n",
    "#print FHD_ein\n",
    "# Compute RHF energy\n",
    "#SCF_E = FHD_ein + E_nuc\n",
    "print SCF\n",
    "#SCF_E_old = SCF_E\n",
    "#print E_nuc"
   ]
  },
  {
   "cell_type": "code",
   "execution_count": null,
   "metadata": {},
   "outputs": [],
   "source": []
  },
  {
   "cell_type": "code",
   "execution_count": 218,
   "metadata": {},
   "outputs": [
    {
     "name": "stdout",
     "output_type": "stream",
     "text": [
      "1 -73.2857964423 1.6561755226\n",
      "2 -74.8281252507 -1.54232880839\n",
      "3 -74.9354879585 -0.1073627078\n",
      "4 -74.9414777107 -0.00598975223595\n",
      "5 -74.9419719649 -0.000494254174995\n",
      "6 -74.9420560303 -8.40653735423e-05\n",
      "7 -74.942074388 -1.83577415669e-05\n",
      "8 -74.9420786165 -4.22850536097e-06\n",
      "9 -74.942079599 -9.82501319413e-07\n",
      "10 -74.9420798277 -2.28664418955e-07\n",
      "11 -74.9420798809 -5.32337907089e-08\n",
      "12 -74.9420798933 -1.23936132468e-08\n",
      "13 -74.9420798962 -2.88540036308e-09\n"
     ]
    }
   ],
   "source": [
    "MAXITER = 40\n",
    "E_conv = 1.0e-8\n",
    "\n",
    "for scf_iter in range(1, MAXITER + 1):\n",
    "#print HD\n",
    "#    Fnueva = np.transpose(s).dot(F).dot(s)\n",
    "    J = np.einsum('pqrs,rs->pq', I, D)\n",
    "    K = np.einsum('prqs,rs->pq', I, D)\n",
    "    F = H + 2*J - K\n",
    "#    F = Fockn(D)\n",
    "\n",
    "    SCF_E = np.einsum('pq,pq->', (H + F), D) + E_nuc\n",
    "    \n",
    "\n",
    "    F_p =  s.dot(F).dot(s)\n",
    "    evalsfn,evecsfn = np.linalg.eigh(F_p)\n",
    "#    e, C_p = np.linalg.eigh(F_p)\n",
    "    c = s.dot(evecsfn)\n",
    "    C_occ = c[:, :ndocc]\n",
    "    D = np.einsum('pi,qi->pq', C_occ, C_occ)\n",
    "    \n",
    "#    Fnueva = s.dot(F).dot(s)\n",
    "#print Fnueva\n",
    "\n",
    "#    evalsfn,evecsfn=np.linalg.eig(Fnueva)\n",
    "\n",
    "#    c = (s).dot(evecsfn)\n",
    "#    c = CN\n",
    "\n",
    "\n",
    "#    D = matden(c)\n",
    "#print matd\n",
    "#D = matd\n",
    "#\n",
    "#    F = Fockn(D)\n",
    "#    F = fokn\n",
    "#print F\n",
    "#    SCF_E = np.einsum('pq,pq->', (H + F), D) + E_nuc\n",
    "\n",
    "\n",
    "# pruebo convergencia\n",
    "\n",
    "    dif_SCF = SCF_E - SCF_E_old \n",
    "    print scf_iter, SCF_E , dif_SCF\n",
    "\n",
    "    if (abs(dif_SCF) < E_conv):\n",
    "        break\n",
    "    SCF_E_old =  SCF_E\n",
    "\n",
    "\n",
    "#FHD_ein = np.einsum('uv,uv',FH,D)\n",
    "\n",
    "#SCF_E = np.einsum('pq,pq->', (H + F), D) + E_nuc\n",
    "\n",
    "#print FHD_ein\n",
    "# Compute RHF energy\n",
    "#SCF_E = FHD_ein + E_nuc\n",
    "#print SCF_E\n"
   ]
  },
  {
   "cell_type": "code",
   "execution_count": null,
   "metadata": {
    "collapsed": true
   },
   "outputs": [],
   "source": []
  },
  {
   "cell_type": "code",
   "execution_count": null,
   "metadata": {
    "collapsed": true
   },
   "outputs": [],
   "source": []
  },
  {
   "cell_type": "code",
   "execution_count": null,
   "metadata": {
    "collapsed": true
   },
   "outputs": [],
   "source": []
  }
 ],
 "metadata": {
  "kernelspec": {
   "display_name": "Python 2",
   "language": "python",
   "name": "python2"
  },
  "language_info": {
   "codemirror_mode": {
    "name": "ipython",
    "version": 2
   },
   "file_extension": ".py",
   "mimetype": "text/x-python",
   "name": "python",
   "nbconvert_exporter": "python",
   "pygments_lexer": "ipython2",
   "version": "2.7.13"
  }
 },
 "nbformat": 4,
 "nbformat_minor": 2
}
