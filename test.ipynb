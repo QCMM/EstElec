{
 "cells": [
  {
   "cell_type": "markdown",
   "metadata": {},
   "source": [
    "## Hartree Fock en el átomo de Helio\n"
   ]
  },
  {
   "cell_type": "code",
   "execution_count": 5,
   "metadata": {
    "collapsed": true
   },
   "outputs": [],
   "source": [
    "import numpy as np"
   ]
  },
  {
   "cell_type": "markdown",
   "metadata": {},
   "source": [
    "\n",
    "\n",
    "En este laboratorio vamos a implementar una rutina que permita obtener\n",
    "la energía hartree-fock del átomo de helio a través de las ecuaciones\n",
    "de Roothan. Para eso vamos a expresar el orbital 1s del helio en terminos\n",
    "de dos funciones bases:\n",
    "\n",
    "\\begin{equation}\n",
    "\\phi_1(r) = 2\\alpha_1^{3/2}e^{-\\alpha_1 r}Y^0_0, \\qquad \\phi_2(r) = 2\\alpha_2^{3/2}*e^{-\\alpha_2 r}Y^0_0,\n",
    "\\end{equation}\n",
    "\n",
    "Los exponentes $ \\alpha $ son:\n",
    "\n",
    "\\begin{equation}\n",
    "\\alpha_1 = 1.45 \\qquad \\alpha_2 = 2.91\n",
    "\\end{equation}"
   ]
  },
  {
   "cell_type": "code",
   "execution_count": 6,
   "metadata": {
    "collapsed": true
   },
   "outputs": [],
   "source": [
    "#alpha_1 = 1.45\n",
    "#alpha_2 = 2.91\n",
    "\n",
    "alpha_1 = 1.453\n",
    "alpha_2 = 2.911"
   ]
  },
  {
   "cell_type": "markdown",
   "metadata": {},
   "source": [
    "El primer paso para el calculo Hartree-Fock-Roothaan es calcular la matriz de solapamiento($S_{\\mu\\nu}$)\n",
    "y del Hamiltoniano de core ($H^{core}_{\\mu\\nu}$):\n",
    "\n",
    "Es fácil verificar que la integral de solpamiento esta dada por:\n",
    "\n",
    "\\begin{equation}\n",
    "S_{12} = S_{21} = \\frac{8\\alpha_1^{3/2}\\alpha_2^{3/2}}{(\\alpha_1+\\alpha_2)^3}\n",
    "\\end{equation}\n",
    "\n",
    "y\n",
    "\\begin{equation}\n",
    "S_{11} = S_{22} = 1\n",
    "\\end{equation}\n"
   ]
  },
  {
   "cell_type": "code",
   "execution_count": 7,
   "metadata": {},
   "outputs": [
    {
     "name": "stdout",
     "output_type": "stream",
     "text": [
      "[[1, 0.8373316183566577], [0.8373316183566577, 1]]\n",
      "[[ 3.34587187 -2.8016043 ]\n",
      " [-2.8016043   3.34587187]]\n"
     ]
    }
   ],
   "source": [
    "S_12 = (8.0*alpha_1**(3./2.)*alpha_2**(3./2.))/(alpha_1+alpha_2)**(3.0)\n",
    "S_21 = S_12\n",
    "S_11 = 1\n",
    "S_22 = S_11\n",
    "\n",
    "S = np.array = ([[S_11,S_12],[S_21,S_22]])\n",
    "print S\n",
    "print np.linalg.inv(S)"
   ]
  },
  {
   "cell_type": "markdown",
   "metadata": {},
   "source": [
    "Los elemento diagonales del Hamiltoniano de core estan dado por:\n",
    "\n",
    "\\begin{equation}\n",
    "H_{ii} =  0.5\\alpha_i^2 - 2\\alpha_i \n",
    "\\end{equation}\n",
    "\n",
    "y los elementos fuera de la diagonal son:\n",
    "\n",
    "\\begin{equation}\n",
    "H_{12} = H_{21} = \\frac{\\alpha_1^{3/2}\\alpha_2^{3/2}(4\\alpha_1\\alpha_2 - 8\\alpha_1-8\\alpha_2)}{(\\alpha_1 + \\alpha_2)^3}\n",
    "\\end{equation}\n"
   ]
  },
  {
   "cell_type": "code",
   "execution_count": 8,
   "metadata": {},
   "outputs": [
    {
     "name": "stdout",
     "output_type": "stream",
     "text": [
      "[[-1.8503955, -1.8832915267456327], [-1.8832915267456327, -1.5850394999999997]]\n"
     ]
    }
   ],
   "source": [
    "H_11 = 0.5*alpha_1**2 - 2*alpha_1\n",
    "H_22 = 0.5*alpha_2**2 - 2*alpha_2\n",
    "H_12 = 4*alpha_1**(3./2.)*alpha_2**(3./2.)*(alpha_1*alpha_2 - 2.0*alpha_1 - 2.0*alpha_2)/(alpha_1+alpha_2)**3.\n",
    "H_21 = H_12\n",
    "H = np.array = ([[H_11,H_12],[H_21,H_22]])\n",
    "\n",
    "print H"
   ]
  },
  {
   "cell_type": "markdown",
   "metadata": {},
   "source": [
    "Para poder calcular la matriz de Fock, necesitamos calcular las integrales de dos electrones:\n",
    "\n",
    "# Ejercicio 1:\n",
    "\n",
    "Determine las integrales únicas $<\\mu\\lambda|\\nu\\sigma>$  de dos electrones para el átomo de He con dos funciones base.\n",
    "\n"
   ]
  },
  {
   "cell_type": "code",
   "execution_count": 9,
   "metadata": {},
   "outputs": [
    {
     "name": "stdout",
     "output_type": "stream",
     "text": [
      "[[[[ 0.908125    0.90555707]\n",
      "   [ 0.90555707  1.18448063]]\n",
      "\n",
      "  [[ 0.90555707  0.95615818]\n",
      "   [ 0.95615818  1.30001249]]]\n",
      "\n",
      "\n",
      " [[[ 0.90555707  0.95615818]\n",
      "   [ 0.95615818  1.30001249]]\n",
      "\n",
      "  [[ 1.18448063  1.30001249]\n",
      "   [ 1.30001249  1.819375  ]]]]\n"
     ]
    }
   ],
   "source": [
    "# Integrales de dos electrones:\n",
    "eri1=5./8.*alpha_1 #<11|11>\n",
    "eri2=5./8.*alpha_2 #<22|22>\n",
    "eri3=(alpha_1**4*alpha_2+4*alpha_1**3*alpha_2**2+4*alpha_1**2*alpha_2**3+alpha_1*alpha_2**4)/(alpha_1+alpha_2)**4 #<12|12 >\n",
    "eri4=20*alpha_1**3*alpha_2**3/(alpha_1+alpha_2)**5 #<11|22>\n",
    "eri5=16*alpha_1**(9./2.)*alpha_2**(3./2.)/(3*alpha_1+alpha_2)**4*((12*alpha_1+8*alpha_2)/(alpha_1+alpha_2)**2+(9.*alpha_1+alpha_2)/(2.*alpha_1**2))#<11|12>\n",
    "eri6=16*alpha_2**(9./2.)*alpha_1**(3./2.)/(3*alpha_2+alpha_1)**4*((12*alpha_2+8*alpha_1)/(alpha_2+alpha_1)**2+(9.*alpha_2+alpha_1)/(2.*alpha_2**2))#<22|21>\n",
    "ERI=np.empty([2,2,2,2])\n",
    "    # Construción del tensor de dos electrones\n",
    "ERI[0][0][0][0]=eri1\n",
    "ERI[1][1][1][1]=eri2\n",
    "ERI[0][0][1][1]=eri3\n",
    "ERI[1][1][0][0]=eri3\n",
    "ERI[0][1][0][1]=eri4\n",
    "ERI[1][0][0][1]=eri4\n",
    "ERI[0][1][1][0]=eri4\n",
    "ERI[1][0][1][0]=eri4\n",
    "ERI[0][0][0][1]=eri5\n",
    "ERI[0][0][1][0]=eri5\n",
    "ERI[0][1][0][0]=eri5\n",
    "ERI[1][0][0][0]=eri5\n",
    "ERI[0][1][1][1]=eri6\n",
    "ERI[1][1][0][1]=eri6\n",
    "ERI[1][0][1][1]=eri6\n",
    "ERI[1][1][1][0]=eri6\n",
    "\n",
    "print ERI\n"
   ]
  },
  {
   "cell_type": "markdown",
   "metadata": {},
   "source": [
    "Para poder emepzar con la iteración, debemos pasar a la base ortogonal de las funciones base y así tratar\n",
    "la ecuación matricial de Hartree-Fock-Roothaan como un problema de valores propios. Procedemos a diagonalizar la matriz de solapamiento y obtener la matriz diagonal s.\n",
    "\n",
    "\n",
    "\\begin{equation}\n",
    "\\Large\n",
    "\\mathbf{s} = \\mathbf{U^{\\dagger}}\\mathbf{S}\\mathbf{U}\n",
    "\\end{equation}\n",
    "\n",
    "\n",
    "Ahora que es una matriz diagonal, le podemos calcular el inverso de la raiz cuadrada: $\\quad\\mathbf{s^{-1/2}}$\n",
    "\n",
    "\n",
    "Finalmente construimos la matriz de transformación de base $ \\mathbf{S^{-1/2}} $ en \n",
    "la base original, utilizando la matriz de vecotres propios $\\mathbf{U}$ de \n",
    "transformación de base.\n",
    "\n",
    "\\begin{equation}\n",
    "\\Large\n",
    "\\mathbf{S^{-1/2}} = \\mathbf{U}\\mathbf{s^{-1/2}}\\mathbf{U^{\\dagger}}\n",
    "\\end{equation}"
   ]
  },
  {
   "cell_type": "code",
   "execution_count": 10,
   "metadata": {
    "scrolled": true
   },
   "outputs": [
    {
     "name": "stdout",
     "output_type": "stream",
     "text": [
      "[ 1.83733162  0.16266838]\n",
      "[[ 0.73774492  0.        ]\n",
      " [ 0.          2.47941045]]\n",
      "[[ 1.  0.]\n",
      " [ 0.  1.]]\n",
      "[[ 1.60857768 -0.87083277]\n",
      " [-0.87083277  1.60857768]]\n"
     ]
    }
   ],
   "source": [
    "evals, evecs = np.linalg.eig(S)\n",
    "\n",
    "print evals\n",
    "s_12 = np.linalg.inv(np.identity(2)*np.sqrt(evals))\n",
    "print s_12\n",
    "\n",
    "U = evecs\n",
    "print U.dot(np.transpose(U))\n",
    "S_12 = U.dot(s_12).dot(np.transpose(U))\n",
    "\n",
    "print S_12\n"
   ]
  },
  {
   "cell_type": "markdown",
   "metadata": {
    "collapsed": true
   },
   "source": [
    "Ahora podemos formar la matriz de Fock, que en la primer iteración es la matriz del Hamiltoniano\n",
    "core:\n",
    "\n",
    "\n",
    "\n",
    "\\begin{equation}\n",
    "\\Large\n",
    "\\mathbf{F} = \\mathbf{H^{core}}\n",
    "\\end{equation}\n",
    "\n",
    "Para poder solucionar el problema de valores propios debemos transformar la matriz de Fock\n",
    "a la base de orbitales ortogonales:\n",
    "\n",
    "\n",
    "\n",
    "\\begin{equation}\n",
    "\\Large\n",
    "\\mathbf{F^{'}} = \\mathbf{S^{\\dagger -1/2}}\\mathbf{F}\\mathbf{S^{-1/2}}\n",
    "\\end{equation}\n",
    "\n",
    "\n",
    "En esta base se cumple que:\n",
    "\n",
    "\n",
    "\n",
    "\\begin{equation}\n",
    "\\Large\n",
    "\\mathbf{F^{'}C^{'}} = \\mathbf{C^{'}\\epsilon}\n",
    "\\end{equation}\n",
    "\n",
    "\n",
    "Para obtener los coeficientes en la base original debemos transformar de vuelta:\n",
    "\n",
    "\n",
    "\n",
    "\\begin{equation}\n",
    "\\Large\n",
    "\\mathbf{C} = \\mathbf{S^{-1/2}}\\mathbf{C^{'}}\n",
    "\\end{equation}\n"
   ]
  },
  {
   "cell_type": "code",
   "execution_count": 11,
   "metadata": {},
   "outputs": [
    {
     "name": "stdout",
     "output_type": "stream",
     "text": [
      "[[-0.71371595 -1.48888739]\n",
      " [-1.48888739 -0.22833407]]\n"
     ]
    }
   ],
   "source": [
    "F_init = H\n",
    "\n",
    "def F_trans(F,S_12):\n",
    "    F_p = (np.transpose(S_12)).dot(F).dot(S_12)\n",
    "    return F_p\n",
    "F_p = F_trans(F_init,S_12)\n",
    "print F_p"
   ]
  },
  {
   "cell_type": "code",
   "execution_count": 12,
   "metadata": {},
   "outputs": [
    {
     "name": "stdout",
     "output_type": "stream",
     "text": [
      "[[-0.76186558  0.64773516]\n",
      " [-0.64773516 -0.76186558]]\n"
     ]
    }
   ],
   "source": [
    "C_p = np.linalg.eig(F_p)[1]\n",
    "\n",
    "print C_p"
   ]
  },
  {
   "cell_type": "markdown",
   "metadata": {},
   "source": [
    "Con los coeficientes en la base original, es posible caluclar la matriz densidad. Nótese \n",
    "que la sum para construir la matriz densidad es sobre los electrones y no sobre las funciones base:\n",
    "\n",
    "\n",
    "\\begin{equation}\n",
    "\\Large\n",
    "\\mathbf{D} = 2\\sum_{i=1}^{N/2} C_{\\mu i}C_{\\nu i} \n",
    "\\end{equation}\n"
   ]
  },
  {
   "cell_type": "code",
   "execution_count": 13,
   "metadata": {
    "collapsed": true
   },
   "outputs": [],
   "source": [
    "C = S_12.dot(C_p)"
   ]
  },
  {
   "cell_type": "code",
   "execution_count": 14,
   "metadata": {},
   "outputs": [
    {
     "name": "stdout",
     "output_type": "stream",
     "text": [
      "[[ 0.87503477  0.50068506]\n",
      " [ 0.50068506  0.28648637]]\n"
     ]
    }
   ],
   "source": [
    "def densityM(C):\n",
    "    D=np.empty([2,2])\n",
    "    for i in range(2):\n",
    "        for j in range(2):\n",
    "            D[i][j] = C[i][0]*C[j][0]\n",
    "    return 2*D\n",
    "\n",
    "D_init = densityM(C)\n",
    "print D_init\n",
    "#D_init = [[0.9583,0.4791],[0.4791, 0.2396]]\n",
    "#print D"
   ]
  },
  {
   "cell_type": "markdown",
   "metadata": {},
   "source": [
    "Ahora podemos calcular la energía Hartree-Fock inicial:\n",
    "\n",
    "\\begin{equation}\n",
    "\\Large\n",
    "E_{HF} = 0.5\\sum_{\\mu \\nu}^{AO} D_{\\mu \\nu}(H_{\\mu \\nu} + F_{\\mu \\nu})\n",
    "\\end{equation}"
   ]
  },
  {
   "cell_type": "code",
   "execution_count": 15,
   "metadata": {},
   "outputs": [
    {
     "name": "stdout",
     "output_type": "stream",
     "text": [
      "[-1.9795622359078635]\n"
     ]
    }
   ],
   "source": [
    "def energy(H,F,D):\n",
    "    e = 0.5*(np.einsum('rs,rs',D,H) + np.einsum('rs,rs',D,F))\n",
    "    return e\n",
    "E = []\n",
    "F_0 = np.zeros((2,2))\n",
    "E.append(energy(H,F_0,D_init))\n",
    "print E"
   ]
  },
  {
   "cell_type": "markdown",
   "metadata": {},
   "source": [
    "Con los coeficientes nuevos podemos construir la matriz de Fock inicial, esta vez utliziando las integrales de repulsión electrónica: \n",
    "\n",
    "\\begin{equation}\n",
    "\\Large\n",
    "D_{\\lambda \\sigma} = \\sum_{\\mu \\nu}^{AO} H_{\\mu \\nu} + D_{\\mu \\nu}(<\\mu\\sigma|\\nu\\lambda> - 0.5<\\mu\\sigma|\\lambda\\nu>)\n",
    "\\end{equation}\n"
   ]
  },
  {
   "cell_type": "code",
   "execution_count": 16,
   "metadata": {},
   "outputs": [
    {
     "name": "stdout",
     "output_type": "stream",
     "text": [
      "[[-0.79730172 -0.87930134]\n",
      " [-0.87930134 -0.05540369]]\n"
     ]
    }
   ],
   "source": [
    "def Fock(H,D,ERI):\n",
    "    G = np.einsum('tu,rstu -> rs',D,ERI) - 0.5*np.einsum('tu,ruts -> rs',D,ERI)\n",
    "    F = H + G\n",
    "    return F\n",
    "\n",
    "F = Fock(H,D_init,ERI)\n",
    "print F\n"
   ]
  },
  {
   "cell_type": "markdown",
   "metadata": {},
   "source": [
    "Con esta matriz de Fock repetimos los pasos anteriores para obtener una nueva energía electrónica:"
   ]
  },
  {
   "cell_type": "code",
   "execution_count": 17,
   "metadata": {},
   "outputs": [
    {
     "name": "stdout",
     "output_type": "stream",
     "text": [
      "[-1.9795622359078635, -2.8615011475233865]\n"
     ]
    }
   ],
   "source": [
    "F = Fock(H,D_init,ERI)\n",
    "F_t = F_trans(F,S_12)\n",
    "C_t = np.linalg.eig(F_t)[1]\n",
    "C = S_12.dot(C_t)\n",
    "D = densityM(C)\n",
    "F = Fock(H,D,ERI)\n",
    "E.append(energy(H,F,D))\n",
    "print E\n",
    "\n"
   ]
  },
  {
   "cell_type": "markdown",
   "metadata": {},
   "source": [
    "Finalmente, iteramos hasta alcanzar convergencia."
   ]
  },
  {
   "cell_type": "code",
   "execution_count": 18,
   "metadata": {},
   "outputs": [
    {
     "name": "stdout",
     "output_type": "stream",
     "text": [
      "0.881938911616\n",
      "iteration number: 1\n",
      "0.881938911616\n",
      "-2.86150114752\n",
      "Iteration sucessfull! The Final Energy is: -2.86150114752 hartrees\n"
     ]
    }
   ],
   "source": [
    "i = 1\n",
    "#while (i != 10):\n",
    "E_thresh = 1e-8\n",
    "print abs(E[i] - E[i-1])\n",
    "while (float(abs(E[i] - E[i-1])) > E_thresh):\n",
    "#while (i != 10 ):\n",
    "    print(\"iteration number: \"+str(i))\n",
    "    print(str(E[i-1] - E[i]))\n",
    "    F = Fock(H,D_init,ERI)\n",
    "    F_t = F_trans(F,S_12)\n",
    "    C_t = np.linalg.eig(F_t)[1]\n",
    "    C = S_12.dot(C_t)\n",
    "    D = densityM(C)\n",
    "    F = Fock(H,D,ERI)\n",
    "    E.append(energy(H,F,D))\n",
    "    print energy(H,F,D)\n",
    "    i += 1\n",
    "else:\n",
    "    print(\"Iteration sucessfull! The Final Energy is: \"+ str(E[-1])+' hartrees')\n",
    "    "
   ]
  },
  {
   "cell_type": "code",
   "execution_count": null,
   "metadata": {
    "collapsed": true
   },
   "outputs": [],
   "source": []
  },
  {
   "cell_type": "code",
   "execution_count": null,
   "metadata": {
    "collapsed": true
   },
   "outputs": [],
   "source": []
  },
  {
   "cell_type": "code",
   "execution_count": null,
   "metadata": {
    "collapsed": true
   },
   "outputs": [],
   "source": []
  }
 ],
 "metadata": {
  "kernelspec": {
   "display_name": "Python 2",
   "language": "python",
   "name": "python2"
  },
  "language_info": {
   "codemirror_mode": {
    "name": "ipython",
    "version": 2
   },
   "file_extension": ".py",
   "mimetype": "text/x-python",
   "name": "python",
   "nbconvert_exporter": "python",
   "pygments_lexer": "ipython2",
   "version": "2.7.13"
  }
 },
 "nbformat": 4,
 "nbformat_minor": 2
}
