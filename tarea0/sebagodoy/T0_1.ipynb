{
 "cells": [
  {
   "cell_type": "markdown",
   "metadata": {},
   "source": [
    "<h1>Tarea 0</h1>\n",
    "Sebastian Godoy Gutiérrez"
   ]
  },
  {
   "cell_type": "markdown",
   "metadata": {},
   "source": [
    "<h3>Parte 1: Función de onda</h3>\n",
    "\n",
    "<h4>1.1.- Normalización de $\\Psi_{1s}=N\\cdot\\exp(-\\alpha r^{2})$</h4>\n",
    "<p>Como condición debe cumplirse que $<\\Phi_{1s}\\vert\\Phi_{1s}>\\overset{!}{=}1$ en la integración sobre todo el volumen.En coordenadas polares esféricas, desde el elemento de volumen $d\\tau=r^2\\sin{\\theta}\\ dr\\ d\\theta\\  d\\phi$:\n",
    "    </p>\n",
    "$$\n",
    "\\int_V \\Phi_{1s}^{*}\\cdot \\Phi_{1s} d\\tau=\\cdot \\left(\\int_V \\left(N \\exp(-\\alpha r^{2})\\right)^{*}\\cdot N \\exp(-\\alpha r^{2}) \\right)\n",
    "=N^2\\cdot\\int _{r,\\theta,\\phi} \\exp (-2 \\alpha r^2)\\cdot r^2\\sin{\\theta}\\ dr\\ d\\theta\\  d\\phi\n",
    "$$\n",
    "$$\n",
    "=N^2\\cdot(2\\pi)\\left(-\\cos{\\theta}\\right)\\vert_{0}^{\\pi}\\cdot\\int_{\\mathbb{R}}r^2\\cdot \\exp(-2\\alpha r^2) \\ dr\n",
    "=N^2\\cdot (4\\pi)\\cdot \\left( \\frac{\\sqrt{\\pi / 2}}{8 \\alpha^{3/2}} \\right)=N^2 \\cdot\\left( \\frac{\\pi}{2\\alpha}\\right)^{3/2}\n",
    "$$\n",
    "<p>(Integral obtenida de <a href=https://www.wolframalpha.com/input/?i=integrate+r%5E2+exp(-2(r%5E2)%5Calpha)+from+0+to+infty>Wolfram alpha</a>)</p>\n",
    "Obligando $<\\Phi_{1s}\\vert\\Phi_{1s}>\\overset{!}{=}1$\n",
    "$$\n",
    "N^2\\cdot \\left( \\frac{\\pi}{2\\alpha}\\right)^{3/2} =1\\Rightarrow N^2=\\left( \\frac{2\\alpha}{\\pi}\\right)^{3/2}\n",
    "$$"
   ]
  },
  {
   "cell_type": "markdown",
   "metadata": {},
   "source": [
    "<h4>1.2.- Expresión para la energía eléctrónica desde $\\Phi_{1s}$</h4>\n",
    "<p>Al usarse $\\Phi_{1s}$, desde el hamiltoniano $\\hat{H}_{el}$ puede pasar a considerarse el valor esperado de energía, $<E>$</p>\n",
    "<p>Para el sistema atómico de hidrógeno, al considerar el campo potencial central atractivo entre el electrón $(e^-)$ y el núcleo el valor esperado del hamiltoniano pasa a expresarse:</p>\n",
    "$$\n",
    "<E>=<\\Phi_{1s}\\vert \\hat{H}\\ \\vert\\ \\Phi_{1s}>\n",
    "=\\int_{V}\\Phi_{1s}^*\\cdot \\left(-\\frac{\\hbar^2}{2m}\\nabla^2 \\Phi_{1s} +V\\Phi_{1s}\\right)\\ d\\tau\n",
    "$$\n",
    "<p>En donde</p>\n",
    "<ul>\n",
    "    <li>Para $\\Phi_{1s}$ ya normalizada con el $N$ anterior (por ello, denominador $<\\Phi_{1s}\\vert\\Phi_{1s}>\\overset{!}{=}1$).</li>\n",
    "    <li>El potencial se considera a la forma típica:\n",
    "$V(\\Phi_{1s})=-Z(e^-)^2/r$, con $Z=1$ para el caso presente.</li>\n",
    "    <li>Tambien, operando en coordenadas polares, para la función de onda $\\Phi_{1s}(r)$, el laplaciano reduce a: \n",
    "$\\nabla^2=\\nabla_{r}^{2}=\\frac{1}{r^2}\\frac{\\partial}{\\partial r}\\left( r^2 \\frac{\\partial}{\\partial r} \\right)$</li>\n",
    "</ul>\n",
    "\n",
    "Integrando para la función de onda $\\Phi_{1s}=N\\cdot \\exp{(-\\alpha r^2)}$ sobre $d\\tau=r^2\\sin{\\theta}\\ dr\\ d\\theta\\  d\\phi$, las partes en $\\theta$ y $\\phi$ solo aportan el factor $(4\\pi)$. Factorizando la constante de normalización antes obtenida, $N=\\sqrt{(2\\alpha/\\pi)^{3/2}}$:\n",
    "$$\n",
    "<E>=(4\\pi)\\left( \\frac{2\\alpha}{\\pi}\\right)^{3/2}\\cdot\n",
    "    \\int_{0}^{^+\\infty}\n",
    "        \\exp{(-\\alpha r^2)}^{*}\\cdot\n",
    "        \\left(-\\frac{\\hbar^2}{2m}\\nabla^2 \\left(\\exp{(-\\alpha r^2)}\\right)\n",
    "        -\\frac{Z(e^-)^2}{r} \\cdot \\left(\\exp{(-\\alpha r^2)}\\right) \\right)\\ r^2 \\ dr\n",
    "$$\n",
    ".\n",
    "$$\n",
    "=(4\\pi)\\left( \\frac{2\\alpha}{\\pi}\\right)^{3/2}\\cdot\n",
    "\\left[\n",
    "-\\frac{\\hbar^2}{2m}\n",
    "    \\left(\n",
    "        \\int_{0}^{^+\\infty}\n",
    "            \\exp{(-\\alpha r^2)}\\cdot\n",
    "            \\nabla^2 \\exp{(-\\alpha r^2)}\n",
    "            \\cdot r^2\\ dr\n",
    "    \\right)_{A}\n",
    "    -\n",
    "    \\left(\n",
    "        \\int_{0}^{^+\\infty}\n",
    "        \\left(\\exp{(-\\alpha r^2)}\\right)\\cdot\n",
    "        \\frac{Z(e^-)^2}{r}\\ \n",
    "        \\left(\\exp{(-\\alpha r^2)}\\right)\n",
    "        \\cdot r^2 \\ dr\n",
    "    \\right)_{B}\n",
    "\\right]\n",
    "$$\n",
    ".\n",
    "$$\n",
    "=(4\\pi)\\left( \\frac{2\\alpha}{\\pi}\\right)^{3/2}\\cdot\n",
    "\\left[\n",
    "-\\frac{\\hbar^2}{2m}\n",
    "    \\left(\n",
    "        \\int_{0}^{^+\\infty}\n",
    "            \\exp{(-\\alpha r^2)}\\cdot\n",
    "            \\nabla^2 \\exp{(-\\alpha r^2)}\n",
    "            \\cdot r^2\\ dr\n",
    "    \\right)_{A}\n",
    "    -\n",
    "    \\left(\n",
    "        Z(e^-)^2\n",
    "    \\right)\n",
    "    \\left(\n",
    "        \\int_{0}^{^+\\infty}\n",
    "        r\\cdot \n",
    "        \\left(\\exp{(-2\\alpha r^2)}\\right)\n",
    "        \\ dr\n",
    "    \\right)_{B}\n",
    "\\right]\n",
    "$$\n",
    "\n",
    "<p>Por partes:</p>\n",
    "Primero la sección $A$, el laplaciano expande:\n",
    "$$\n",
    "\\nabla_{r}^{2}\\Phi_{1s}(r)\n",
    "=\\left( \\frac{2}{r} \\frac{\\partial}{\\partial r}+\\frac{\\partial^2}{\\partial r^2}\\right)\\ \\Phi_{1s}(r)\n",
    "=-4\\alpha \\exp{(-\\alpha r^2)}-2\\alpha \n",
    "        \\left(\n",
    "        \\exp{(-\\alpha r^2)}-2\\alpha r^2\\exp{(-\\alpha r^2)}\n",
    "        \\right)\n",
    "        =\\exp{(-\\alpha r^2)}\\cdot\\left(4\\alpha^2r^2-6\\alpha\\right)\n",
    "$$\n",
    "Con lo que se puede integrar:\n",
    "$$\n",
    "\\int_{0}^{^+\\infty}\n",
    "            \\exp{(-\\alpha r^2)}\\cdot\n",
    "            \\nabla^2 \\exp{(-\\alpha r^2)}\n",
    "            \\cdot r^2\\ dr\n",
    "=\\int_{0}^{^+\\infty}\n",
    "    r^2\\cdot \\exp{(-\\alpha r^2)}\\cdot \\exp{(-\\alpha r^2)}\\left(4\\alpha^2r^2-6\\alpha\\right)\n",
    "    =-\\left( \\frac{3}{8}\\right)\\sqrt{\\frac{\\pi}{2\\alpha}}\n",
    "$$\n",
    "\n",
    "(Integral obtenida de <a href=https://www.wolframalpha.com/input/?i=int+r%5E2+exp(-2%5Calpha+r%5E2)+(4+(r+%5Calpha)%5E2-6%5Calpha),+r+from+0+to+infty>Wolfram alpha</a>).\n",
    "\n",
    "<p>\n",
    "Segundo, la parte potencial integra\n",
    "</p>\n",
    "$$\n",
    "\\int_{0}^{^+\\infty}\n",
    "        r\\cdot \n",
    "        \\left(\\exp{(-2\\alpha r^2)}\\right)\n",
    "        \\ dr\n",
    "        =\\frac{1}{4\\alpha}\n",
    "$$\n",
    "(Integral obtenida de <a href=https://www.wolframalpha.com/input/?i=int+r+exp(-2%5Calpha+r%5E2),+r+from+0+to+infty>\n",
    "Wolfram alpha</a>).\n",
    "\n",
    "<p>Ahora volviendo a reunir:</p>\n",
    "\n",
    "$$\n",
    "<E>=(4\\pi)\\left( \\frac{2\\alpha}{\\pi}\\right)^{3/2}\\cdot\n",
    "\\left[\n",
    "-\\frac{\\hbar^2}{2m}\n",
    "    \\left(\n",
    "        -\\left( \\frac{3}{8}\\right)\\sqrt{\\frac{\\pi}{2\\alpha}}\n",
    "    \\right)_{A}\n",
    "    -\n",
    "    \\left(\n",
    "        Z(e^-)^2\n",
    "    \\right)\n",
    "    \\left(\n",
    "        \\frac{1}{4\\alpha}\n",
    "    \\right)_{B}\n",
    "\\right]\n",
    "$$\n",
    ".\n",
    "$$\n",
    "=(4\\pi)\\left(\\frac{2\\alpha}{\\pi}\\right)^{3/2}\\cdot\n",
    "    \\frac{\\hbar^2}{2m}\\left(\\frac{3}{8}\\right)\\sqrt{\\frac{\\pi}{2\\alpha}}\n",
    "    +\n",
    "    (4\\pi)\\left(\\frac{2\\alpha}{\\pi}\\right)^{3/2}\\cdot\n",
    "    \\left(-Z(e^-)^2\\right)\\left(\\frac{1}{4\\alpha}\\right)\n",
    "$$\n",
    "finalmente\n",
    "$$\n",
    "=\\left(\\frac{3}{2}\\right)\\frac{\\hbar^2}{m}\\alpha-\\frac{2\\sqrt{2\\alpha}}{\\sqrt{\\pi}}\\left(Z(e^-)^2\\right)\n",
    "$$\n",
    "\n",
    "$$\\blacksquare$$\n",
    "<p>(Solución analizada y desarrollada de los <a href=http://hitoshi.berkeley.edu/221a/variational.pdf> apuntes </a> de Hitoshi Murayama, Berkeley)</p>"
   ]
  },
  {
   "cell_type": "markdown",
   "metadata": {},
   "source": [
    "<h4>1.3.- Mínima energía para $\\Phi_{1s}$</h4>\n",
    "\n",
    "<p>La minimización unidimensional se opera sobre el resultado anterior</p>\n",
    "$$\n",
    "\\frac{d}{d\\alpha}<E>_{(\\alpha)}\\overset{!}{=}0\\ \n",
    ";\\ \\frac{d^2}{d\\alpha^2}< E>_{(\\alpha)}\\overset{!}{\\geqslant}0\n",
    "$$\n",
    "$$\n",
    "\\frac{d}{d\\alpha}\\ \n",
    "    \\left[\n",
    "        \\left(\\frac{3}{2}\\right)\\frac{\\hbar^2}{m}\\alpha-\\frac{2\\sqrt{2\\alpha}}{\\sqrt{\\pi}}\\left(Z(e^-)^2\\right)\n",
    "    \\right]\n",
    "    =\\left[\\left(\\frac{3}{2}\\right)\\frac{\\hbar^2}{m}\\right]\n",
    "    -\\left[\\frac{2\\sqrt{2}}{\\sqrt{\\pi}}\\left(Z(e^-)^2\\right)\\right] \\cdot \\frac{1}{2}\\frac{1}{\\sqrt{\\alpha}}\n",
    "    \\overset{!}{=}0\n",
    "$$\n",
    "$$\n",
    "\\Rightarrow \\alpha_m=\\frac{2}{9\\pi}\\left(\\frac{Zm(e^-)^2}{\\hbar^2}\\right)^2\n",
    "\\dots \\exists ! \\alpha_m \\land \\alpha >0\n",
    "$$\n",
    "Asegurando mínimo:\n",
    "$$\n",
    "\\frac{d^2}{d\\alpha^2}\\ <E>_{(\\alpha)}\n",
    "=\\frac{d^2}{d\\alpha^2}\n",
    "    \\left[\n",
    "    -\\frac{2\\sqrt{2}}{\\sqrt{\\pi}}\\left(Z(e^-)^2\\right) \\cdot \\frac{1}{2}\\frac{1}{\\sqrt{\\alpha}}\n",
    "    \\right]\n",
    "    =\\frac{1}{2}\\frac{\\sqrt{2}}{\\pi}\\left( Z(e^-)^2\\right)\\cdot (\\alpha)^{-3/2}    \n",
    "$$\n",
    "Como $\\exists ! \\alpha_m \\land \\alpha >0$, se cumple que $\\left(d^2<E>/d\\alpha^2\\right)\\vert_{\\alpha_{m}}>0$, con lo cual $\\alpha_m$ otorga el mínimo valor de $\\left< E\\right>$\n",
    "\n",
    "\n"
   ]
  },
  {
   "cell_type": "markdown",
   "metadata": {},
   "source": [
    "<h3>Parte 2: Python</h3>\n",
    "\n",
    "<h4>2.1.- Trabajo con tarjeta de coordenadas</h4>\n",
    "<p>Primera parte, asimilación de datos en archivo</p>"
   ]
  },
  {
   "cell_type": "code",
   "execution_count": 12,
   "metadata": {},
   "outputs": [
    {
     "name": "stdout",
     "output_type": "stream",
     "text": [
      "Hi world\n"
     ]
    }
   ],
   "source": [
    "import sys, math\n",
    "import numpy as np\n",
    "import pandas as pd\n",
    "print(\"Hi world\")"
   ]
  },
  {
   "cell_type": "code",
   "execution_count": 13,
   "metadata": {},
   "outputs": [
    {
     "name": "stdout",
     "output_type": "stream",
     "text": [
      "No atomos: 7\n"
     ]
    }
   ],
   "source": [
    "#Read input file \n",
    "poscard = open(\"../acetaldehido.xyz\")\n",
    "lines=poscard.readlines()\n",
    "\n",
    "No_atms=int(lines[0])\n",
    "print(\"No atomos: \"+str(No_atms))"
   ]
  },
  {
   "cell_type": "code",
   "execution_count": 14,
   "metadata": {},
   "outputs": [
    {
     "name": "stdout",
     "output_type": "stream",
     "text": [
      "['6', '6', '8', '1', '1', '1', '1']\n"
     ]
    }
   ],
   "source": [
    "#Lista vector ID atomos\n",
    "Atms_list=[]\n",
    "for i in range(1,len(lines)):\n",
    "    Atms_list.append(lines[i][0])\n",
    "print(Atms_list)"
   ]
  },
  {
   "cell_type": "code",
   "execution_count": 15,
   "metadata": {},
   "outputs": [
    {
     "name": "stdout",
     "output_type": "stream",
     "text": [
      "Coordenadas\n",
      "          0         1         2\n",
      "0  0.000000  0.000000  0.000000\n",
      "1  0.000000  0.000000  2.845112\n",
      "2  1.899116  0.000000  4.139063\n",
      "3 -1.894048  0.000000  3.747689\n",
      "4  1.942501  0.000000 -0.701146\n",
      "5 -1.007295 -1.669972 -0.705917\n",
      "6 -1.007295  1.669972 -0.705917\n"
     ]
    },
    {
     "data": {
      "text/plain": [
       "7"
      ]
     },
     "execution_count": 15,
     "metadata": {},
     "output_type": "execute_result"
    }
   ],
   "source": [
    "#split lines: crea lista(listas) coords: mn, m=atomo, n=coordenadas x,y,z\n",
    "coords=[]\n",
    "for i in range(1,len(lines)):#master, separa línea\n",
    "    line_i=lines[i][1:].split()\n",
    "    for j in range(0,len(line_i)):#transforma líneas a float\n",
    "        line_i[j]=float(line_i[j])\n",
    "    coords.append(line_i) #en master, agrega línea a coords\n",
    "print(\"Coordenadas\")\n",
    "dfc=pd.DataFrame(coords)\n",
    "print(dfc)\n",
    "\n",
    "#type(coords[1][1]), matrix-like mn, m=atomo n(1:3)=xyz\n",
    "len(coords)#Cantidad de atomos concuerda"
   ]
  },
  {
   "cell_type": "markdown",
   "metadata": {},
   "source": [
    "<h4>2.2.- Distancias entre átomos </h4>\n",
    "\n",
    "Se consideran pares $a$ y $b$ átomos; $d(a,b)=d(b,a)$"
   ]
  },
  {
   "cell_type": "code",
   "execution_count": 16,
   "metadata": {
    "scrolled": true
   },
   "outputs": [
    {
     "name": "stdout",
     "output_type": "stream",
     "text": [
      "---\n",
      "Matrix elements:1-2\n",
      "atoms: 6-6\n",
      "distancia=2.845112131228 A°\n",
      "---\n",
      "Matrix elements:1-3\n",
      "atoms: 6-8\n",
      "distancia=4.553952134190177 A°\n",
      "---\n",
      "Matrix elements:1-4\n",
      "atoms: 6-1\n",
      "distancia=4.199117690516731 A°\n",
      "---\n",
      "Matrix elements:1-5\n",
      "atoms: 6-1\n",
      "distancia=2.06516709337994 A°\n",
      "---\n",
      "Matrix elements:1-6\n",
      "atoms: 6-1\n",
      "distancia=2.074070605594432 A°\n",
      "---\n",
      "Matrix elements:1-7\n",
      "atoms: 6-1\n",
      "distancia=2.074070605594432 A°\n",
      "---\n",
      "Matrix elements:2-3\n",
      "atoms: 6-8\n",
      "distancia=2.2980315627667816 A°\n",
      "---\n",
      "Matrix elements:2-4\n",
      "atoms: 6-1\n",
      "distancia=2.0981094841061805 A°\n",
      "---\n",
      "Matrix elements:2-5\n",
      "atoms: 6-1\n",
      "distancia=4.043421328649168 A°\n",
      "---\n",
      "Matrix elements:2-6\n",
      "atoms: 6-1\n",
      "distancia=4.0513279018371335 A°\n",
      "---\n",
      "Matrix elements:2-7\n",
      "atoms: 6-1\n",
      "distancia=4.0513279018371335 A°\n",
      "---\n",
      "Matrix elements:3-4\n",
      "atoms: 8-1\n",
      "distancia=3.8133015453137302 A°\n",
      "---\n",
      "Matrix elements:3-5\n",
      "atoms: 8-1\n",
      "distancia=4.840402943815032 A°\n",
      "---\n",
      "Matrix elements:3-6\n",
      "atoms: 8-1\n",
      "distancia=5.891507417089366 A°\n",
      "---\n",
      "Matrix elements:3-7\n",
      "atoms: 8-1\n",
      "distancia=5.891507417089366 A°\n",
      "---\n",
      "Matrix elements:4-5\n",
      "atoms: 1-1\n",
      "distancia=5.87462671115607 A°\n",
      "---\n",
      "Matrix elements:4-6\n",
      "atoms: 1-1\n",
      "distancia=4.838361266555049 A°\n",
      "---\n",
      "Matrix elements:4-7\n",
      "atoms: 1-1\n",
      "distancia=4.838361266555049 A°\n",
      "---\n",
      "Matrix elements:5-6\n",
      "atoms: 1-1\n",
      "distancia=3.3897089626416053 A°\n",
      "---\n",
      "Matrix elements:5-7\n",
      "atoms: 1-1\n",
      "distancia=3.3897089626416053 A°\n",
      "---\n",
      "Matrix elements:6-7\n",
      "atoms: 1-1\n",
      "distancia=3.339943685374 A°\n",
      "-------------------------------------------------------------------------- DISTANCES MATRIX\n",
      "     0         1         2         3         4         5         6\n",
      "0  0.0  2.845112  4.553952  4.199118  2.065167  2.074071  2.074071\n",
      "1  0.0  0.000000  2.298032  2.098109  4.043421  4.051328  4.051328\n",
      "2  0.0  0.000000  0.000000  3.813302  4.840403  5.891507  5.891507\n",
      "3  0.0  0.000000  0.000000  0.000000  5.874627  4.838361  4.838361\n",
      "4  0.0  0.000000  0.000000  0.000000  0.000000  3.389709  3.389709\n",
      "5  0.0  0.000000  0.000000  0.000000  0.000000  0.000000  3.339944\n",
      "6  0.0  0.000000  0.000000  0.000000  0.000000  0.000000  0.000000\n",
      "-------------------------------------------------------------------------- END DISTANCES\n"
     ]
    }
   ],
   "source": [
    "#Presenta\n",
    "dist_mat=[]#Crea matriz de distancias\n",
    "\n",
    "for m in range(0,len(coords)):#--------------------------------------------------------->selecciona átomo 1\n",
    "\n",
    "    #---------------------------------\n",
    "    #Crea línea en matriz de distancias, llena ceros necesarios por fila\n",
    "    dist_line_m=[]\n",
    "    for j in range(0,m+1):\n",
    "        dist_line_m.append(0.0)#----->línea de distancias llena de ceros necesarios\n",
    "    #---------------------------------\n",
    "    \n",
    "    for n in range(m+1,len(coords)):#--------------------------------------------------->selecciona átomo 2\n",
    "        #----------------------------------------------\n",
    "        #Combinación atomo m con atomo n escogida        \n",
    "        #Inicia cálculo distancia\n",
    "        dist=0.0\n",
    "        for crd in range(0,3):\n",
    "            d_crd=(coords[m][crd]-coords[n][crd])**2 #Computa distancia^2 en coordenada\n",
    "            dist=dist+d_crd #Agrega distancia a cuenta\n",
    "        #end for distancia coordenadas^2\n",
    "        \n",
    "        dist=math.sqrt(dist) #calcula distancia entre átomos\n",
    "        #----------------------------------------------\n",
    "        \n",
    "        print(\"---\")\n",
    "        print(\"Matrix elements:\"+str(m+1)+\"-\"+str(n+1)) #elementos cero representados iniciando en 1\n",
    "        print(\"atoms: \"+Atms_list[m]+\"-\"+Atms_list[n])\n",
    "        print(\"distancia=\"+str(dist)+\" A°\")\n",
    "        dist_line_m.append(dist)#--->añade distancia a línea de distancias\n",
    "\n",
    "    #end loop átomo 2\n",
    "    dist_mat.append(dist_line_m)#----------->añade línea distancias respecto átomo1 a matriz\n",
    "#ned for element1\n",
    "print(\"-------------------------------------------------------------------------- DISTANCES MATRIX\")\n",
    "# como matriz: print(np.matrix(dist_mat))\n",
    "df=pd.DataFrame(dist_mat)\n",
    "print(df)\n",
    "print(\"-------------------------------------------------------------------------- END DISTANCES\")"
   ]
  },
  {
   "cell_type": "code",
   "execution_count": 17,
   "metadata": {},
   "outputs": [
    {
     "name": "stdout",
     "output_type": "stream",
     "text": [
      "8 1\n"
     ]
    },
    {
     "data": {
      "text/plain": [
       "5.891507417089366"
      ]
     },
     "execution_count": 17,
     "metadata": {},
     "output_type": "execute_result"
    }
   ],
   "source": [
    "#Atms_list contine  Z de atoms\n",
    "#dist_mat contiene matriz triang sup de distancias\n",
    "\n",
    "#Para consultar por distancia entre átomo A y B, llamar dist_mat[A-1][B-1]\n",
    "#Átomos 3 y 6\n",
    "print(Atms_list[2],Atms_list[5])\n",
    "#Distancias entre átomos 3 y 6\n",
    "dist_mat[2][5]\n",
    "#SAGG"
   ]
  },
  {
   "cell_type": "markdown",
   "metadata": {},
   "source": [
    "<h4>2.3.- Ángulo entre átomos (<b>NO TERMINADA</b>)</h4>\n",
    "\n",
    "Para cada pareja formada para distancias $d(a,b)$, un tercer átomo $c$; $b\\neq c\\neq a$ tomado como central permite formar el ángulo $\\angle acb$.\n",
    "Como $\\angle acb = \\angle bca$, basta tomar un par $(ab)$ de los usados para $d(a,b)$ y vincularlo a otro $b\\neq c\\neq a$"
   ]
  },
  {
   "cell_type": "code",
   "execution_count": 18,
   "metadata": {},
   "outputs": [
    {
     "name": "stdout",
     "output_type": "stream",
     "text": [
      "Coordenadas\n",
      "          0         1         2\n",
      "0  0.000000  0.000000  0.000000\n",
      "1  0.000000  0.000000  2.845112\n",
      "2  1.899116  0.000000  4.139063\n",
      "3 -1.894048  0.000000  3.747689\n",
      "4  1.942501  0.000000 -0.701146\n",
      "5 -1.007295 -1.669972 -0.705917\n",
      "6 -1.007295  1.669972 -0.705917\n",
      "\n",
      " Distancias\n",
      "     0         1         2         3         4         5         6\n",
      "0  0.0  2.845112  4.553952  4.199118  2.065167  2.074071  2.074071\n",
      "1  0.0  0.000000  2.298032  2.098109  4.043421  4.051328  4.051328\n",
      "2  0.0  0.000000  0.000000  3.813302  4.840403  5.891507  5.891507\n",
      "3  0.0  0.000000  0.000000  0.000000  5.874627  4.838361  4.838361\n",
      "4  0.0  0.000000  0.000000  0.000000  0.000000  3.389709  3.389709\n",
      "5  0.0  0.000000  0.000000  0.000000  0.000000  0.000000  3.339944\n",
      "6  0.0  0.000000  0.000000  0.000000  0.000000  0.000000  0.000000\n",
      "----------------------------\n"
     ]
    }
   ],
   "source": [
    "print(\"Coordenadas\"),print(dfc)#desde coords\n",
    "print(\"\\n Distancias\"),print(df)#desde dist_mat\n",
    "print(\"----------------------------\")\n",
    "for m in range(0,len(coords)):#--------------------------------------------------------->selecciona átomo 1\n",
    "    for n in range(m+1,len(coords)):#--------------------------------------------------->selecciona átomo 2\n",
    "        #print(str(m)+str(n))\n",
    "        \n",
    "        for o in range(0,len(coords)):#------------------------------------------------>Recorre átomos centrales\n",
    "            if o!=m and o!=n:#------------------------------>define triada posible de ángulo\n",
    "                #print(str(m)+str(o)+str(n))\n",
    "                #vectores Átomos m-o-n, coordenadas átomos\n",
    "                c_m=coords[m]\n",
    "                #print(c_m)\n",
    "                c_o=coords[o]\n",
    "                #print(c_o)\n",
    "                c_n=coords[n]\n",
    "                c_om=[]\n",
    "                c_on=[]\n",
    "                for ii in range(0,3):\n",
    "                    c_on.append(c_m[ii]-c_o[ii])\n",
    "                    #print(c_on)\n",
    "                    c_om.append(c_m[ii]-c_o[ii])\n",
    "                    #print(c_om)\n",
    "                #c_mo=[c_m[1]-c_o[1]]\n",
    "                \n",
    "                \n",
    "            #end if\n",
    "        #end center\n",
    "    #end atomo2\n",
    "#end atomo1"
   ]
  },
  {
   "cell_type": "code",
   "execution_count": 19,
   "metadata": {},
   "outputs": [
    {
     "name": "stdout",
     "output_type": "stream",
     "text": [
      ":)\n"
     ]
    }
   ],
   "source": [
    "print(\":)\")"
   ]
  },
  {
   "cell_type": "code",
   "execution_count": null,
   "metadata": {
    "collapsed": true
   },
   "outputs": [],
   "source": []
  }
 ],
 "metadata": {
  "kernelspec": {
   "display_name": "Python 3",
   "language": "python",
   "name": "python3"
  },
  "language_info": {
   "codemirror_mode": {
    "name": "ipython",
    "version": 3
   },
   "file_extension": ".py",
   "mimetype": "text/x-python",
   "name": "python",
   "nbconvert_exporter": "python",
   "pygments_lexer": "ipython3",
   "version": "3.6.1"
  }
 },
 "nbformat": 4,
 "nbformat_minor": 2
}
