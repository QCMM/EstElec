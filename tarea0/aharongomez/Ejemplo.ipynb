{
 "cells": [
  {
   "cell_type": "code",
   "execution_count": 29,
   "metadata": {
    "collapsed": false
   },
   "outputs": [
    {
     "name": "stdout",
     "output_type": "stream",
     "text": [
      "Hello World!\n"
     ]
    }
   ],
   "source": [
    "import sys, math\n",
    "import numpy as np\n",
    "\n",
    "print(\"Hello World!\")"
   ]
  },
  {
   "cell_type": "code",
   "execution_count": 30,
   "metadata": {
    "collapsed": false
   },
   "outputs": [
    {
     "name": "stdout",
     "output_type": "stream",
     "text": [
      "['7\\n', '6  0.000000000000     0.000000000000     0.000000000000\\n', '6  0.000000000000     0.000000000000     2.845112131228\\n', '8  1.899115961744     0.000000000000     4.139062527233\\n', '1 -1.894048308506     0.000000000000     3.747688672216\\n', '1  1.942500819960     0.000000000000    -0.701145981971\\n', '1 -1.007295466862    -1.669971842687    -0.705916966833\\n', '1 -1.007295466862     1.669971842687    -0.705916966833\\n']\n"
     ]
    }
   ],
   "source": [
    "f = open(\"../acetaldehido.xyz\")\n",
    "lines = f.readlines()\n",
    "print(lines)"
   ]
  },
  {
   "cell_type": "code",
   "execution_count": 32,
   "metadata": {
    "collapsed": false
   },
   "outputs": [
    {
     "name": "stdout",
     "output_type": "stream",
     "text": [
      "6  0.000000000000     0.000000000000     0.000000000000\n",
      "\n"
     ]
    }
   ],
   "source": [
    "f = open(\"../acetaldehido.xyz\")\n",
    "lines = f.readlines()\n",
    "print(lines[1])\n",
    "\n",
    "def get_xyz(lines):\n",
    "    x_coords = []\n",
    "    y_coords = []\n",
    "    z_coords = []\n",
    "    n_atoms = None\n",
    "    atom_list = []\n",
    "    n_atoms = lines[0]\n",
    "    print n_atoms\n",
    "    for i in range(1,len(lines)):\n",
    "        atom = lines[i].split()[0]\n",
    "        x    = lines[i].split()[1]\n",
    "        y    = lines[i].split()[2]\n",
    "        z    = lines[i].split()[3]\n",
    "        x_coords.append(float(x))\n",
    "        y_coords.append(float(y))\n",
    "        z_coords.append(float(z))\n",
    "        atom_list.append(int(atom))\n",
    "        \n",
    "    return(atom_list, x_coords, y_coords, z_coords, n_atoms)\n",
    "\n",
    "\n",
    "  "
   ]
  },
  {
   "cell_type": "code",
   "execution_count": 33,
   "metadata": {
    "collapsed": false
   },
   "outputs": [
    {
     "name": "stdout",
     "output_type": "stream",
     "text": [
      "7\n",
      "\n",
      "([6, 6, 8, 1, 1, 1, 1], [0.0, 0.0, 1.899115961744, -1.894048308506, 1.94250081996, -1.007295466862, -1.007295466862], [0.0, 0.0, 0.0, 0.0, 0.0, -1.669971842687, 1.669971842687], [0.0, 2.845112131228, 4.139062527233, 3.747688672216, -0.701145981971, -0.705916966833, -0.705916966833], '7\\n')\n"
     ]
    }
   ],
   "source": [
    "xyz = get_xyz(lines)\n",
    "\n",
    "print(xyz)"
   ]
  },
  {
   "cell_type": "code",
   "execution_count": 34,
   "metadata": {
    "collapsed": false
   },
   "outputs": [],
   "source": [
    "def distances(coords,n_atoms):\n",
    "    test = coords[2][0]\n",
    "    for i in range(0,int(n_atoms)):\n",
    "        for j in range(i+1,int(n_atoms)):\n",
    "            R_ij = math.sqrt((coords[1][i]-coords[1][j])**2 + (coords[2][i]-coords[2][j])**2 + (coords[3][i]-coords[3][j])**2)\n",
    "            print(str(i)+ \" \"+str(j))\n",
    "            print(R_ij)\n",
    "            print(\"------\")\n",
    "     \n",
    "    return(R_ij)\n",
    "    "
   ]
  },
  {
   "cell_type": "code",
   "execution_count": 35,
   "metadata": {
    "collapsed": false
   },
   "outputs": [
    {
     "name": "stdout",
     "output_type": "stream",
     "text": [
      "7\n",
      "\n",
      "[0.0, 0.0, 1.899115961744, -1.894048308506, 1.94250081996, -1.007295466862, -1.007295466862]\n"
     ]
    },
    {
     "ename": "NameError",
     "evalue": "name 'n_atoms' is not defined",
     "output_type": "error",
     "traceback": [
      "\u001b[0;31m---------------------------------------------------------------------------\u001b[0m",
      "\u001b[0;31mNameError\u001b[0m                                 Traceback (most recent call last)",
      "\u001b[0;32m<ipython-input-35-107a4f239a38>\u001b[0m in \u001b[0;36m<module>\u001b[0;34m()\u001b[0m\n\u001b[1;32m      2\u001b[0m \u001b[1;32mprint\u001b[0m\u001b[1;33m(\u001b[0m\u001b[0mxyz\u001b[0m\u001b[1;33m[\u001b[0m\u001b[1;36m1\u001b[0m\u001b[1;33m]\u001b[0m\u001b[1;33m)\u001b[0m\u001b[1;33m\u001b[0m\u001b[0m\n\u001b[1;32m      3\u001b[0m \u001b[1;33m\u001b[0m\u001b[0m\n\u001b[0;32m----> 4\u001b[0;31m \u001b[0mdis\u001b[0m \u001b[1;33m=\u001b[0m \u001b[0mdistances\u001b[0m\u001b[1;33m(\u001b[0m\u001b[0mxyz\u001b[0m\u001b[1;33m,\u001b[0m\u001b[0mn_atoms\u001b[0m\u001b[1;33m)\u001b[0m\u001b[1;33m\u001b[0m\u001b[0m\n\u001b[0m\u001b[1;32m      5\u001b[0m \u001b[1;32mprint\u001b[0m\u001b[1;33m(\u001b[0m\u001b[0mdis\u001b[0m\u001b[1;33m)\u001b[0m\u001b[1;33m\u001b[0m\u001b[0m\n",
      "\u001b[0;31mNameError\u001b[0m: name 'n_atoms' is not defined"
     ]
    }
   ],
   "source": [
    "xyz = get_xyz(lines)\n",
    "print(xyz[1])\n",
    "n_a= xyz\n",
    "\n",
    "dis = distances(xyz,n_atoms)\n",
    "print(dis)"
   ]
  }
 ],
 "metadata": {
  "anaconda-cloud": {},
  "kernelspec": {
   "display_name": "Python [default]",
   "language": "python",
   "name": "python2"
  },
  "language_info": {
   "codemirror_mode": {
    "name": "ipython",
    "version": 2
   },
   "file_extension": ".py",
   "mimetype": "text/x-python",
   "name": "python",
   "nbconvert_exporter": "python",
   "pygments_lexer": "ipython2",
   "version": "2.7.12"
  }
 },
 "nbformat": 4,
 "nbformat_minor": 1
}
